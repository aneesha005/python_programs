{
 "cells": [
  {
   "cell_type": "markdown",
   "id": "ff01f00c",
   "metadata": {},
   "source": [
    "# 1"
   ]
  },
  {
   "cell_type": "code",
   "execution_count": 121,
   "id": "30627b8c",
   "metadata": {},
   "outputs": [
    {
     "name": "stdout",
     "output_type": "stream",
     "text": [
      "enter the number:1\n",
      "value: 5\n"
     ]
    }
   ],
   "source": [
    "#1)\n",
    "x=int(input('enter the number:'))\n",
    "v=2*x**2+3\n",
    "print('value:',v)"
   ]
  },
  {
   "cell_type": "markdown",
   "id": "79c25187",
   "metadata": {},
   "source": [
    "# 2"
   ]
  },
  {
   "cell_type": "code",
   "execution_count": 5,
   "id": "4d8b2252",
   "metadata": {},
   "outputs": [
    {
     "name": "stdout",
     "output_type": "stream",
     "text": [
      "enter the 1st number:2\n",
      "enter the 2nd number:3\n",
      "sum: 13\n"
     ]
    }
   ],
   "source": [
    "#2)\n",
    "x=int(input('enter the 1st number:'))\n",
    "y=int(input('enter the 2nd number:'))\n",
    "s=x**2+y**2\n",
    "print('sum:',s)"
   ]
  },
  {
   "cell_type": "markdown",
   "id": "cf0109f0",
   "metadata": {},
   "source": [
    "# 3"
   ]
  },
  {
   "cell_type": "code",
   "execution_count": 7,
   "id": "aba1e857",
   "metadata": {},
   "outputs": [
    {
     "name": "stdout",
     "output_type": "stream",
     "text": [
      "enter the word:we\n",
      "characters: 2\n"
     ]
    }
   ],
   "source": [
    "#3)\n",
    "x=input('enter the word:')\n",
    "s=len(x)\n",
    "print('characters:',s)"
   ]
  },
  {
   "cell_type": "markdown",
   "id": "25315ed0",
   "metadata": {},
   "source": [
    "# 4"
   ]
  },
  {
   "cell_type": "code",
   "execution_count": 8,
   "id": "0dbd6c20",
   "metadata": {},
   "outputs": [
    {
     "name": "stdout",
     "output_type": "stream",
     "text": [
      "enter the age:24\n",
      "the year they will turn 100 years old: 2099\n"
     ]
    }
   ],
   "source": [
    "#4)\n",
    "a=int(input('enter the age:'))\n",
    "c=100-a\n",
    "year=2023+c\n",
    "print('the year they will turn 100 years old:',year)"
   ]
  },
  {
   "cell_type": "markdown",
   "id": "3aac4712",
   "metadata": {},
   "source": [
    "# 5"
   ]
  },
  {
   "cell_type": "code",
   "execution_count": 11,
   "id": "7736a5c4",
   "metadata": {},
   "outputs": [
    {
     "name": "stdout",
     "output_type": "stream",
     "text": [
      "enter the number:22\n",
      "enter the number:44\n",
      "enter the number:55\n",
      "the largest number is c: 55\n"
     ]
    }
   ],
   "source": [
    "#5)\n",
    "a=int(input('enter the number:'))\n",
    "b=int(input('enter the number:'))\n",
    "c=int(input('enter the number:'))\n",
    "if(a>b and a>c):\n",
    "    print('the largest number is a:',a)\n",
    "elif(b>a and b>c):\n",
    "    print('the largest number is b:',b)\n",
    "else:\n",
    "    print('the largest number is c:',c)"
   ]
  },
  {
   "cell_type": "markdown",
   "id": "e2f9ccdb",
   "metadata": {},
   "source": [
    "# 6"
   ]
  },
  {
   "cell_type": "code",
   "execution_count": 12,
   "id": "507addc6",
   "metadata": {},
   "outputs": [
    {
     "name": "stdout",
     "output_type": "stream",
     "text": [
      "enter the amount:3000\n",
      "enter the rate of intrest:20\n",
      "enter the year:2\n",
      "simple intrest: 1200.0\n",
      "the final amount: 4200.0\n"
     ]
    }
   ],
   "source": [
    "#6)\n",
    "p=float(input('enter the amount:'))\n",
    "r=float(input('enter the rate of intrest:'))\n",
    "n=float(input('enter the year:'))\n",
    "si=(p*n*r)/100\n",
    "a=p+si\n",
    "print('simple intrest:',si)\n",
    "print('the final amount:',a)"
   ]
  },
  {
   "cell_type": "markdown",
   "id": "f7bf5408",
   "metadata": {},
   "source": [
    "# 7"
   ]
  },
  {
   "cell_type": "code",
   "execution_count": 2,
   "id": "f21411d8",
   "metadata": {},
   "outputs": [
    {
     "name": "stdout",
     "output_type": "stream",
     "text": [
      "enter the radius of the circle:5\n",
      "The area of the circle: 31.400000000000002\n"
     ]
    }
   ],
   "source": [
    "#area\n",
    "radius=int(input('enter the radius of the circle:'))\n",
    "area=2*3.14*radius\n",
    "print('The area of the circle:',area)"
   ]
  },
  {
   "cell_type": "markdown",
   "id": "ca62de71",
   "metadata": {},
   "source": [
    "# 8"
   ]
  },
  {
   "cell_type": "code",
   "execution_count": 3,
   "id": "12df671a",
   "metadata": {},
   "outputs": [
    {
     "name": "stdout",
     "output_type": "stream",
     "text": [
      "result: 4.333333333333333\n"
     ]
    }
   ],
   "source": [
    "a=3\n",
    "b=2\n",
    "result=a+b-a*b/a**b\n",
    "print('result:',result)"
   ]
  },
  {
   "cell_type": "markdown",
   "id": "908d1637",
   "metadata": {},
   "source": [
    "# 9"
   ]
  },
  {
   "cell_type": "code",
   "execution_count": 5,
   "id": "366e085c",
   "metadata": {},
   "outputs": [
    {
     "name": "stdout",
     "output_type": "stream",
     "text": [
      "new sentence:\t aceg,new sentence:\t geca\n"
     ]
    }
   ],
   "source": [
    "s='abcdefgh'\n",
    "ns=s[::2]\n",
    "print('new sentence:\\t',ns,end=',')\n",
    "print('new sentence:\\t',ns[::-1])"
   ]
  },
  {
   "cell_type": "markdown",
   "id": "b649199a",
   "metadata": {},
   "source": [
    "# 10"
   ]
  },
  {
   "cell_type": "code",
   "execution_count": 7,
   "id": "0462a7f6",
   "metadata": {},
   "outputs": [
    {
     "name": "stdout",
     "output_type": "stream",
     "text": [
      "Temparature in fahrenheit: 82.4\n"
     ]
    }
   ],
   "source": [
    "c=28\n",
    "f=(9/5)*c+32\n",
    "print('Temparature in fahrenheit:',f)"
   ]
  },
  {
   "cell_type": "markdown",
   "id": "0babd2f0",
   "metadata": {},
   "source": [
    "# 11"
   ]
  },
  {
   "cell_type": "code",
   "execution_count": 14,
   "id": "dccebebe",
   "metadata": {},
   "outputs": [
    {
     "name": "stdout",
     "output_type": "stream",
     "text": [
      "enter the number:4\n",
      "enter the number:-6\n",
      "result: True\n",
      "result: False\n"
     ]
    }
   ],
   "source": [
    "n1=int(input('enter the number:'))\n",
    "n2=int(input('enter the number:'))\n",
    "a,b=n1>0,n2>0\n",
    "print('result:',a)\n",
    "print('result:',b)"
   ]
  },
  {
   "cell_type": "markdown",
   "id": "0b602b32",
   "metadata": {},
   "source": [
    "# 12"
   ]
  },
  {
   "cell_type": "code",
   "execution_count": 9,
   "id": "4a75c5f9",
   "metadata": {},
   "outputs": [],
   "source": [
    "def student_grade(c):\n",
    "    student_name=[]\n",
    "    student_mark=[]\n",
    "    for i in range (c):\n",
    "        name=input(f'enter the name{i+1}:')\n",
    "        mark=int(input(f'enter the mark:'))\n",
    "        student_name.append(name)\n",
    "        student_mark.append(mark)\n",
    "\n",
    "    \n",
    "    print('\\nresults')\n",
    "    for i in range(c):\n",
    "        name=student_name[i]\n",
    "        mark=student_mark[i]\n",
    "    \n",
    "    \n",
    "        if mark>=91 and mark<=100:\n",
    "            grade='A+'\n",
    "        elif mark>=81 and mark<=90:\n",
    "            grade='A'\n",
    "        elif mark>=71 and mark<=80:\n",
    "            grade='B+'\n",
    "        elif mark>=61 and mark<=70:\n",
    "            grade='B'\n",
    "        elif mark>=51 and mark<=60:\n",
    "            grade='C+'\n",
    "        elif mark>=41 and mark<=50:\n",
    "            grade='C'\n",
    "        elif mark>=31 and mark<=40:\n",
    "            grade='D'\n",
    "        else:\n",
    "            grade='F'\n",
    "        print(f\"{name:}:{grade}\")"
   ]
  },
  {
   "cell_type": "code",
   "execution_count": 10,
   "id": "d621cbd4",
   "metadata": {},
   "outputs": [
    {
     "name": "stdout",
     "output_type": "stream",
     "text": [
      "enter the name1:g\n",
      "enter the mark:55\n",
      "enter the name2:dd\n",
      "enter the mark:77\n",
      "enter the name3:w\n",
      "enter the mark:34\n",
      "enter the name4:t\n",
      "enter the mark:88\n",
      "enter the name5:p\n",
      "enter the mark:90\n",
      "\n",
      "results\n",
      "g:C+\n",
      "dd:B+\n",
      "w:D\n",
      "t:A\n",
      "p:A\n"
     ]
    }
   ],
   "source": [
    "student_grade(5)"
   ]
  },
  {
   "cell_type": "markdown",
   "id": "59f22225",
   "metadata": {},
   "source": [
    "# 13"
   ]
  },
  {
   "cell_type": "code",
   "execution_count": 4,
   "id": "6897c321",
   "metadata": {},
   "outputs": [
    {
     "name": "stdout",
     "output_type": "stream",
     "text": [
      "enter a number:3\n",
      "number is odd\n"
     ]
    }
   ],
   "source": [
    "n=int(input('enter a number:'))\n",
    "if n%2==0:\n",
    "    print('number is even')\n",
    "else:\n",
    "    print('number is odd')"
   ]
  },
  {
   "cell_type": "markdown",
   "id": "75fc2edc",
   "metadata": {},
   "source": [
    "# 14"
   ]
  },
  {
   "cell_type": "code",
   "execution_count": 11,
   "id": "fe121ffd",
   "metadata": {},
   "outputs": [
    {
     "name": "stdout",
     "output_type": "stream",
     "text": [
      "enter a number:4\n",
      "sum of numbers 1 to 4 is: 10\n"
     ]
    }
   ],
   "source": [
    "n=int(input('enter a number:'))\n",
    "count=1\n",
    "s=0\n",
    "while count<=n:\n",
    "    s+=count\n",
    "    count+=1\n",
    "print('sum of numbers 1 to',n,'is:',s)"
   ]
  },
  {
   "cell_type": "code",
   "execution_count": 152,
   "id": "da5d25eb",
   "metadata": {},
   "outputs": [
    {
     "name": "stdout",
     "output_type": "stream",
     "text": [
      "enter a number:4\n",
      "sum of numbers 1 to 4 is: 10.0\n"
     ]
    }
   ],
   "source": [
    "n=int(input('enter a number:'))\n",
    "s=n*(n+1)/2\n",
    "print('sum of numbers 1 to',n,'is:',s)"
   ]
  },
  {
   "cell_type": "code",
   "execution_count": 153,
   "id": "33c8e41b",
   "metadata": {},
   "outputs": [
    {
     "name": "stdout",
     "output_type": "stream",
     "text": [
      "enter the value:10\n",
      "enter the value:20\n",
      "sum of natural numbers from m to n: 165.0\n"
     ]
    }
   ],
   "source": [
    "m=int(input('enter the value:'))\n",
    "n=int(input('enter the value:'))\n",
    "if(m<=n):\n",
    "    s=(n-m+1)*(m+n)/2\n",
    "else:\n",
    "    s=(m-n+1)*(n+m)/2\n",
    "print('sum of natural numbers from m to n:',s)"
   ]
  },
  {
   "cell_type": "markdown",
   "id": "4b3b20c8",
   "metadata": {},
   "source": [
    "# 15"
   ]
  },
  {
   "cell_type": "code",
   "execution_count": 16,
   "id": "d0569735",
   "metadata": {},
   "outputs": [
    {
     "name": "stdout",
     "output_type": "stream",
     "text": [
      "total: 6\n"
     ]
    }
   ],
   "source": [
    "total=0\n",
    "for p in range(1,6):\n",
    "    if p%2==0:\n",
    "        total+=p\n",
    "print('total:',total)"
   ]
  },
  {
   "cell_type": "markdown",
   "id": "c6480d62",
   "metadata": {},
   "source": [
    "# 16"
   ]
  },
  {
   "cell_type": "code",
   "execution_count": 15,
   "id": "dc8708a1",
   "metadata": {},
   "outputs": [
    {
     "name": "stdout",
     "output_type": "stream",
     "text": [
      "total: 12\n"
     ]
    }
   ],
   "source": [
    "total=0\n",
    "for p in range(1,3):\n",
    "    for q in range(1,3):\n",
    "        total+=(p+q)\n",
    "print('total:',total)"
   ]
  },
  {
   "cell_type": "markdown",
   "id": "bfa25082",
   "metadata": {},
   "source": [
    "# 17"
   ]
  },
  {
   "cell_type": "code",
   "execution_count": 19,
   "id": "5ff8e0ca",
   "metadata": {},
   "outputs": [
    {
     "name": "stdout",
     "output_type": "stream",
     "text": [
      "enter vector 1:[1,2,3]\n",
      "enter vector 2:[2,3,4]\n",
      "result: 20\n"
     ]
    }
   ],
   "source": [
    "v1=eval(input('enter vector 1:'))\n",
    "v2=eval(input('enter vector 2:'))\n",
    "n1=len(v1)\n",
    "n2=len(v2)\n",
    "s=0\n",
    "if n1==n2:\n",
    "    for n in range(n1):\n",
    "        s+=v1[n]*v2[n]\n",
    "    print('result:',s)\n",
    "else:\n",
    "    print('length of v1 must need to be same as that of v2')"
   ]
  },
  {
   "cell_type": "code",
   "execution_count": 20,
   "id": "8eee6073",
   "metadata": {},
   "outputs": [
    {
     "name": "stdout",
     "output_type": "stream",
     "text": [
      "enter vector 1:[1,2,3]\n",
      "enter vector 2:[2,3]\n",
      "length of v1 must need to be same as that of v2\n"
     ]
    }
   ],
   "source": [
    "v1=eval(input('enter vector 1:'))\n",
    "v2=eval(input('enter vector 2:'))\n",
    "n1=len(v1)\n",
    "n2=len(v2)\n",
    "s=0\n",
    "if n1==n2:\n",
    "    for n in range(n1):\n",
    "        s+=v1[n]*v2[n]\n",
    "    print('result:',s)\n",
    "else:\n",
    "    print('length of v1 must need to be same as that of v2')"
   ]
  },
  {
   "cell_type": "markdown",
   "id": "bff48738",
   "metadata": {},
   "source": [
    "# 18"
   ]
  },
  {
   "cell_type": "code",
   "execution_count": 22,
   "id": "255e3e77",
   "metadata": {},
   "outputs": [
    {
     "name": "stdout",
     "output_type": "stream",
     "text": [
      "enter two numbers in a list:[4,0]\n",
      "True False\n"
     ]
    }
   ],
   "source": [
    "num=eval(input('enter two numbers in a list:'))\n",
    "a,b=num[0]>0,num[1]>0\n",
    "print(a,b)"
   ]
  },
  {
   "cell_type": "markdown",
   "id": "e0117728",
   "metadata": {},
   "source": [
    "# 19"
   ]
  },
  {
   "cell_type": "code",
   "execution_count": 3,
   "id": "b51cbea1",
   "metadata": {},
   "outputs": [
    {
     "name": "stdout",
     "output_type": "stream",
     "text": [
      "the average: 3.5\n"
     ]
    }
   ],
   "source": [
    "def cal_average(numbers):\n",
    "    total=0\n",
    "    count=0\n",
    "    for num in numbers:\n",
    "        total+=num\n",
    "        count+=1\n",
    "    average=total/count\n",
    "    return average\n",
    "numbers=[1,2,3,4,5,6]\n",
    "result=cal_average(numbers)\n",
    "print('the average:',result)"
   ]
  },
  {
   "cell_type": "code",
   "execution_count": 157,
   "id": "631ae96b",
   "metadata": {},
   "outputs": [
    {
     "data": {
      "text/plain": [
       "3.5"
      ]
     },
     "execution_count": 157,
     "metadata": {},
     "output_type": "execute_result"
    }
   ],
   "source": [
    "def cal_average(numbers):\n",
    "    total=sum(numbers)\n",
    "    count=len(numbers)\n",
    "    average=total/count\n",
    "    return average\n",
    "\n",
    "cal_average(numbers=[1,2,3,4,5,6])\n"
   ]
  },
  {
   "cell_type": "code",
   "execution_count": 33,
   "id": "03f1eb83",
   "metadata": {},
   "outputs": [
    {
     "data": {
      "text/plain": [
       "3.5"
      ]
     },
     "execution_count": 33,
     "metadata": {},
     "output_type": "execute_result"
    }
   ],
   "source": [
    "21/6"
   ]
  },
  {
   "cell_type": "markdown",
   "id": "da0c2a2f",
   "metadata": {},
   "source": [
    "# 20"
   ]
  },
  {
   "cell_type": "code",
   "execution_count": 1,
   "id": "9dcc5de7",
   "metadata": {},
   "outputs": [
    {
     "ename": "SyntaxError",
     "evalue": "invalid syntax (<ipython-input-1-492dc1754565>, line 4)",
     "output_type": "error",
     "traceback": [
      "\u001b[1;36m  File \u001b[1;32m\"<ipython-input-1-492dc1754565>\"\u001b[1;36m, line \u001b[1;32m4\u001b[0m\n\u001b[1;33m    n_fib=.......\u001b[0m\n\u001b[1;37m             ^\u001b[0m\n\u001b[1;31mSyntaxError\u001b[0m\u001b[1;31m:\u001b[0m invalid syntax\n"
     ]
    }
   ],
   "source": [
    "def gen_fibonacci(limit):\n",
    "    fib=[0,1]\n",
    "    while fib[...]+fib[...]<=limit:\n",
    "        n_fib=.......\n",
    "        fib.append(n_fib)\n",
    "    return fib\n",
    "n=8\n",
    "fibo=gen_fibonacci(n)\n",
    "print(fibo)"
   ]
  },
  {
   "cell_type": "code",
   "execution_count": 2,
   "id": "537c6ced",
   "metadata": {},
   "outputs": [
    {
     "name": "stdout",
     "output_type": "stream",
     "text": [
      "[0, 1, 1, 2, 3, 5, 8]\n"
     ]
    }
   ],
   "source": [
    "def gen_fibonacci(limit):\n",
    "    fib = [0, 1]\n",
    "    while fib[-1] + fib[-2] <= limit:\n",
    "        n_fib = fib[-1] + fib[-2]\n",
    "        fib.append(n_fib)\n",
    "    return fib\n",
    "\n",
    "n = 8\n",
    "fibo = gen_fibonacci(n)\n",
    "print(fibo)\n"
   ]
  },
  {
   "cell_type": "markdown",
   "id": "da5d875b",
   "metadata": {},
   "source": [
    "# 21"
   ]
  },
  {
   "cell_type": "code",
   "execution_count": 5,
   "id": "e421e14d",
   "metadata": {},
   "outputs": [
    {
     "name": "stdout",
     "output_type": "stream",
     "text": [
      "30\n"
     ]
    }
   ],
   "source": [
    "def modify_list(arr):\n",
    "    new_arr=[]\n",
    "    for i in arr:\n",
    "        if i%2==0:\n",
    "            new_arr.append(i**2)\n",
    "        else:\n",
    "            new_arr.append(i*2)\n",
    "    return new_arr\n",
    "def process_matrix(matrix):\n",
    "    result=[]\n",
    "    for r in matrix:\n",
    "        modified_row=modify_list(r)\n",
    "        result.append(modified_row)\n",
    "    return result\n",
    "matrix=[[1,2,3],[4,5,6],[7,8,9]]\n",
    "processed_matrix=process_matrix(matrix)\n",
    "total_sum=0\n",
    "for i in range(len(processed_matrix)):\n",
    "    for j in range(len(processed_matrix[i])):\n",
    "        if i==j:\n",
    "            total_sum+=processed_matrix[i][j]\n",
    "print(total_sum)"
   ]
  },
  {
   "cell_type": "markdown",
   "id": "d0045662",
   "metadata": {},
   "source": [
    "# 22\n"
   ]
  },
  {
   "cell_type": "markdown",
   "id": "bbdf85a2",
   "metadata": {},
   "source": [
    "# In a hypothetical university, the students are allowed to sit for the end-semester exam only if the student’s attendance is at least 75%. There are some relaxations to this rule as follows:\n",
    "\n",
    "The minimum attendance required to appear for the end sem exam is relaxed to 50% if the student had scored 80% in the internal assessment.\n",
    "For every student, the classes missed due to medical reasons are excused (considered as present)\n",
    "Write a python code to input the following from user:\n",
    "\n",
    "No. of classes held\n",
    "No. of classes attended\n",
    "No. of classes missed due to medical reasons\n",
    "The percentage internal marks obtained\n",
    "Using the above data, print whether the student is eligible to appear for the end semester exam.\n",
    "\n",
    "Note: Write the program in such a way that the user will be asked the following question at the end (without quotes):\n",
    "\n",
    "“Do you want to continue for another student? (yes/no) :”\n",
    "\n",
    "If the user enters \"yes\", the program will run again for another iteration. Program finally quits when user enters anything other than \"yes\" for the above question.\n",
    "\n",
    "\n",
    "\n",
    "Sample output:\n",
    "(user inputs are shown in bold letters)\n",
    "\n",
    "No. of classes held: 16\n",
    "No. of classes attended: 15\n",
    "No. of classes missed due to medical reasons: 1\n",
    "The percentage internal marks obtained: 40\n",
    "Eligible\n",
    "Do you want to continue for another student? (yes/no) : yes\n",
    "No. of classes held: 16\n",
    "No. of classes attended: 4\n",
    "No. of classes missed due to medical reasons: 4\n",
    "The percentage internal marks obtained: 75\n",
    "Not Eligible\n",
    "Do you want to continue for another student? (yes/no) : no"
   ]
  },
  {
   "cell_type": "code",
   "execution_count": 9,
   "id": "dec917ba",
   "metadata": {},
   "outputs": [
    {
     "name": "stdout",
     "output_type": "stream",
     "text": [
      "get the no. of classes held:55\n",
      "grt no. of classes attended:44\n",
      "get no. of classes missed due to medical reasons:8\n",
      "internal mark of the student:79\n",
      "persentage of the class attended covered by the medical reasons: 94.54545454545455\n",
      "is eligible the end sem exam \n",
      "do you want to continue for another students?(yes/no):no\n"
     ]
    }
   ],
   "source": [
    "while True:\n",
    "    h=int(input('get the no. of classes held:'))\n",
    "    a=int(input('get no. of classes attended:'))\n",
    "    m=int(input('get no. of classes missed due to medical reasons:'))\n",
    "    i=int(input('internal mark of the student:'))\n",
    "    p=((a+m)/h)*100\n",
    "    print('persentage of the class attended covered by the medical reasons:',p)\n",
    "    if (i>=80):\n",
    "        if(p>=50):\n",
    "            print(' eligible the end sem exam')\n",
    "        else:\n",
    "            print('not eligible  the end sem exam')\n",
    "    \n",
    "    else:\n",
    "        if(p>=75):\n",
    "            print('is eligible the end sem exam ')\n",
    "        else:\n",
    "            print('not eligible the end sem exam ')\n",
    "    x=str(input('do you want to continue for another students?(yes/no):'))\n",
    "    if(x=='yes'):\n",
    "        continue\n",
    "    else:\n",
    "        break"
   ]
  },
  {
   "cell_type": "markdown",
   "id": "ec8a2244",
   "metadata": {},
   "source": [
    "# 23"
   ]
  },
  {
   "cell_type": "code",
   "execution_count": 18,
   "id": "b72e6c73",
   "metadata": {},
   "outputs": [
    {
     "name": "stdout",
     "output_type": "stream",
     "text": [
      "1 +11 +111 +1111 += 1234\n"
     ]
    }
   ],
   "source": [
    "n=5\n",
    "d=0\n",
    "s=0\n",
    "for i in range(1,5):\n",
    "    d=d*10+1\n",
    "    s=s+d\n",
    "    print(d,'+',end='')\n",
    "print('=',s)"
   ]
  },
  {
   "cell_type": "markdown",
   "id": "5e12f6e4",
   "metadata": {},
   "source": [
    "# 24"
   ]
  },
  {
   "cell_type": "code",
   "execution_count": 16,
   "id": "a1ec40f6",
   "metadata": {},
   "outputs": [
    {
     "name": "stdout",
     "output_type": "stream",
     "text": [
      "Enter the name on the sign: hugyftdrstrdtfyguhijoklp\n",
      "Enter the type of sign (wood(1)/metal(2)/plastic(3)): 3\n",
      "Enter the type of lettering (normal(1)/gold-leaf(2)): 1\n",
      "6100\n",
      "Do you want to continue or not (yes(1)/no(0)): 0\n"
     ]
    }
   ],
   "source": [
    "def cost(s, n, l):\n",
    "    a = 2500\n",
    "\n",
    "    if s == 1:\n",
    "        a += 1000\n",
    "    elif s == 2:\n",
    "        a += 500\n",
    "\n",
    "    if l == 2:\n",
    "        a += 750\n",
    "\n",
    "    if len(n) > 6:\n",
    "        nl = len(n) - 6\n",
    "        a += nl * 200\n",
    "\n",
    "    return a\n",
    "\n",
    "while True:\n",
    "    name = input('Enter the name on the sign: ')\n",
    "    sign = int(input('Enter the type of sign (wood(1)/metal(2)/plastic(3)): '))\n",
    "    letter = int(input('Enter the type of lettering (normal(1)/gold-leaf(2)): '))\n",
    "    print(cost(sign, name, letter))\n",
    "    c_n = int(input('Do you want to continue or not (yes(1)/no(0)): '))\n",
    "    if c_n == 0:\n",
    "        break"
   ]
  },
  {
   "cell_type": "markdown",
   "id": "5b0aedd6",
   "metadata": {},
   "source": [
    "# 25"
   ]
  },
  {
   "cell_type": "code",
   "execution_count": 36,
   "id": "2e54efb5",
   "metadata": {},
   "outputs": [
    {
     "name": "stdout",
     "output_type": "stream",
     "text": [
      "               1  \n",
      "            2  1  \n",
      "         3  2  1  \n",
      "      4  3  2  1  \n",
      "   5  4  3  2  1  \n"
     ]
    }
   ],
   "source": [
    "for i in range(0,5):\n",
    "    for j in range(i,5):\n",
    "        print(' ',end='  ')\n",
    "    for j in range(i+1,0,-1):\n",
    "        print(j,end='  ')\n",
    "    print()"
   ]
  },
  {
   "cell_type": "markdown",
   "id": "e3996c2b",
   "metadata": {},
   "source": [
    "# 26"
   ]
  },
  {
   "cell_type": "markdown",
   "id": "c31b0ad6",
   "metadata": {},
   "source": [
    "write a menu-driven code that has the following options:\n",
    "    a.data entry\n",
    "    b.filter data\n",
    "    c.exit\n",
    "when the user choose option(a),they will be asked to enter the name and the corresponding date of birth(in dd/mm/yyyy format) of people continuously , until they enter an empty string forname.\n",
    "when the user choose option(b),they need to enter two values:minimum age and maximun age. once they enter these values,display all names of people whose age fall inside the specified age range,along with their actual age.\n",
    "After each option, main menu should be displayed. every time user chooses data entry,new data entered will be appended to the already existing data, program exits if user choose option(c)"
   ]
  },
  {
   "cell_type": "code",
   "execution_count": 193,
   "id": "ab76abcb",
   "metadata": {},
   "outputs": [
    {
     "name": "stdout",
     "output_type": "stream",
     "text": [
      "a.data entry\n",
      "b.filter\n",
      "c.exit\n",
      "enter the choices(a/b/c):a\n",
      "Enter the name (or press Enter to finish data entry): we\n",
      "enter the date of birth(dd/mm/yyyy):12/12/1999\n",
      "Enter the name (or press Enter to finish data entry): po\n",
      "enter the date of birth(dd/mm/yyyy):23/12/2000\n",
      "Enter the name (or press Enter to finish data entry): ui\n",
      "enter the date of birth(dd/mm/yyyy):09/12/2006\n",
      "Enter the name (or press Enter to finish data entry): tr\n",
      "enter the date of birth(dd/mm/yyyy):17/09/1998\n",
      "Enter the name (or press Enter to finish data entry): \n",
      "a.data entry\n",
      "b.filter\n",
      "c.exit\n",
      "enter the choices(a/b/c):b\n",
      "enter the minimum age:18\n",
      "enter the maximum age:25\n",
      "People in the specified age range:\n",
      "we - 23 years old\n",
      "po - 22 years old\n",
      "tr - 25 years old\n",
      "a.data entry\n",
      "b.filter\n",
      "c.exit\n",
      "enter the choices(a/b/c):c\n"
     ]
    }
   ],
   "source": [
    "import datetime\n",
    "name=[]\n",
    "t_dob=[]\n",
    "\n",
    "while True:\n",
    "    print('a.data entry')\n",
    "    print('b.filter')\n",
    "    print('c.exit')\n",
    "    choice=input('enter the choices(a/b/c):')\n",
    "    if choice == 'a':\n",
    "        while True:\n",
    "            n = input('Enter the name (or press Enter to finish data entry): ')\n",
    "            if n == '':\n",
    "                break\n",
    "            dob=input('enter the date of birth(dd/mm/yyyy):')\n",
    "            name.append(n)\n",
    "            t_dob.append(dob)\n",
    "    elif choice == 'b':\n",
    "        min_age=int(input('enter the minimum age:'))\n",
    "        max_age=int(input('enter the maximum age:'))\n",
    "        print('People in the specified age range:')\n",
    "        for i in range(len(name)):\n",
    "            dob = datetime.datetime.strptime(t_dob[i], \"%d/%m/%Y\")\n",
    "            age = datetime.datetime.now() - dob\n",
    "            age_years = age.days // 365\n",
    "            if min_age<=age_years<=max_age:\n",
    "                print(f'{name[i]} - {age_years} years old')\n",
    "    elif choice == 'c':\n",
    "        break\n",
    "    else:\n",
    "        print('enter a invalid option, please enter a valid option')"
   ]
  },
  {
   "cell_type": "code",
   "execution_count": 187,
   "id": "e4da49d6",
   "metadata": {},
   "outputs": [
    {
     "ename": "SyntaxError",
     "evalue": "invalid syntax (<ipython-input-187-5c22ae20d20d>, line 22)",
     "output_type": "error",
     "traceback": [
      "\u001b[1;36m  File \u001b[1;32m\"<ipython-input-187-5c22ae20d20d>\"\u001b[1;36m, line \u001b[1;32m22\u001b[0m\n\u001b[1;33m    print(f{names}:{age})\u001b[0m\n\u001b[1;37m           ^\u001b[0m\n\u001b[1;31mSyntaxError\u001b[0m\u001b[1;31m:\u001b[0m invalid syntax\n"
     ]
    }
   ],
   "source": [
    "import datetime\n",
    "# Initialize empty lists to store names and ages\n",
    "names = []\n",
    "age = []\n",
    "\n",
    "while True:\n",
    "    print('a. Data Entry')\n",
    "    print('b. Filter Data')\n",
    "    print('c. Exit')\n",
    "    choice = input('Enter your choice (a/b/c): ')\n",
    "\n",
    "    if choice == 'a':\n",
    "        while True:\n",
    "            name = input('Enter the name (or press Enter to finish data entry): ')\n",
    "            if name == '':\n",
    "                break\n",
    "            d = input('Enter the date of birth (dd/mm/yyyy): ')\n",
    "            c=10-10-2023\n",
    "            dob=c[6:10]-d[6:10]\n",
    "            names.append(name)\n",
    "            age.append(dob)\n",
    "    print(f{names}:{age})\n",
    "    elif choice == 'b':\n",
    "        min_age = int(input('Enter the minimum age: '))\n",
    "        max_age = int(input('Enter the maximum age: '))\n",
    "\n",
    "        print('People in the specified age range:')\n",
    "        for i in range(len(names)):\n",
    "            name=names[i]\n",
    "            ages=age[i]\n",
    "\n",
    "            if min_age <= age <= max_age:\n",
    "                print(f'{names[i]} - {age} years old')\n",
    "    elif choice == 'c':\n",
    "        break\n",
    "    else:\n",
    "        print('Invalid choice. Please select a valid option.')\n"
   ]
  },
  {
   "cell_type": "code",
   "execution_count": 189,
   "id": "137499ae",
   "metadata": {},
   "outputs": [
    {
     "name": "stdout",
     "output_type": "stream",
     "text": [
      "a. Data Entry\n",
      "b. Filter Data\n",
      "c. Exit\n",
      "Enter your choice (a/b/c): a\n",
      "Enter the name (or press Enter to finish data entry): we\n",
      "Enter the date of birth (dd/mm/yyyy): 11/11/1990\n",
      "Enter the name (or press Enter to finish data entry): er\n",
      "Enter the date of birth (dd/mm/yyyy): 11/12/1890\n",
      "Enter the name (or press Enter to finish data entry): ty\n",
      "Enter the date of birth (dd/mm/yyyy): 09/09/1999\n",
      "Enter the name (or press Enter to finish data entry): fg\n",
      "Enter the date of birth (dd/mm/yyyy): 08/09/1990\n",
      "Enter the name (or press Enter to finish data entry): \n",
      "['we', 'er', 'ty', 'fg']:[32, 132, 24, 33]\n",
      "a. Data Entry\n",
      "b. Filter Data\n",
      "c. Exit\n",
      "Enter your choice (a/b/c): b\n",
      "Enter the minimum age: 22\n",
      "Enter the maximum age: 55\n",
      "People in the specified age range:\n",
      "we - 32 years old\n",
      "ty - 24 years old\n",
      "fg - 33 years old\n",
      "a. Data Entry\n",
      "b. Filter Data\n",
      "c. Exit\n",
      "Enter your choice (a/b/c): c\n"
     ]
    }
   ],
   "source": [
    "import datetime\n",
    "\n",
    "# Initialize empty lists to store names and ages\n",
    "names = []\n",
    "age = []\n",
    "\n",
    "while True:\n",
    "    print('a. Data Entry')\n",
    "    print('b. Filter Data')\n",
    "    print('c. Exit')\n",
    "    choice = input('Enter your choice (a/b/c): ')\n",
    "\n",
    "    if choice == 'a':\n",
    "        while True:\n",
    "            name = input('Enter the name (or press Enter to finish data entry): ')\n",
    "            if name == '':\n",
    "                break\n",
    "            dob_str = input('Enter the date of birth (dd/mm/yyyy): ')\n",
    "            dob = datetime.datetime.strptime(dob_str, \"%d/%m/%Y\")\n",
    "            age_years = (datetime.datetime.now() - dob).days // 365\n",
    "            names.append(name)\n",
    "            age.append(age_years)\n",
    "        print(f'{names}:{age}')\n",
    "\n",
    "    elif choice == 'b':\n",
    "        min_age = int(input('Enter the minimum age: '))\n",
    "        max_age = int(input('Enter the maximum age: '))\n",
    "\n",
    "        print('People in the specified age range:')\n",
    "        for i in range(len(names)):\n",
    "            if min_age <= age[i] <= max_age:\n",
    "                print(f'{names[i]} - {age[i]} years old')\n",
    "    elif choice == 'c':\n",
    "        break\n",
    "    else:\n",
    "        print('Invalid choice. Please select a valid option.')\n"
   ]
  },
  {
   "cell_type": "markdown",
   "id": "7df9a143",
   "metadata": {},
   "source": [
    "# 27"
   ]
  },
  {
   "cell_type": "markdown",
   "id": "32bb1341",
   "metadata": {},
   "source": [
    "for a special project, we need to check if a number satisfies the following three conditions:\n",
    "    1.not a prime number\n",
    "    2.odd number\n",
    "    3.divisible by 7\n",
    "write a program to enter a number and state whether that number satisfies all conditions.if not, print the nearest largest number that satisfies  all the conditions."
   ]
  },
  {
   "cell_type": "code",
   "execution_count": 178,
   "id": "ba23e1fa",
   "metadata": {},
   "outputs": [
    {
     "name": "stdout",
     "output_type": "stream",
     "text": [
      "enter the number:44\n",
      "The entered number not satisfies all conditions.\n"
     ]
    }
   ],
   "source": [
    "n=int(input('enter the number:'))\n",
    "def is_prime():\n",
    "    s=0\n",
    "    if n>1:\n",
    "        for i in range(n):\n",
    "            if(i%n==0):\n",
    "                s+=1\n",
    "                break\n",
    "        if(s!=0):\n",
    "            return False\n",
    "        else:\n",
    "            return True\n",
    "        \n",
    "is_prime()\n",
    "\n",
    "if not is_prime() and n%2!=0 and n%7==0:\n",
    "    print('The entered number satisfies all conditions.')\n",
    "else:\n",
    "    print('The entered number not satisfies all conditions.')"
   ]
  },
  {
   "cell_type": "code",
   "execution_count": 145,
   "id": "f1bec36f",
   "metadata": {},
   "outputs": [
    {
     "name": "stdout",
     "output_type": "stream",
     "text": [
      "Enter the number: 4\n",
      "The nearest larger number that satisfies all conditions is 21.\n"
     ]
    }
   ],
   "source": [
    "def is_prime(num):\n",
    "    if num <= 1:\n",
    "        return False\n",
    "    for i in range(2, int(num**0.5) + 1):\n",
    "        if num % i == 0:\n",
    "            return False\n",
    "    return True\n",
    "\n",
    "def find_next_number(n):\n",
    "    while True:\n",
    "        n += 1\n",
    "        if not is_prime(n) and n % 2 != 0 and n % 7 == 0:\n",
    "            return n\n",
    "\n",
    "n = int(input('Enter the number: '))\n",
    "\n",
    "if not is_prime(n) and n % 2 != 0 and n % 7 == 0:\n",
    "    print('The entered number satisfies all conditions.')\n",
    "else:\n",
    "    next_number = find_next_number(n)\n",
    "    print(f'The nearest larger number that satisfies all conditions is {next_number}.')\n"
   ]
  },
  {
   "cell_type": "markdown",
   "id": "08565541",
   "metadata": {},
   "source": [
    "# 28"
   ]
  },
  {
   "cell_type": "code",
   "execution_count": 17,
   "id": "88afc57e",
   "metadata": {},
   "outputs": [
    {
     "name": "stdout",
     "output_type": "stream",
     "text": [
      "21 is divisible by 7.\n"
     ]
    }
   ],
   "source": [
    "def is_divisible_by_seven(number):\n",
    "    if number % 7 == 0:\n",
    "        return True\n",
    "    else:\n",
    "        return False\n",
    "\n",
    "# Example usage:\n",
    "number = 21  # You can replace this with any number you want to check\n",
    "if is_divisible_by_seven(number):\n",
    "    print(f'{number} is divisible by 7.')\n",
    "else:\n",
    "    print(f'{number} is not divisible by 7.')\n",
    "\n"
   ]
  },
  {
   "cell_type": "markdown",
   "id": "b51cebc2",
   "metadata": {},
   "source": [
    "# 29"
   ]
  },
  {
   "cell_type": "code",
   "execution_count": 21,
   "id": "16f27c0f",
   "metadata": {},
   "outputs": [
    {
     "name": "stdout",
     "output_type": "stream",
     "text": [
      "Enter a number: 5\n",
      "5 is a prime number.\n"
     ]
    }
   ],
   "source": [
    "def is_prime(n):\n",
    "    return n > 1 and all(n % i != 0 for i in range(2, int(n**0.5) + 1))\n",
    "\n",
    "# Example usage:\n",
    "number = int(input('Enter a number: '))\n",
    "if is_prime(number):\n",
    "    print(f'{number} is a prime number.')\n",
    "else:\n",
    "    print(f'{number} is not a prime number.')\n"
   ]
  },
  {
   "cell_type": "markdown",
   "id": "c5783473",
   "metadata": {},
   "source": [
    "# 30"
   ]
  },
  {
   "cell_type": "markdown",
   "id": "8ae9e5aa",
   "metadata": {},
   "source": [
    "you are given a text file which contains the students data in the following format:\n",
    "    name      profession  age\n",
    "    aparna    doctor      37\n",
    "    raghav    lawyer      46\n",
    "    shanavas  teacher     28\n",
    "    herison   business    43\n",
    "    \n",
    "the name of the text file is \" traveler_data.txt\". write a python program to read the file and display the names of the people who are doctors by profession. also specify the total number of doctors present in the list"
   ]
  },
  {
   "cell_type": "code",
   "execution_count": 14,
   "id": "b073c0ca",
   "metadata": {},
   "outputs": [
    {
     "name": "stdout",
     "output_type": "stream",
     "text": [
      "enter the count of the list:4\n",
      "enter the name1:r\n",
      "enter the profession:doctor\n",
      "enter the age:32\n",
      "enter the name2:ww\n",
      "enter the profession:teacger\n",
      "enter the age:43\n",
      "enter the name3:ttttttttttt\n",
      "enter the profession:doctor\n",
      "enter the age:27\n",
      "enter the name4:ppppppppppp\n",
      "enter the profession:law\n",
      "enter the age:31\n",
      "doctors:\n",
      "r\n",
      "ttttttttttt\n",
      "total number of doctors are:2\n"
     ]
    }
   ],
   "source": [
    "c=int(input('enter the count of the list:'))\n",
    "name=[]\n",
    "profession=[]\n",
    "age=[]\n",
    "for i in range (c):\n",
    "    n=input(f'enter the name{i+1}:')\n",
    "    p=input(f'enter the profession:')\n",
    "    a=input(f'enter the age:')\n",
    "    name.append(n)\n",
    "    profession.append(p)\n",
    "    age.append(a)\n",
    "\n",
    "    \n",
    "# Count the number of doctors and display their names\n",
    "count=0\n",
    "doctors_name=[]\n",
    "for i in range (len(name)):\n",
    "    if (profession[i]=='doctor'):\n",
    "        count+=1\n",
    "        doctors_name.append(name[i])\n",
    "\n",
    "        \n",
    "# Display the doctor names and the total count\n",
    "print('doctors:')\n",
    "for name in doctors_name:\n",
    "    print(name)\n",
    "print(f'total number of doctors are:{count}')"
   ]
  },
  {
   "cell_type": "code",
   "execution_count": 27,
   "id": "f397e8c1",
   "metadata": {},
   "outputs": [
    {
     "ename": "FileNotFoundError",
     "evalue": "[Errno 2] No such file or directory: 'traveler_data.txt'",
     "output_type": "error",
     "traceback": [
      "\u001b[1;31m---------------------------------------------------------------------------\u001b[0m",
      "\u001b[1;31mFileNotFoundError\u001b[0m                         Traceback (most recent call last)",
      "\u001b[1;32m<ipython-input-27-d23cda8469af>\u001b[0m in \u001b[0;36m<module>\u001b[1;34m\u001b[0m\n\u001b[0;32m      5\u001b[0m \u001b[1;33m\u001b[0m\u001b[0m\n\u001b[0;32m      6\u001b[0m \u001b[1;31m# Read data from the file\u001b[0m\u001b[1;33m\u001b[0m\u001b[1;33m\u001b[0m\u001b[0m\n\u001b[1;32m----> 7\u001b[1;33m \u001b[1;32mwith\u001b[0m \u001b[0mopen\u001b[0m\u001b[1;33m(\u001b[0m\u001b[1;34m\"traveler_data.txt\"\u001b[0m\u001b[1;33m,\u001b[0m \u001b[1;34m\"r\"\u001b[0m\u001b[1;33m)\u001b[0m \u001b[1;32mas\u001b[0m \u001b[0mfile\u001b[0m\u001b[1;33m:\u001b[0m\u001b[1;33m\u001b[0m\u001b[1;33m\u001b[0m\u001b[0m\n\u001b[0m\u001b[0;32m      8\u001b[0m     \u001b[0mnext\u001b[0m\u001b[1;33m(\u001b[0m\u001b[0mfile\u001b[0m\u001b[1;33m)\u001b[0m  \u001b[1;31m# Skip the header line\u001b[0m\u001b[1;33m\u001b[0m\u001b[1;33m\u001b[0m\u001b[0m\n\u001b[0;32m      9\u001b[0m     \u001b[1;32mfor\u001b[0m \u001b[0mline\u001b[0m \u001b[1;32min\u001b[0m \u001b[0mfile\u001b[0m\u001b[1;33m:\u001b[0m\u001b[1;33m\u001b[0m\u001b[1;33m\u001b[0m\u001b[0m\n",
      "\u001b[1;31mFileNotFoundError\u001b[0m: [Errno 2] No such file or directory: 'traveler_data.txt'"
     ]
    }
   ],
   "source": [
    "# Initialize variables to store data\n",
    "names = []\n",
    "professions = []\n",
    "ages = []\n",
    "\n",
    "# Read data from the file\n",
    "with open(\"traveler_data.txt\", \"r\") as file:\n",
    "    next(file)  # Skip the header line\n",
    "    for line in file:\n",
    "        data = line.strip().split()\n",
    "        names.append(data[0])\n",
    "        professions.append(data[1])\n",
    "        ages.append(data[2])\n",
    "\n",
    "# Count the number of doctors and display their names\n",
    "count_doctors = 0\n",
    "doctor_names = []\n",
    "\n",
    "for i in range(len(names)):\n",
    "    if professions[i] == \"doctor\":\n",
    "        count_doctors += 1\n",
    "        doctor_names.append(names[i])\n",
    "\n",
    "# Display the doctor names and the total count\n",
    "print(\"Doctors:\")\n",
    "for name in doctor_names:\n",
    "    print(name)\n",
    "print(f\"Total number of doctors: {count_doctors}\")\n"
   ]
  },
  {
   "cell_type": "markdown",
   "id": "148b85a8",
   "metadata": {},
   "source": [
    "# 31"
   ]
  },
  {
   "cell_type": "code",
   "execution_count": 19,
   "id": "db151862",
   "metadata": {},
   "outputs": [
    {
     "name": "stdout",
     "output_type": "stream",
     "text": [
      "@\\\n",
      "@>\\\n",
      "@>>\\\n",
      "@>>>\\\n"
     ]
    }
   ],
   "source": [
    "n=5\n",
    "for i in range(1,5):\n",
    "    print('@',end='')\n",
    "    for j in range(1,i):\n",
    "        print('>',end='')\n",
    "    print('\\\\')"
   ]
  },
  {
   "cell_type": "markdown",
   "id": "3ad27787",
   "metadata": {},
   "source": [
    "# 32"
   ]
  },
  {
   "cell_type": "markdown",
   "id": "7eb9d79a",
   "metadata": {},
   "source": [
    "research group made a new type of vehicle that has the following characteristics:\n",
    "    a) after a resting period of 12 hours or more, the fuel efficiency of the vehicle is a whopping 100 km/liter of petrol.\n",
    "    b)for every 1 kilometer of travel,the fuel efficiency reduces by 1km/liter, and reaches a minimum fuel efficiency of 5 km/liter , after which the fuel efficiency remains the same for the rest of the journey\n",
    "    c)after every 20 km of journey ,200 ml of special engine oil needs to be put so that no damage happens to the vehicle.\n",
    "    \n",
    "write a program to input the following details from the user:\n",
    "    1) cost of petrol(rupees per liter)\n",
    "    2)cost of engine oil(rupees per liter)\n",
    "    3)length of the journey(in km)\n",
    "    \n",
    "the program should then calculate and display the total expense of the trip , as well as the expense of the trip per kilometer traveled."
   ]
  },
  {
   "cell_type": "markdown",
   "id": "f010afa4",
   "metadata": {},
   "source": [
    "\n",
    "Here's a simple Python algorithm to calculate the total expense of a trip and the expense per kilometer traveled based on the given characteristics:\n",
    "\n",
    "Input the cost of petrol, cost of engine oil, and length of the journey.\n",
    "Initialize variables: fuel efficiency, total expense.\n",
    "Loop through the journey:\n",
    "a) Check if it's time for a rest (every 12 hours).\n",
    "b) Calculate the distance to the next rest point or until fuel efficiency reaches 5 km/liter.\n",
    "c) Calculate the fuel required for the next leg of the journey.\n",
    "d) Calculate the cost of fuel for this leg.\n",
    "e) Calculate the cost of engine oil for every 20 km.\n",
    "f) Update the total expense.\n",
    "g) Update the remaining journey length.\n",
    "h) Decrease fuel efficiency by 1 km/liter for every km traveled.\n",
    "Calculate the expense per kilometer traveled.\n",
    "Display the total expense and expense per kilometer.\n",
    "This algorithm simulates the trip and calculates the expenses as per the provided characteristics.\n",
    "\n",
    "Please note that this is a high-level algorithm. You can implement it in Python code based on this outline."
   ]
  },
  {
   "cell_type": "code",
   "execution_count": null,
   "id": "c61b5b8f",
   "metadata": {},
   "outputs": [],
   "source": [
    "cop=int(input('enter the cost of petrol:'))\n",
    "com_oil=int(input('enter the cost of engine oil:'))\n",
    "lj=int(input('enter the length of the journey:'))\n"
   ]
  },
  {
   "cell_type": "code",
   "execution_count": 2,
   "id": "5eb7a3a4",
   "metadata": {},
   "outputs": [
    {
     "name": "stdout",
     "output_type": "stream",
     "text": [
      "Enter the cost of petrol (rupees per liter): 50\n",
      "Enter the cost of engine oil (rupees per liter): 10\n",
      "Enter the length of the journey (in km): 5\n",
      "Total expense of the trip: 2.50 rupees\n",
      "Expense per kilometer traveled: 0.50 rupees/km\n"
     ]
    }
   ],
   "source": [
    "# Input the cost of petrol, cost of engine oil, and length of the journey\n",
    "cost_of_petrol = float(input(\"Enter the cost of petrol (rupees per liter): \"))\n",
    "cost_of_engine_oil = float(input(\"Enter the cost of engine oil (rupees per liter): \"))\n",
    "journey_length = float(input(\"Enter the length of the journey (in km): \"))\n",
    "\n",
    "# Initialize variables\n",
    "fuel_efficiency = 100  # Initial fuel efficiency in km/liter\n",
    "total_expense = 0     # Total expense for the trip\n",
    "\n",
    "# Calculate the total expense for the trip\n",
    "while journey_length > 0:\n",
    "    # Check if it's time for a rest (every 12 hours)\n",
    "    if journey_length % 240 == 0:\n",
    "        fuel_efficiency = 100  # Reset fuel efficiency after a rest\n",
    "\n",
    "    # Calculate the distance to the next rest point or until fuel efficiency reaches 5 km/liter\n",
    "    distance_to_next_rest = min(journey_length, 240, fuel_efficiency - 5)\n",
    "    \n",
    "    # Calculate the fuel required for the next leg of the journey\n",
    "    fuel_required = distance_to_next_rest / fuel_efficiency\n",
    "    \n",
    "    # Calculate the cost of fuel for this leg\n",
    "    fuel_cost = fuel_required * cost_of_petrol\n",
    "    \n",
    "    # Calculate the cost of engine oil for every 20 km\n",
    "    engine_oil_cost = (distance_to_next_rest // 20) * 0.2 * cost_of_engine_oil\n",
    "    \n",
    "    # Update the total expense\n",
    "    total_expense += fuel_cost + engine_oil_cost\n",
    "    \n",
    "    # Update the remaining journey length\n",
    "    journey_length -= distance_to_next_rest\n",
    "\n",
    "    # Decrease fuel efficiency by 1 km/liter for every km traveled\n",
    "    fuel_efficiency -= distance_to_next_rest\n",
    "\n",
    "# Calculate the expense per kilometer traveled\n",
    "expense_per_km = total_expense / (journey_length + distance_to_next_rest)\n",
    "\n",
    "# Display the results\n",
    "print(f\"Total expense of the trip: {total_expense:.2f} rupees\")\n",
    "print(f\"Expense per kilometer traveled: {expense_per_km:.2f} rupees/km\")\n"
   ]
  },
  {
   "cell_type": "code",
   "execution_count": 1,
   "id": "91d9f89c",
   "metadata": {},
   "outputs": [
    {
     "name": "stdout",
     "output_type": "stream",
     "text": [
      "Enter the cost of petrol (rupees per liter): 55\n",
      "Enter the cost of engine oil (rupees per liter): 22\n",
      "Enter the length of the journey (in km): 23\n",
      "Total Expense of the Trip: 18.86 rupees\n",
      "Expense per Kilometer Traveled: 0.82 rupees/km\n"
     ]
    }
   ],
   "source": [
    "# Input details from the user\n",
    "cost_of_petrol = float(input('Enter the cost of petrol (rupees per liter): '))\n",
    "cost_of_engine_oil = float(input('Enter the cost of engine oil (rupees per liter): '))\n",
    "length_of_journey = float(input('Enter the length of the journey (in km): '))\n",
    "\n",
    "# Initialize variables\n",
    "total_expense = 0\n",
    "fuel_efficiency = 100  # Initial fuel efficiency in km/liter\n",
    "engine_oil_usage = 0\n",
    "\n",
    "# Calculate the expense\n",
    "for km in range(1, int(length_of_journey) + 1):\n",
    "    if km % 20 == 0:\n",
    "        engine_oil_usage += 0.2  # 200 ml of engine oil per 20 km\n",
    "    fuel_efficiency = max(fuel_efficiency - 1, 5)  # Reduce fuel efficiency by 1 km/liter, minimum 5 km/liter\n",
    "    fuel_cost = 1 / fuel_efficiency * cost_of_petrol  # Cost for 1 km\n",
    "    total_expense += fuel_cost\n",
    "\n",
    "# Calculate the total expense of the trip\n",
    "total_expense += engine_oil_usage * cost_of_engine_oil\n",
    "\n",
    "# Calculate the expense per kilometer traveled\n",
    "expense_per_km = total_expense / length_of_journey\n",
    "\n",
    "# Display the results\n",
    "print(f'Total Expense of the Trip: {total_expense:.2f} rupees')\n",
    "print(f'Expense per Kilometer Traveled: {expense_per_km:.2f} rupees/km')\n"
   ]
  },
  {
   "cell_type": "markdown",
   "id": "93d8775c",
   "metadata": {},
   "source": [
    "# 33"
   ]
  },
  {
   "cell_type": "code",
   "execution_count": 2,
   "id": "36418c7e",
   "metadata": {},
   "outputs": [
    {
     "name": "stdout",
     "output_type": "stream",
     "text": [
      "enter the length:33\n",
      "enter the breath:22\n",
      "area of the room: 726.0\n"
     ]
    }
   ],
   "source": [
    "#area of a room 3\n",
    "l=float(input('enter the length:'))\n",
    "b=float(input('enter the widthth:'))\n",
    "area=l*b\n",
    "print('area of the room:',area)"
   ]
  },
  {
   "cell_type": "markdown",
   "id": "0408767d",
   "metadata": {},
   "source": [
    "# 34"
   ]
  },
  {
   "cell_type": "code",
   "execution_count": 3,
   "id": "d3b58d63",
   "metadata": {},
   "outputs": [
    {
     "name": "stdout",
     "output_type": "stream",
     "text": [
      "enter the length:33\n",
      "enter the widthth:22\n",
      "area of the room: 0.016666666666666666\n"
     ]
    }
   ],
   "source": [
    "#area of a field 4\n",
    "l=float(input('enter the length:'))\n",
    "b=float(input('enter the widthth:'))\n",
    "sqft_per_area=43560\n",
    "acres=l*b/sqft_per_area\n",
    "print('area of the room:',acres)"
   ]
  },
  {
   "cell_type": "markdown",
   "id": "4921da2b",
   "metadata": {},
   "source": [
    "# 35"
   ]
  },
  {
   "cell_type": "code",
   "execution_count": 9,
   "id": "b81d5d43",
   "metadata": {},
   "outputs": [
    {
     "name": "stdout",
     "output_type": "stream",
     "text": [
      "enter the 1 liter or less deposit: 3\n",
      "enter greater than 1 liter deposit:3\n",
      "The total refund will be %.2f 1.05\n"
     ]
    }
   ],
   "source": [
    "#bottle deposit 5\n",
    "less_container=0.10\n",
    "more_container=0.25\n",
    "less=eval(input('enter the 1 liter or less deposit: '))\n",
    "more=eval(input('enter greater than 1 liter deposit:'))\n",
    "refund=less_container*less+more_container*more\n",
    "print('The total refund will be %.2f',refund)"
   ]
  },
  {
   "cell_type": "markdown",
   "id": "c0e53168",
   "metadata": {},
   "source": [
    "# 36"
   ]
  },
  {
   "cell_type": "code",
   "execution_count": 12,
   "id": "77999037",
   "metadata": {},
   "outputs": [
    {
     "name": "stdout",
     "output_type": "stream",
     "text": [
      "enter the food cost:13980\n",
      "tax: 699.0\n",
      "tip: 2516.4\n",
      "the total amount of the bill payment: 17195.4\n"
     ]
    }
   ],
   "source": [
    "#tax and tip 6\n",
    "tax_percentage=5\n",
    "tip_percentage=18\n",
    "cost=float(input('enter the food cost:'))\n",
    "tax=cost*tax_percentage/100\n",
    "tip=cost*tip_percentage/100\n",
    "Amount=cost+tax+tip\n",
    "print('tax:',tax)\n",
    "print('tip:',tip)\n",
    "print('the total amount of the bill payment:',Amount)"
   ]
  },
  {
   "cell_type": "markdown",
   "id": "8acbc516",
   "metadata": {},
   "source": [
    "# 37"
   ]
  },
  {
   "cell_type": "code",
   "execution_count": 18,
   "id": "be67d329",
   "metadata": {},
   "outputs": [
    {
     "name": "stdout",
     "output_type": "stream",
     "text": [
      "enter the number:6\n",
      "the sum of first n positive number: 21.0\n"
     ]
    }
   ],
   "source": [
    "#sum of first n positive number 7\n",
    "n=int(input('enter the number:'))\n",
    "if n>0:\n",
    "    s=n*(n+1)/2\n",
    "print('the sum of first n positive number:',s)"
   ]
  },
  {
   "cell_type": "markdown",
   "id": "4ca351a0",
   "metadata": {},
   "source": [
    "# 38"
   ]
  },
  {
   "cell_type": "code",
   "execution_count": 25,
   "id": "20e36e88",
   "metadata": {},
   "outputs": [
    {
     "name": "stdout",
     "output_type": "stream",
     "text": [
      "enter the number of widgets needed:230\n",
      "enter the number of gizmos needed:210\n",
      "the total weight of the order: 40770\n"
     ]
    }
   ],
   "source": [
    "#widgets and gizmos weight calculation 8\n",
    "widgets_w_g=75  #weight in gram\n",
    "gizmos_w_g=112 #weight in gram\n",
    "widgets=eval(input('enter the number of widgets needed:'))\n",
    "gizmos=eval(input('enter the number of gizmos needed:'))\n",
    "total_widgets=widgets_w_g*widgets\n",
    "total_gizmos=gizmos_w_g*gizmos\n",
    "grand_total=total_widgets+total_gizmos\n",
    "print('the total weight of the order:',grand_total)"
   ]
  },
  {
   "cell_type": "markdown",
   "id": "34141218",
   "metadata": {},
   "source": [
    "# 39"
   ]
  },
  {
   "cell_type": "code",
   "execution_count": 31,
   "id": "805881d7",
   "metadata": {},
   "outputs": [
    {
     "name": "stdout",
     "output_type": "stream",
     "text": [
      "enter the principal amount:10000\n",
      "enter the rate of intrest:20\n",
      "enter the number of year:2\n",
      "the compound intrest: 4400.0 \n",
      "total amount: 14400.0\n"
     ]
    }
   ],
   "source": [
    "#compund intrest 9\n",
    "p=eval(input('enter the principal amount:'))\n",
    "r=eval(input('enter the rate of intrest:'))\n",
    "n=eval(input('enter the number of year:'))\n",
    "c=(p*(1+r/100)**n)-p\n",
    "a=p*(1+r/100)**n\n",
    "print('the compound intrest:',c,'\\ntotal amount:',a)"
   ]
  },
  {
   "cell_type": "markdown",
   "id": "b1590495",
   "metadata": {},
   "source": [
    "# 40"
   ]
  },
  {
   "cell_type": "code",
   "execution_count": 20,
   "id": "45e2eaf5",
   "metadata": {},
   "outputs": [
    {
     "name": "stdout",
     "output_type": "stream",
     "text": [
      "enter the first number:10\n",
      "enter the second number:2\n",
      "10 + 2 = 12\n",
      "10 - 2 = 8\n",
      "10 * 2 = 20\n",
      "10 / 2 = 5.0\n",
      "10 ** 2 = 100\n",
      "10 % 2 = 0\n"
     ]
    }
   ],
   "source": [
    "#arithmetic operation 10\n",
    "a=int(input('enter the first number:'))\n",
    "b=int(input('enter the second number:'))\n",
    "print(a,'+',b,'=',a+b)\n",
    "print(a,'-',b,'=',a-b)\n",
    "print(a,'*',b,'=',a*b)\n",
    "print(a,'/',b,'=',a/b)\n",
    "print(a,'**',b,'=',a**b)\n",
    "print(a,'%',b,'=',a%b)"
   ]
  },
  {
   "cell_type": "code",
   "execution_count": 21,
   "id": "4bddcad4",
   "metadata": {},
   "outputs": [
    {
     "data": {
      "text/plain": [
       "1"
      ]
     },
     "execution_count": 21,
     "metadata": {},
     "output_type": "execute_result"
    }
   ],
   "source": [
    "11%2"
   ]
  },
  {
   "cell_type": "code",
   "execution_count": 22,
   "id": "8eea2200",
   "metadata": {},
   "outputs": [
    {
     "data": {
      "text/plain": [
       "5"
      ]
     },
     "execution_count": 22,
     "metadata": {},
     "output_type": "execute_result"
    }
   ],
   "source": [
    "11//2"
   ]
  },
  {
   "cell_type": "code",
   "execution_count": 23,
   "id": "42ac0bcc",
   "metadata": {},
   "outputs": [
    {
     "data": {
      "text/plain": [
       "5.5"
      ]
     },
     "execution_count": 23,
     "metadata": {},
     "output_type": "execute_result"
    }
   ],
   "source": [
    "11/2"
   ]
  },
  {
   "cell_type": "markdown",
   "id": "8d0d4548",
   "metadata": {},
   "source": [
    "# 41"
   ]
  },
  {
   "cell_type": "code",
   "execution_count": 39,
   "id": "f7f017a0",
   "metadata": {},
   "outputs": [
    {
     "name": "stdout",
     "output_type": "stream",
     "text": [
      "enter the miles per gallon(mpg):24\n",
      "24 mpg is eguals to 9.800416666666667 l/100km\n"
     ]
    }
   ],
   "source": [
    "#fuel efficiency 11\n",
    "mpg=eval(input('enter the miles per gallon(mpg):'))\n",
    "liter_km=235.21/mpg\n",
    "print(mpg,'mpg is eguals to',liter_km,'l/100km')"
   ]
  },
  {
   "cell_type": "code",
   "execution_count": 36,
   "id": "700e2952",
   "metadata": {},
   "outputs": [
    {
     "ename": "SyntaxError",
     "evalue": "invalid syntax (<ipython-input-36-c98f2bc7ef6a>, line 2)",
     "output_type": "error",
     "traceback": [
      "\u001b[1;36m  File \u001b[1;32m\"<ipython-input-36-c98f2bc7ef6a>\"\u001b[1;36m, line \u001b[1;32m2\u001b[0m\n\u001b[1;33m    sin 2\u001b[0m\n\u001b[1;37m        ^\u001b[0m\n\u001b[1;31mSyntaxError\u001b[0m\u001b[1;31m:\u001b[0m invalid syntax\n"
     ]
    }
   ],
   "source": [
    "import math\n",
    "sin 2"
   ]
  },
  {
   "cell_type": "markdown",
   "id": "7c3d4cde",
   "metadata": {},
   "source": [
    "# 42"
   ]
  },
  {
   "cell_type": "code",
   "execution_count": 37,
   "id": "4952c9ae",
   "metadata": {},
   "outputs": [
    {
     "name": "stdout",
     "output_type": "stream",
     "text": [
      "Sine of 30 degrees: 0.49999999999999994\n"
     ]
    }
   ],
   "source": [
    "import math\n",
    "\n",
    "# Calculate the sine of 30 degrees\n",
    "sine_30 = math.sin(math.radians(30))  # Convert degrees to radians\n",
    "\n",
    "# Print the result\n",
    "print(\"Sine of 30 degrees:\", sine_30)"
   ]
  },
  {
   "cell_type": "markdown",
   "id": "5968dc62",
   "metadata": {},
   "source": [
    "# 43"
   ]
  },
  {
   "cell_type": "code",
   "execution_count": 40,
   "id": "1da927e1",
   "metadata": {},
   "outputs": [
    {
     "name": "stdout",
     "output_type": "stream",
     "text": [
      "enter the number of feet:44\n",
      "feet in centimeter: 1341.1200000000001\n"
     ]
    }
   ],
   "source": [
    "#height units foot to inch to centimeter 14\n",
    "feet=eval(input('enter the number of feet:'))\n",
    "centimeter=(feet*12)*2.54  #Hint:One foot 12 inches.One inch 2.54 centimeters\n",
    "print('feet in centimeter:',centimeter)"
   ]
  },
  {
   "cell_type": "markdown",
   "id": "f6924e50",
   "metadata": {},
   "source": [
    "# 44"
   ]
  },
  {
   "cell_type": "code",
   "execution_count": 41,
   "id": "3c92a2b0",
   "metadata": {},
   "outputs": [
    {
     "name": "stdout",
     "output_type": "stream",
     "text": [
      "enter the feet number:34\n",
      "convert feet to inches 408\n",
      "convert feet to yards 11.333333333333332\n",
      "convert feet to miles 0.006439393939393939\n"
     ]
    }
   ],
   "source": [
    "#distance units feet to inches,yards,miles 15\n",
    "feet=eval(input('enter the feet number:'))\n",
    "feet_inches= feet * 12\n",
    "feet_yards= feet * (1/3)\n",
    "feet_miles= feet * (1/5280)\n",
    "print('convert feet to inches',feet_inches)\n",
    "print('convert feet to yards',feet_yards)\n",
    "print('convert feet to miles',feet_miles)"
   ]
  },
  {
   "cell_type": "markdown",
   "id": "c1216de1",
   "metadata": {},
   "source": [
    "# 45"
   ]
  },
  {
   "cell_type": "code",
   "execution_count": 43,
   "id": "f1df715c",
   "metadata": {},
   "outputs": [
    {
     "name": "stdout",
     "output_type": "stream",
     "text": [
      "enter the radius of the circle:10\n",
      "area of the circle: 314.0 \n",
      "volume of the circle: 4186.666666666667\n"
     ]
    }
   ],
   "source": [
    "#area and volume circle 16\n",
    "r=eval(input('enter the radius of the circle:'))\n",
    "area=3.14*r**2\n",
    "volume=4/3*3.14*r**3\n",
    "print('area of the circle:',area,'\\nvolume of the circle:',volume)"
   ]
  },
  {
   "cell_type": "markdown",
   "id": "3d1869d4",
   "metadata": {},
   "source": [
    "# 46"
   ]
  },
  {
   "cell_type": "code",
   "execution_count": null,
   "id": "1b66f913",
   "metadata": {},
   "outputs": [],
   "source": [
    "#heat capacity 17\n"
   ]
  },
  {
   "cell_type": "markdown",
   "id": "8d02de69",
   "metadata": {},
   "source": [
    "# 47"
   ]
  },
  {
   "cell_type": "code",
   "execution_count": 1,
   "id": "898a6c2e",
   "metadata": {},
   "outputs": [
    {
     "name": "stdout",
     "output_type": "stream",
     "text": [
      "enter the radius of the cylinder:3\n",
      "enter the height of the cylinder:4\n",
      "the volume of the cylinder: 113.04\n"
     ]
    }
   ],
   "source": [
    "#volume of a cylinder 18\n",
    "r=eval(input('enter the radius of the cylinder:'))\n",
    "h=eval(input('enter the height of the cylinder:'))\n",
    "v=3.14*r**2*h\n",
    "print('the volume of the cylinder:',v)"
   ]
  },
  {
   "cell_type": "markdown",
   "id": "2c1b27bc",
   "metadata": {},
   "source": [
    "# 48"
   ]
  },
  {
   "cell_type": "code",
   "execution_count": 2,
   "id": "bfce179a",
   "metadata": {},
   "outputs": [
    {
     "name": "stdout",
     "output_type": "stream",
     "text": [
      "enter the height from which object is dropped:34\n",
      "the objects final speed when it hits the ground is approximately 25.81 m/s\n"
     ]
    }
   ],
   "source": [
    "#free fall 19\n",
    "height=eval(input('enter the height from which object is dropped:'))\n",
    "vi=0     #Initial speed (0 m/s)\n",
    "a_g=9.8 # Acceleration due to gravity (9.8 m/s^2)\n",
    "vf=((vi**2)+(2*a_g*height))**0.5  # Calculate the final speed\n",
    "print(f'the objects final speed when it hits the ground is approximately {vf:.2f} m/s')"
   ]
  },
  {
   "cell_type": "markdown",
   "id": "e72d2ab5",
   "metadata": {},
   "source": [
    "# 49"
   ]
  },
  {
   "cell_type": "code",
   "execution_count": 5,
   "id": "60d280f5",
   "metadata": {},
   "outputs": [
    {
     "name": "stdout",
     "output_type": "stream",
     "text": [
      "enter the triangle side1:3\n",
      "enter the triangle side2:4\n",
      "enter the triangle side3:5\n",
      "The area of the triangle: 6.0\n"
     ]
    }
   ],
   "source": [
    "#area of a triangle 22\n",
    "s1=eval(input('enter the triangle side1:'))\n",
    "s2=eval(input('enter the triangle side2:'))\n",
    "s3=eval(input('enter the triangle side3:'))\n",
    "s=(s1+s2+s3)/2\n",
    "area=(s*(s-s1)*(s-s2)*(s-s3))**0.5\n",
    "print('The area of the triangle:',area)"
   ]
  },
  {
   "cell_type": "markdown",
   "id": "0865e819",
   "metadata": {},
   "source": [
    " # 50"
   ]
  },
  {
   "cell_type": "code",
   "execution_count": 8,
   "id": "f76c98a9",
   "metadata": {},
   "outputs": [
    {
     "name": "stdout",
     "output_type": "stream",
     "text": [
      "enter the triangle length of the side:10\n",
      "enter the number sides:5\n",
      "the area of the polygon: 172.04774005889672\n"
     ]
    }
   ],
   "source": [
    "#area of a regular polygon 23\n",
    "from math import tan,pi\n",
    "s=eval(input('enter the triangle length of the side:'))\n",
    "n=eval(input('enter the number sides:'))\n",
    "area=((n*s**2)/(4*tan(pi/n)))\n",
    "print('the area of the polygon:',area)"
   ]
  },
  {
   "cell_type": "markdown",
   "id": "e37bac80",
   "metadata": {},
   "source": [
    "# 51"
   ]
  },
  {
   "cell_type": "code",
   "execution_count": 9,
   "id": "32eb1fe6",
   "metadata": {},
   "outputs": [
    {
     "name": "stdout",
     "output_type": "stream",
     "text": [
      "enter the time in seconds:50000000\n",
      "578  days 16 hours 53 minutes 20 sencods\n"
     ]
    }
   ],
   "source": [
    "#units of time 25\n",
    "s=eval(input('enter the time in seconds:'))\n",
    "d=s//86400\n",
    "s_hr=s%86400\n",
    "hr=s_hr//3600\n",
    "s_min=s_hr%3600\n",
    "mins=s_min//60\n",
    "s_s=s_min%60\n",
    "print(d,'days',hr,'hours',mins,'minutes',s_s,'sencods')"
   ]
  },
  {
   "cell_type": "markdown",
   "id": "48f0d3a6",
   "metadata": {},
   "source": [
    "# 52"
   ]
  },
  {
   "cell_type": "code",
   "execution_count": 11,
   "id": "847b891f",
   "metadata": {},
   "outputs": [
    {
     "name": "stdout",
     "output_type": "stream",
     "text": [
      "enter the weight of the body:25\n",
      "enter the height of the body:12\n",
      "body mass index: 0.1736111111111111\n"
     ]
    }
   ],
   "source": [
    "#body mass index 27\n",
    "weight=eval(input('enter the weight of the body:'))\n",
    "height=eval(input('enter the height of the body:'))\n",
    "bmi=weight/height**2\n",
    "print('body mass index:',bmi)"
   ]
  },
  {
   "cell_type": "markdown",
   "id": "8b90899e",
   "metadata": {},
   "source": [
    "# 53"
   ]
  },
  {
   "cell_type": "code",
   "execution_count": 14,
   "id": "79abe2d6",
   "metadata": {},
   "outputs": [
    {
     "name": "stdout",
     "output_type": "stream",
     "text": [
      "enter the temparature in celcius:45\n",
      "the temparature in fahrenheit: 113.0 \n",
      "temparature converts celciust to kelvin: 318.15\n"
     ]
    }
   ],
   "source": [
    "#celcius to fahrenheit and kelvin 29\n",
    "c=eval(input('enter the temparature in celcius:'))\n",
    "f=c*(9/5)+32\n",
    "k=((f-32)*(5/9))+273.15\n",
    "print('the temparature in fahrenheit:',f,'\\ntemparature converts celciust to kelvin:',k)"
   ]
  },
  {
   "cell_type": "markdown",
   "id": "c9ed2641",
   "metadata": {},
   "source": [
    "# 54"
   ]
  },
  {
   "cell_type": "code",
   "execution_count": 15,
   "id": "194fca82",
   "metadata": {},
   "outputs": [
    {
     "name": "stdout",
     "output_type": "stream",
     "text": [
      "Enter pressure in kilopascals (kPa): 120\n",
      "Equivalent pressure in pounds per square inch (psi): 17.40 psi\n",
      "Equivalent pressure in millimeters of mercury (mmHg): 900.07 mmHg\n",
      "Equivalent pressure in atmospheres (atm): 1.18 atm\n"
     ]
    }
   ],
   "source": [
    "#units of pressure 30\n",
    "# Input pressure in kilopascals\n",
    "pressure_kpa = float(input(\"Enter pressure in kilopascals (kPa): \"))\n",
    "\n",
    "# Conversion factors\n",
    "kpa_to_psi = 0.14503773773375\n",
    "kpa_to_mmhg = 7.50062\n",
    "kpa_to_atm = 0.00986923\n",
    "\n",
    "# Convert pressure to other units\n",
    "pressure_psi = pressure_kpa * kpa_to_psi\n",
    "pressure_mmhg = pressure_kpa * kpa_to_mmhg\n",
    "pressure_atm = pressure_kpa * kpa_to_atm\n",
    "\n",
    "# Display the equivalent pressures\n",
    "print(f\"Equivalent pressure in pounds per square inch (psi): {pressure_psi:.2f} psi\")\n",
    "print(f\"Equivalent pressure in millimeters of mercury (mmHg): {pressure_mmhg:.2f} mmHg\")\n",
    "print(f\"Equivalent pressure in atmospheres (atm): {pressure_atm:.2f} atm\")\n"
   ]
  },
  {
   "cell_type": "markdown",
   "id": "f3153a61",
   "metadata": {},
   "source": [
    "# 55"
   ]
  },
  {
   "cell_type": "code",
   "execution_count": 26,
   "id": "86d89793",
   "metadata": {},
   "outputs": [
    {
     "name": "stdout",
     "output_type": "stream",
     "text": [
      "enter the number:3245\n",
      "The sum of the digits in 3245 is 3+2+4+5 = 14\n"
     ]
    }
   ],
   "source": [
    "#Sum of the Digits in an Integer 31\n",
    "n=int(input('enter the number:'))\n",
    "if n>0:\n",
    "    n_str=str(n)\n",
    "    s=0\n",
    "    for digit in n_str:\n",
    "        s+=int(digit)\n",
    "        \n",
    "    # Display the result\n",
    "    print(f\"The sum of the digits in {n} is {'+'.join(n_str)} = {s}\")\n",
    "else:\n",
    "    print('please enter a valid positive integer')"
   ]
  },
  {
   "cell_type": "markdown",
   "id": "4c956560",
   "metadata": {},
   "source": [
    "# 56"
   ]
  },
  {
   "cell_type": "code",
   "execution_count": 30,
   "id": "f725f995",
   "metadata": {},
   "outputs": [
    {
     "name": "stdout",
     "output_type": "stream",
     "text": [
      "enter the numbers:33,44,12\n",
      "maximun of the number: 44 \n",
      "minimum of the number: 12 \n",
      "middle value of the number: 33\n"
     ]
    }
   ],
   "source": [
    ";#Sort 3 Integers 32\n",
    "a,b,c=eval(input('enter the numbers:'))\n",
    "mx=max(a,b,c)\n",
    "mn=min(a,b,c)\n",
    "md=(a+b+c)-mx-mn\n",
    "print('maximun of the number:',mx,'\\nminimum of the number:',mn,'\\nmiddle value of the number:',md)"
   ]
  },
  {
   "cell_type": "markdown",
   "id": "5f028655",
   "metadata": {},
   "source": [
    "# 57"
   ]
  },
  {
   "cell_type": "code",
   "execution_count": 37,
   "id": "97506c20",
   "metadata": {},
   "outputs": [
    {
     "name": "stdout",
     "output_type": "stream",
     "text": [
      "enter the number of daya old loaves:34\n",
      "the regular price:118.66\n",
      "the discount price:71.20\n",
      "the total price:47.46\n"
     ]
    }
   ],
   "source": [
    "#day old bread 33\n",
    "bread_price=3.49\n",
    "discount_rate=.60\n",
    "num_loaves=int(input('enter the number of daya old loaves:'))\n",
    "regular_price=bread_price*num_loaves\n",
    "discount_price=regular_price*discount_rate\n",
    "total_amount=regular_price-discount_price\n",
    "print(f'the regular price:{regular_price:.2f}')\n",
    "print(f'the discount price:{discount_price:.2f}')\n",
    "print(f'the total price:{total_amount:.2f}')"
   ]
  },
  {
   "cell_type": "markdown",
   "id": "8838251b",
   "metadata": {},
   "source": [
    "# 58"
   ]
  },
  {
   "cell_type": "code",
   "execution_count": 40,
   "id": "4b424c4e",
   "metadata": {
    "scrolled": true
   },
   "outputs": [
    {
     "name": "stdout",
     "output_type": "stream",
     "text": [
      "enter the number:445\n",
      "the number is odd\n"
     ]
    }
   ],
   "source": [
    "#even or odd 34\n",
    "n=int(input('enter the number:'))\n",
    "if n%2==0:\n",
    "    print('the number is even')\n",
    "else:\n",
    "    print('the number is odd')"
   ]
  },
  {
   "cell_type": "markdown",
   "id": "40821d55",
   "metadata": {},
   "source": [
    "# 59"
   ]
  },
  {
   "cell_type": "code",
   "execution_count": 69,
   "id": "0df5302c",
   "metadata": {},
   "outputs": [
    {
     "name": "stdout",
     "output_type": "stream",
     "text": [
      "enter a alphabetic letter:E\n",
      "the letter is vowel\n"
     ]
    }
   ],
   "source": [
    "#vowels or consonants\n",
    "letter=input('enter a alphabetic letter:')\n",
    "letter=letter.lower()\n",
    "if letter in 'a,e,i,o,u':\n",
    "    print('the letter is vowel')\n",
    "else:\n",
    "    print('the letter is consonant')"
   ]
  },
  {
   "cell_type": "code",
   "execution_count": 90,
   "id": "b0787760",
   "metadata": {},
   "outputs": [
    {
     "name": "stdout",
     "output_type": "stream",
     "text": [
      "enter the sentence:we are\n",
      "the total vowels count: 3\n",
      "the total consonants count: 2\n"
     ]
    }
   ],
   "source": [
    "#vowels or consonants count 36\n",
    "letter=input('enter the sentence:')\n",
    "v_count=0\n",
    "c_count=0\n",
    "\n",
    "for i in letter:\n",
    "    lowercase=i.lower()\n",
    "    if lowercase.isalpha():  # Check if the character is a letter\n",
    "        if lowercase in 'a,e,i,o,u':\n",
    "            v_count+=1\n",
    "\n",
    "        else:\n",
    "            c_count+=1\n",
    "print('the total vowels count:',v_count)\n",
    "print('the total consonants count:',c_count)"
   ]
  },
  {
   "cell_type": "code",
   "execution_count": 72,
   "id": "62769fa0",
   "metadata": {},
   "outputs": [
    {
     "data": {
      "text/plain": [
       "0"
      ]
     },
     "execution_count": 72,
     "metadata": {},
     "output_type": "execute_result"
    }
   ],
   "source": [
    "37,38,39,40,45,135"
   ]
  },
  {
   "cell_type": "markdown",
   "id": "732aaf52",
   "metadata": {},
   "source": [
    "# 60"
   ]
  },
  {
   "cell_type": "code",
   "execution_count": 93,
   "id": "c37b90ac",
   "metadata": {},
   "outputs": [
    {
     "name": "stdout",
     "output_type": "stream",
     "text": [
      "enter the two character note name,such as c4:e4\n",
      "the freequency of e4 is 329.63\n"
     ]
    }
   ],
   "source": [
    "#note to freequency 41\n",
    "c4_freq=261.63\n",
    "d4_freq=293.66\n",
    "e4_freq=329.63\n",
    "f4_freq=349.23\n",
    "g4_freq=392.00\n",
    "a4_freq=440.00\n",
    "b4_freq=493.88\n",
    "\n",
    "name=input('enter the two character note name,such as c4:')\n",
    "\n",
    "note=name[0]\n",
    "octave=int(name[1])\n",
    "\n",
    "if note=='c':\n",
    "    freq=c4_freq\n",
    "elif note=='d':\n",
    "    freq=d4_freq\n",
    "elif note=='e':\n",
    "    freq=e4_freq\n",
    "elif note=='f':\n",
    "    freq=f4_freq\n",
    "elif note=='g':\n",
    "    freq=g4_freq\n",
    "elif note=='a':\n",
    "    freq=a4_freq\n",
    "elif note=='b':\n",
    "    freq=b4_freq\n",
    "    \n",
    "freq=freq/2**(4-octave)\n",
    "\n",
    "print('the freequency of',name,'is',freq)"
   ]
  },
  {
   "cell_type": "markdown",
   "id": "4cb44a54",
   "metadata": {},
   "source": [
    "# 61"
   ]
  },
  {
   "cell_type": "code",
   "execution_count": 96,
   "id": "dd03f0c3",
   "metadata": {},
   "outputs": [
    {
     "name": "stdout",
     "output_type": "stream",
     "text": [
      "enter a freequency:440.00\n",
      "that freequency is a4\n"
     ]
    }
   ],
   "source": [
    "#freequency to note 42\n",
    "\n",
    "c4_freq=261.63\n",
    "d4_freq=293.66\n",
    "e4_freq=329.63\n",
    "f4_freq=349.23\n",
    "g4_freq=392.00\n",
    "a4_freq=440.00\n",
    "b4_freq=493.88\n",
    "limit=1\n",
    "\n",
    "freq=float(input('enter a freequency:'))\n",
    "if freq>=c4_freq - limit and freq<= c4_freq + limit:\n",
    "    note='c4'\n",
    "elif freq>=d4_freq - limit and freq<= d4_freq + limit:\n",
    "    note='d4'\n",
    "elif freq>=e4_freq - limit and freq<= e4_freq + limit:\n",
    "    note='e4'\n",
    "elif freq>=f4_freq - limit and freq<= f4_freq + limit:\n",
    "    note='f4'\n",
    "elif freq>=g4_freq - limit and freq<= g4_freq + limit:\n",
    "    note='g4'\n",
    "elif freq>=a4_freq - limit and freq<= a4_freq + limit:\n",
    "    note='a4'\n",
    "elif freq>=b4_freq - limit and freq<= b4_freq + limit:\n",
    "    note='b4'\n",
    "else:\n",
    "    note=''\n",
    "    \n",
    "    \n",
    "if note=='':\n",
    "    print('there is no note that corresponds to that freequency.')\n",
    "    \n",
    "else:\n",
    "    print('that freequency is',note)"
   ]
  },
  {
   "cell_type": "markdown",
   "id": "a60c392c",
   "metadata": {},
   "source": [
    "# 62"
   ]
  },
  {
   "cell_type": "code",
   "execution_count": 98,
   "id": "38214cc8",
   "metadata": {},
   "outputs": [
    {
     "name": "stdout",
     "output_type": "stream",
     "text": [
      "enter a letter grade:a\n",
      "thats 4.0 grade points.\n"
     ]
    }
   ],
   "source": [
    "# letter grade to grade points 51\n",
    "A=4.0\n",
    "A_MINUS=3.7\n",
    "B_PLUS=3.3\n",
    "B=3.0\n",
    "B_MINUS=2.7\n",
    "C_PLUS=2.3\n",
    "C=2.0\n",
    "C_MINUS=1.7\n",
    "D_PLUS=1.3\n",
    "D=1.0\n",
    "F=0\n",
    "INVALID=-1\n",
    "\n",
    "letter=input('enter a letter grade:')\n",
    "letter=letter.upper()\n",
    "\n",
    "\n",
    "if letter=='A+' or letter=='A':\n",
    "    gp=A\n",
    "elif letter=='A-':\n",
    "    gp=A_MINUS\n",
    "elif letter=='B+':\n",
    "    gp=B_PLUS\n",
    "elif letter=='B':\n",
    "    gp=B\n",
    "elif letter=='B-':\n",
    "    gp=B_MINUS\n",
    "elif letter=='C+':\n",
    "    gp=C_PLUS\n",
    "elif letter=='C':\n",
    "    gp=C\n",
    "elif letter=='C-':\n",
    "    gp=C_MINUS\n",
    "elif letter=='D+':\n",
    "    gp=D_PLUS\n",
    "elif letter=='D':\n",
    "    gp=D\n",
    "elif letter=='F':\n",
    "    gp=F\n",
    "else:\n",
    "    gp=INVALID\n",
    "    \n",
    "    \n",
    "if gp==INVALID:\n",
    "    print('that wasnt a valid number of grade points.')\n",
    "else:\n",
    "    print('thats',gp,'grade points.')"
   ]
  },
  {
   "cell_type": "markdown",
   "id": "8f594861",
   "metadata": {},
   "source": [
    "# 63"
   ]
  },
  {
   "cell_type": "code",
   "execution_count": 99,
   "id": "0a79ccf8",
   "metadata": {},
   "outputs": [
    {
     "name": "stdout",
     "output_type": "stream",
     "text": [
      "63 (Initial Maximum)\n",
      "100 (New Maximum)\n",
      "61\n",
      "47\n",
      "96\n",
      "95\n",
      "26\n",
      "76\n",
      "61\n",
      "47\n",
      "12\n",
      "57\n",
      "84\n",
      "38\n",
      "36\n",
      "76\n",
      "21\n",
      "71\n",
      "34\n",
      "100\n",
      "10\n",
      "82\n",
      "4\n",
      "55\n",
      "36\n",
      "77\n",
      "100\n",
      "9\n",
      "70\n",
      "31\n",
      "45\n",
      "31\n",
      "52\n",
      "45\n",
      "78\n",
      "17\n",
      "36\n",
      "88\n",
      "22\n",
      "26\n",
      "69\n",
      "79\n",
      "67\n",
      "36\n",
      "25\n",
      "20\n",
      "27\n",
      "9\n",
      "54\n",
      "53\n",
      "79\n",
      "43\n",
      "61\n",
      "77\n",
      "88\n",
      "33\n",
      "56\n",
      "58\n",
      "13\n",
      "70\n",
      "21\n",
      "86\n",
      "80\n",
      "15\n",
      "57\n",
      "54\n",
      "80\n",
      "61\n",
      "50\n",
      "62\n",
      "12\n",
      "55\n",
      "10\n",
      "46\n",
      "30\n",
      "14\n",
      "81\n",
      "58\n",
      "76\n",
      "100\n",
      "13\n",
      "64\n",
      "42\n",
      "87\n",
      "83\n",
      "17\n",
      "3\n",
      "42\n",
      "53\n",
      "46\n",
      "22\n",
      "73\n",
      "26\n",
      "97\n",
      "77\n",
      "70\n",
      "18\n",
      "68\n",
      "14\n",
      "79\n",
      "\n",
      "Maximum Value Encountered: 100\n",
      "Number of Updates: 1\n"
     ]
    }
   ],
   "source": [
    "#maximum integer 79\n",
    "import random\n",
    "\n",
    "# Initialize the maximum value with the first random integer\n",
    "max_value = random.randint(1, 100)\n",
    "update_count = 0\n",
    "\n",
    "# Display the first random integer\n",
    "print(max_value, \"(Initial Maximum)\")\n",
    "\n",
    "# Generate and check 99 additional random integers\n",
    "for _ in range(99):\n",
    "    random_int = random.randint(1, 100)\n",
    "    if random_int > max_value:\n",
    "        max_value = random_int\n",
    "        update_count += 1\n",
    "        print(random_int, \"(New Maximum)\")\n",
    "    else:\n",
    "        print(random_int)\n",
    "\n",
    "# Display the maximum value and the number of updates\n",
    "print(\"\\nMaximum Value Encountered:\", max_value)\n",
    "print(\"Number of Updates:\", update_count)\n"
   ]
  },
  {
   "cell_type": "markdown",
   "id": "48687956",
   "metadata": {},
   "source": [
    "# 64"
   ]
  },
  {
   "cell_type": "code",
   "execution_count": 107,
   "id": "a3c25510",
   "metadata": {},
   "outputs": [
    {
     "name": "stdout",
     "output_type": "stream",
     "text": [
      "Enter the length of the first shorter side: 4\n",
      "Enter the length of the second shorter side: 5\n",
      "The length of the hypotenuse is: 6.4031242374328485\n"
     ]
    }
   ],
   "source": [
    "#compute the hypotenues 81\n",
    "def calc():\n",
    "    side1 = float(input(\"Enter the length of the first shorter side: \"))\n",
    "    side2 = float(input(\"Enter the length of the second shorter side: \"))\n",
    "    hypotenuse=((side1**2)+(side2**2))**0.5\n",
    "    print(f\"The length of the hypotenuse is: {hypotenuse}\")\n",
    "calc()    "
   ]
  },
  {
   "cell_type": "markdown",
   "id": "d25782b9",
   "metadata": {},
   "source": [
    "# 65"
   ]
  },
  {
   "cell_type": "code",
   "execution_count": 108,
   "id": "a344d069",
   "metadata": {},
   "outputs": [
    {
     "name": "stdout",
     "output_type": "stream",
     "text": [
      "45 in base 8 is equivalent to 25 in base 16\n"
     ]
    }
   ],
   "source": [
    "#arbitory base conversion 99\n",
    "def convert_base(number, src_base, target_base):\n",
    "    # Step 1: Convert the number to base 10 (decimal)\n",
    "    decimal_number = 0\n",
    "    power = 0\n",
    "\n",
    "    while number > 0:\n",
    "        digit = number % 10\n",
    "        decimal_number += digit * (src_base ** power)\n",
    "        power += 1\n",
    "        number //= 10\n",
    "\n",
    "    # Step 2: Convert the decimal number to the target base\n",
    "    target_number = \"\"\n",
    "    \n",
    "    while decimal_number > 0:\n",
    "        digit = decimal_number % target_base\n",
    "        target_number = str(digit) + target_number\n",
    "        decimal_number //= target_base\n",
    "\n",
    "    return target_number\n",
    "\n",
    "# Example usage:\n",
    "src_base = 8  # Source base (e.g., octal)\n",
    "target_base = 16  # Target base (e.g., hexadecimal)\n",
    "number = 45  # The number in the source base\n",
    "\n",
    "result = convert_base(number, src_base, target_base)\n",
    "print(f\"{number} in base {src_base} is equivalent to {result} in base {target_base}\")\n"
   ]
  },
  {
   "cell_type": "markdown",
   "id": "aa82524d",
   "metadata": {},
   "source": [
    "# 66"
   ]
  },
  {
   "cell_type": "code",
   "execution_count": 109,
   "id": "067475e8",
   "metadata": {},
   "outputs": [
    {
     "name": "stdout",
     "output_type": "stream",
     "text": [
      "enter an integer(0 to quit):2\n",
      "enter an integer(0 to quit):3\n",
      "enter an integer(0 to quit):1\n",
      "enter an integer(0 to quit):11\n",
      "enter an integer(0 to quit):0\n",
      "the values,sorted into ascending order, are:\n",
      "1\n",
      "2\n",
      "3\n",
      "11\n"
     ]
    }
   ],
   "source": [
    "#sorted order 104\n",
    "data=[]\n",
    "num=int(input('enter an integer(0 to quit):'))\n",
    "while num!=0:\n",
    "    data.append(num)\n",
    "    num=int(input('enter an integer(0 to quit):'))\n",
    "data.sort()\n",
    "\n",
    "print('the values,sorted into ascending order, are:')\n",
    "for num in data:\n",
    "    print(num)"
   ]
  },
  {
   "cell_type": "markdown",
   "id": "be98aa6f",
   "metadata": {},
   "source": [
    "# 67"
   ]
  },
  {
   "cell_type": "code",
   "execution_count": 111,
   "id": "91e70478",
   "metadata": {},
   "outputs": [
    {
     "name": "stdout",
     "output_type": "stream",
     "text": [
      "enter a word(blank line to quit):we\n",
      "enter a word(blank line to quit):we\n",
      "enter a word(blank line to quit):are\n",
      "enter a word(blank line to quit):to\n",
      "enter a word(blank line to quit):cat\n",
      "enter a word(blank line to quit):del\n",
      "enter a word(blank line to quit):kill\n",
      "enter a word(blank line to quit):you\n",
      "enter a word(blank line to quit):to\n",
      "enter a word(blank line to quit):is\n",
      "enter a word(blank line to quit):are\n",
      "enter a word(blank line to quit):\n",
      "we\n",
      "are\n",
      "to\n",
      "cat\n",
      "del\n",
      "kill\n",
      "you\n",
      "is\n"
     ]
    }
   ],
   "source": [
    "#remove duplicates 107\n",
    "words=[]\n",
    "word=input('enter a word(blank line to quit):')\n",
    "while word!='':\n",
    "    if word not in words:\n",
    "        words.append(word)\n",
    "    word=input('enter a word(blank line to quit):')\n",
    "    \n",
    "for word in words:\n",
    "    print(word)"
   ]
  },
  {
   "cell_type": "markdown",
   "id": "9b0a94a5",
   "metadata": {},
   "source": [
    "# 68"
   ]
  },
  {
   "cell_type": "code",
   "execution_count": 114,
   "id": "d8ac2de2",
   "metadata": {},
   "outputs": [
    {
     "name": "stdout",
     "output_type": "stream",
     "text": [
      "enter an item (blankn to quit)we\n",
      "enter an item (blankn to quit)were\n",
      "enter an item (blankn to quit)to\n",
      "enter an item (blankn to quit)pol\n",
      "enter an item (blankn to quit)kil\n",
      "enter an item (blankn to quit)an\n",
      "enter an item (blankn to quit)yo\n",
      "enter an item (blankn to quit)\n",
      "the items are: we,were,to,pol,kil,anandyo.\n"
     ]
    }
   ],
   "source": [
    "#formatting a list 113\n",
    "\n",
    "def formatlist(items):\n",
    "    if len(items)==0:\n",
    "        return '<empty>'\n",
    "    if len(items)==1:\n",
    "        return str(item[0])\n",
    "    result=''\n",
    "    for i in range(0,len(items)-2):\n",
    "        result+=str(items[i])+','\n",
    "        \n",
    "    result+=str(items[len(items)-2])+'and'\n",
    "    result+=str(items[len(items)-1])\n",
    "    return result\n",
    "\n",
    "def main():\n",
    "    items=[]\n",
    "    line=input('enter an item (blankn to quit)')\n",
    "    while line!='':\n",
    "        items.append(line)\n",
    "        line=input('enter an item (blankn to quit)')\n",
    "        \n",
    "    print('the items are: %s.'%formatlist(items))\n",
    "        \n",
    "        \n",
    "main()"
   ]
  },
  {
   "cell_type": "markdown",
   "id": "2e001498",
   "metadata": {},
   "source": [
    "# 69"
   ]
  },
  {
   "cell_type": "code",
   "execution_count": 115,
   "id": "6b027a61",
   "metadata": {},
   "outputs": [
    {
     "name": "stdout",
     "output_type": "stream",
     "text": [
      "your numbers are:5611283336\n"
     ]
    }
   ],
   "source": [
    "#random lottery numbers114\n",
    "\n",
    "from random import randrange\n",
    "min_num=1\n",
    "max_num=49\n",
    "num_nums=6\n",
    "\n",
    "ticket_nums=[]\n",
    "\n",
    "for i in range(num_nums):\n",
    "    rand=randrange(min_num,max_num+1)\n",
    "    while rand in ticket_nums:\n",
    "        rand=randrange(min_num,max_num+1)\n",
    "        \n",
    "    ticket_nums.append(rand)\n",
    "    \n",
    "ticket_nums.sort()\n",
    "print('your numbers are:',end='')\n",
    "for n in ticket_nums:\n",
    "    print(n,end='')\n",
    "print()"
   ]
  },
  {
   "cell_type": "markdown",
   "id": "8a8caa27",
   "metadata": {},
   "source": [
    "# 70"
   ]
  },
  {
   "cell_type": "code",
   "execution_count": 118,
   "id": "80fc57b8",
   "metadata": {},
   "outputs": [
    {
     "name": "stdout",
     "output_type": "stream",
     "text": [
      "Enter a string: malayalam\n",
      "malayalam is a palindrome.\n"
     ]
    }
   ],
   "source": [
    "#recursive palindrome167\n",
    "def is_palindrome(s):\n",
    "    # Base case: If the string has 0 or 1 character, it's a palindrome.\n",
    "    if len(s) <= 1:\n",
    "        return True\n",
    "    # Compare the first and last characters.\n",
    "    if s[0] == s[-1]:\n",
    "        # Recursively check the substring without the first and last characters.\n",
    "        return is_palindrome(s[1:-1])\n",
    "    else:\n",
    "        # If the first and last characters don't match, it's not a palindrome.\n",
    "        return False\n",
    "\n",
    "# Input string to check for palindrome\n",
    "input_string = input(\"Enter a string: \")\n",
    "\n",
    "# Remove spaces and convert to lowercase for case-insensitive comparison\n",
    "input_string = input_string.replace(\" \", \"\").lower()\n",
    "\n",
    "# Check if it's a palindrome and display the result\n",
    "if is_palindrome(input_string):\n",
    "    print(f\"{input_string} is a palindrome.\")\n",
    "else:\n",
    "    print(f\"{input_string} is not a palindrome.\")\n"
   ]
  },
  {
   "cell_type": "markdown",
   "id": "66a3e705",
   "metadata": {},
   "source": [
    "# 71"
   ]
  },
  {
   "cell_type": "code",
   "execution_count": 120,
   "id": "ed173856",
   "metadata": {},
   "outputs": [
    {
     "name": "stdout",
     "output_type": "stream",
     "text": [
      "Enter the first string: po\n",
      "Enter the second string: lok\n",
      "The edit distance between 'po' and 'lok' is 2.\n"
     ]
    }
   ],
   "source": [
    "#string edit distance 169\n",
    "def edit_distance(s, t):\n",
    "    if len(s) == 0:\n",
    "        return len(t)\n",
    "    elif len(t) == 0:\n",
    "        return len(s)\n",
    "    else:\n",
    "        cost = 0 if s[-1] == t[-1] else 1\n",
    "        d1 = edit_distance(s[:-1], t) + 1\n",
    "        d2 = edit_distance(s, t[:-1]) + 1\n",
    "        d3 = edit_distance(s[:-1], t[:-1]) + cost\n",
    "        return min(d1, d2, d3)\n",
    "\n",
    "def main():\n",
    "    string1 = input(\"Enter the first string: \")\n",
    "    string2 = input(\"Enter the second string: \")\n",
    "\n",
    "    distance = edit_distance(string1, string2)\n",
    "\n",
    "    print(f\"The edit distance between '{string1}' and '{string2}' is {distance}.\")\n",
    "\n",
    "if __name__ == \"__main__\":\n",
    "    main()\n"
   ]
  },
  {
   "cell_type": "markdown",
   "id": "b124fa64",
   "metadata": {},
   "source": [
    "# 72 decimal conversion"
   ]
  },
  {
   "cell_type": "code",
   "execution_count": 131,
   "id": "34c9d79f",
   "metadata": {},
   "outputs": [
    {
     "name": "stdout",
     "output_type": "stream",
     "text": [
      "enter the decimal number:29\n",
      "11101"
     ]
    }
   ],
   "source": [
    "#decimal to binary\n",
    "decimal=eval(input('enter the decimal number:'))\n",
    "binary=''\n",
    "while (decimal>0):\n",
    "    s=decimal%2\n",
    "    binary=str(s)+binary\n",
    "    decimal//=2\n",
    "    \n",
    "print(binary,end='')"
   ]
  },
  {
   "cell_type": "markdown",
   "id": "91bbc17f",
   "metadata": {},
   "source": [
    "# 73"
   ]
  },
  {
   "cell_type": "code",
   "execution_count": 133,
   "id": "fda0c780",
   "metadata": {},
   "outputs": [
    {
     "name": "stdout",
     "output_type": "stream",
     "text": [
      "enter the decimal number:29\n",
      "35"
     ]
    }
   ],
   "source": [
    "decimal=int(input('enter the decimal number:'))\n",
    "octal=''\n",
    "while(decimal>0):\n",
    "    s=decimal%8\n",
    "    octal=str(s)+octal\n",
    "    decimal//=8\n",
    "        \n",
    "print(octal,end='')"
   ]
  },
  {
   "cell_type": "markdown",
   "id": "1cd3f6ae",
   "metadata": {},
   "source": [
    "# 74"
   ]
  },
  {
   "cell_type": "code",
   "execution_count": 139,
   "id": "0ff0c27c",
   "metadata": {},
   "outputs": [
    {
     "name": "stdout",
     "output_type": "stream",
     "text": [
      "enter the decimal number:29\n",
      "1D"
     ]
    }
   ],
   "source": [
    "decimal=int(input('enter the decimal number:'))\n",
    "hexa=''\n",
    "while (decimal>0):\n",
    "    s=decimal%16\n",
    "    if s<10:\n",
    "        hexa=str(s)+hexa\n",
    "    else:\n",
    "        hexa=chr(ord('A')+s-10)+hexa\n",
    "    decimal//=16\n",
    "    \n",
    "print(hexa,end='')"
   ]
  },
  {
   "cell_type": "markdown",
   "id": "be29da66",
   "metadata": {},
   "source": [
    "# 75"
   ]
  },
  {
   "cell_type": "code",
   "execution_count": 9,
   "id": "35d65352",
   "metadata": {},
   "outputs": [
    {
     "name": "stdout",
     "output_type": "stream",
     "text": [
      "enter the binary number:11101\n",
      "the decimal number:29\n"
     ]
    }
   ],
   "source": [
    "def bin2dec():\n",
    "    binary=int(input('enter the binary number:'))\n",
    "    decimal=0\n",
    "    p=0\n",
    "    while(binary>0):\n",
    "        decimal+=(binary%10)*(2**p)\n",
    "        p+=1\n",
    "        binary//=10\n",
    "    print(f'the decimal number:{decimal}')\n",
    "bin2dec()"
   ]
  },
  {
   "cell_type": "markdown",
   "id": "52bb6097",
   "metadata": {},
   "source": [
    "# 76"
   ]
  },
  {
   "cell_type": "code",
   "execution_count": 11,
   "id": "67447645",
   "metadata": {},
   "outputs": [
    {
     "name": "stdout",
     "output_type": "stream",
     "text": [
      "enter the number:35\n",
      "the decimal number:29\n"
     ]
    }
   ],
   "source": [
    "def oct2dec():\n",
    "    octal=int(input('enter the number:'))\n",
    "    decimal=0\n",
    "    p=0\n",
    "    while octal>0:\n",
    "        decimal+=(octal%10)*(8**p)\n",
    "        p+=1\n",
    "        octal//=10\n",
    "    print(f'the decimal number:{decimal}')\n",
    "    \n",
    "oct2dec()"
   ]
  },
  {
   "cell_type": "markdown",
   "id": "bc1c4a57",
   "metadata": {},
   "source": [
    "# 77"
   ]
  },
  {
   "cell_type": "code",
   "execution_count": 35,
   "id": "61a8a3bb",
   "metadata": {},
   "outputs": [
    {
     "name": "stdout",
     "output_type": "stream",
     "text": [
      "enter the number:1d\n",
      "the decimal number29\n"
     ]
    }
   ],
   "source": [
    "def hex2dec():\n",
    "    hexa=input('enter the number:')\n",
    "    decimal=0\n",
    "    p=0\n",
    "    for digit in hexa[::-1]:\n",
    "        if '0' <= digit<='9':\n",
    "            decimal+=int(digit)*16**p\n",
    "        elif 'A' <= digit.upper()<= 'F':\n",
    "            decimal+=ord(digit.upper())-ord('A')+10 *16**p\n",
    "        p+=1\n",
    "        \n",
    "    print(f'the decimal number{decimal}')\n",
    "hex2dec()"
   ]
  },
  {
   "cell_type": "markdown",
   "id": "16593fab",
   "metadata": {},
   "source": [
    "# 78"
   ]
  },
  {
   "cell_type": "code",
   "execution_count": 39,
   "id": "e6a4e119",
   "metadata": {},
   "outputs": [
    {
     "name": "stdout",
     "output_type": "stream",
     "text": [
      "enter the number:5\n",
      "12 + 22 + 32 + 42 + 52 + = 160\n"
     ]
    }
   ],
   "source": [
    "# program to find SUM=12+22+32+.........N\n",
    "\n",
    "n=int(input('enter the number:'))\n",
    "s=0\n",
    "digit=2\n",
    "for i in range(1,n+1):\n",
    "    digit=digit+10\n",
    "    s+=digit\n",
    "    print(digit,'+',end=' ')\n",
    "print('=',s)"
   ]
  },
  {
   "cell_type": "markdown",
   "id": "90783865",
   "metadata": {},
   "source": [
    "# 79"
   ]
  },
  {
   "cell_type": "code",
   "execution_count": 41,
   "id": "aaf7f568",
   "metadata": {},
   "outputs": [
    {
     "name": "stdout",
     "output_type": "stream",
     "text": [
      "enter the limit of number:5\n",
      "1 + 11 + 111 + 1111 + 11111 + = 12345\n"
     ]
    }
   ],
   "source": [
    "# program to find the sum of the series 1+11+111+1111+...........nterms\n",
    "n=int(input('enter the limit of number:'))\n",
    "digit=0\n",
    "s=0\n",
    "for i in range(1,n+1):\n",
    "    digit=digit*10+1\n",
    "    s+=digit\n",
    "    print(digit,'+',end=' ')\n",
    "print('=',s)"
   ]
  },
  {
   "cell_type": "markdown",
   "id": "5f09cf9c",
   "metadata": {},
   "source": [
    "# 80"
   ]
  },
  {
   "cell_type": "code",
   "execution_count": 45,
   "id": "5f3137d7",
   "metadata": {},
   "outputs": [
    {
     "name": "stdout",
     "output_type": "stream",
     "text": [
      "The determinant of the matrix is: -9.51619735392994e-16\n"
     ]
    }
   ],
   "source": [
    "# program to find the determinant of a matrices\n",
    "import numpy as np\n",
    "\n",
    "def calculate_determinant(matrix):\n",
    "    # Check if the matrix is square\n",
    "    if matrix.shape[0] != matrix.shape[1]:\n",
    "        return \"Matrix is not square. Determinant undefined.\"\n",
    "    \n",
    "    # Calculate the determinant\n",
    "    determinant = np.linalg.det(matrix)\n",
    "    \n",
    "    return determinant\n",
    "\n",
    "def main():\n",
    "    # Input the matrix (you can customize the matrix size and values)\n",
    "    matrix = np.array([[1, 2, 3],\n",
    "                       [4, 5, 6],\n",
    "                       [7, 8, 9]])\n",
    "    \n",
    "    determinant = calculate_determinant(matrix)\n",
    "    \n",
    "    if isinstance(determinant, str):\n",
    "        print(determinant)\n",
    "    else:\n",
    "        print(f\"The determinant of the matrix is: {determinant}\")\n",
    "\n",
    "if __name__ == \"__main__\":\n",
    "    main()\n"
   ]
  },
  {
   "cell_type": "markdown",
   "id": "aa5d2fb7",
   "metadata": {},
   "source": [
    "# 81"
   ]
  },
  {
   "cell_type": "markdown",
   "id": "c7356a70",
   "metadata": {},
   "source": [
    "# explanation of the above program\n",
    "In this program:\n",
    "\n",
    "We use NumPy to perform matrix operations.\n",
    "The calculate_determinant function calculates the determinant of the input matrix using np.linalg.det.\n",
    "Before calculating the determinant, we check if the matrix is square (having the same number of rows and columns).\n",
    "In the main function, you can input your matrix by modifying the matrix variable as needed.\n",
    "The program then calculates and displays the determinant of the matrix.\n",
    "Make sure to have NumPy installed in your Python environment. You can install it using pip install numpy if it's not already installed."
   ]
  },
  {
   "cell_type": "code",
   "execution_count": 46,
   "id": "8827f16f",
   "metadata": {},
   "outputs": [
    {
     "name": "stdout",
     "output_type": "stream",
     "text": [
      "Matrix 1:\n",
      "[1, 2, 3]\n",
      "[4, 5, 6]\n",
      "[7, 8, 9]\n",
      "Matrix 2:\n",
      "[9, 8, 7]\n",
      "[6, 5, 4]\n",
      "[3, 2, 1]\n",
      "Difference Matrix:\n",
      "[-8, -6, -4]\n",
      "[-2, 0, 2]\n",
      "[4, 6, 8]\n"
     ]
    }
   ],
   "source": [
    "# program to find the difference between two m x n matrices\n",
    "def subtract_matrices(matrix1, matrix2):\n",
    "    if len(matrix1) != len(matrix2) or len(matrix1[0]) != len(matrix2[0]):\n",
    "        return \"Matrices must have the same dimensions for subtraction.\"\n",
    "    \n",
    "    result = []\n",
    "    for i in range(len(matrix1)):\n",
    "        row = []\n",
    "        for j in range(len(matrix1[0])):\n",
    "            row.append(matrix1[i][j] - matrix2[i][j])\n",
    "        result.append(row)\n",
    "    \n",
    "    return result\n",
    "\n",
    "def print_matrix(matrix):\n",
    "    for row in matrix:\n",
    "        print(row)\n",
    "\n",
    "def main():\n",
    "    # Input matrices (you can customize the dimensions and values)\n",
    "    matrix1 = [[1, 2, 3],\n",
    "               [4, 5, 6],\n",
    "               [7, 8, 9]]\n",
    "    \n",
    "    matrix2 = [[9, 8, 7],\n",
    "               [6, 5, 4],\n",
    "               [3, 2, 1]]\n",
    "    \n",
    "    result = subtract_matrices(matrix1, matrix2)\n",
    "    \n",
    "    if isinstance(result, str):\n",
    "        print(result)\n",
    "    else:\n",
    "        print(\"Matrix 1:\")\n",
    "        print_matrix(matrix1)\n",
    "        print(\"Matrix 2:\")\n",
    "        print_matrix(matrix2)\n",
    "        print(\"Difference Matrix:\")\n",
    "        print_matrix(result)\n",
    "\n",
    "if __name__ == \"__main__\":\n",
    "    main()\n"
   ]
  },
  {
   "cell_type": "markdown",
   "id": "13af071f",
   "metadata": {},
   "source": [
    "# 82"
   ]
  },
  {
   "cell_type": "code",
   "execution_count": 59,
   "id": "53482d0b",
   "metadata": {},
   "outputs": [
    {
     "name": "stdout",
     "output_type": "stream",
     "text": [
      "108\n",
      "117\n",
      "126\n",
      "135\n",
      "144\n",
      "153\n",
      "162\n",
      "171\n",
      "180\n",
      "189\n",
      "198\n",
      "the divisible numbers count is: 11\n",
      "total sum of the divisible numbers: 1683\n"
     ]
    }
   ],
   "source": [
    "# program to find the number and sum of all integer between 100 and 200 which are divisible by 9\n",
    "\n",
    "count=0\n",
    "s=0\n",
    "for i in range(100,200+1):\n",
    "    if(i%9==0):\n",
    "        print(i)\n",
    "        count+=1\n",
    "        s+=i\n",
    "print('the divisible numbers count is:',count)\n",
    "print('total sum of the divisible numbers:',s)"
   ]
  },
  {
   "cell_type": "markdown",
   "id": "41de723c",
   "metadata": {},
   "source": [
    "# 83"
   ]
  },
  {
   "cell_type": "code",
   "execution_count": 64,
   "id": "d62eec07",
   "metadata": {},
   "outputs": [
    {
     "name": "stdout",
     "output_type": "stream",
     "text": [
      "the starting number:2\n",
      "the ending number:10\n",
      "2\n",
      "3\n",
      "5\n",
      "7\n"
     ]
    }
   ],
   "source": [
    "#program to find the prime numbers within a range of numbers\n",
    "\n",
    "a=int(input('the starting number greater than one:'))\n",
    "b=int(input('the ending number:'))\n",
    "for i in range(a,b+1):\n",
    "    if i>1:\n",
    "        for j in range(a,i):\n",
    "            if(i%j==0):\n",
    "                break\n",
    "        else:\n",
    "            print(i)"
   ]
  },
  {
   "cell_type": "code",
   "execution_count": 145,
   "id": "d2bcba3c",
   "metadata": {},
   "outputs": [
    {
     "name": "stdout",
     "output_type": "stream",
     "text": [
      "prime\n"
     ]
    }
   ],
   "source": [
    "def prime_num(n):\n",
    "    s=0\n",
    "    if n==0:\n",
    "        print('not prime')\n",
    "    for i in range(2,n):\n",
    "        if n%i==0:\n",
    "            s+=1\n",
    "            \n",
    "    else:\n",
    "        if(s!=0):\n",
    "            print('not prime')\n",
    "        else:\n",
    "            print('prime')\n",
    "                \n",
    "prime_num(2)"
   ]
  },
  {
   "cell_type": "markdown",
   "id": "ce33dbed",
   "metadata": {},
   "source": [
    "# 84"
   ]
  },
  {
   "cell_type": "code",
   "execution_count": 67,
   "id": "ec9141f3",
   "metadata": {},
   "outputs": [
    {
     "name": "stdout",
     "output_type": "stream",
     "text": [
      "Enter the starting number greater than one: 5\n",
      "Enter the ending number: 55\n",
      "5\n",
      "7\n",
      "11\n",
      "13\n",
      "17\n",
      "19\n",
      "23\n",
      "29\n",
      "31\n",
      "37\n",
      "41\n",
      "43\n",
      "47\n",
      "53\n"
     ]
    }
   ],
   "source": [
    "a = int(input('Enter the starting number greater than one: '))\n",
    "b = int(input('Enter the ending number: '))\n",
    "\n",
    "for num in range(a, b + 1):\n",
    "    if num > 1:\n",
    "        for i in range(2, int(num**0.5) + 1):\n",
    "            if num % i == 0:\n",
    "                break\n",
    "        else:\n",
    "            print(num)\n"
   ]
  },
  {
   "cell_type": "markdown",
   "id": "3fe450d1",
   "metadata": {},
   "source": [
    "# 85"
   ]
  },
  {
   "cell_type": "code",
   "execution_count": 83,
   "id": "266a89b8",
   "metadata": {},
   "outputs": [
    {
     "name": "stdout",
     "output_type": "stream",
     "text": [
      "Matrix 1:\n",
      "[1, 2, 3]\n",
      "[4, 5, 6]\n",
      "Matrix 2:\n",
      "[7, 8]\n",
      "[9, 10]\n",
      "[11, 12]\n",
      "Product Matrix:\n",
      "[58, 64]\n",
      "[139, 154]\n"
     ]
    }
   ],
   "source": [
    "# program to find the product of two m x n matrices\n",
    "def matrix_multiply(matrix1, matrix2):\n",
    "    if len(matrix1[0]) != len(matrix2):\n",
    "        return \"Matrix dimensions are incompatible for multiplication.\"\n",
    "    \n",
    "    result = [[0 for _ in range(len(matrix2[0]))] for _ in range(len(matrix1))]\n",
    "    \n",
    "    for i in range(len(matrix1)):\n",
    "        for j in range(len(matrix2[0])):\n",
    "            for k in range(len(matrix2)):\n",
    "                result[i][j] += matrix1[i][k] * matrix2[k][j]\n",
    "    \n",
    "    return result\n",
    "\n",
    "def print_matrix(matrix):\n",
    "    for row in matrix:\n",
    "        print(row)\n",
    "\n",
    "def main():\n",
    "    # Input matrices (you can customize the dimensions and values)\n",
    "    matrix1 = [[1, 2, 3],\n",
    "               [4, 5, 6]]\n",
    "    \n",
    "    matrix2 = [[7, 8],\n",
    "               [9, 10],\n",
    "               [11, 12]]\n",
    "    \n",
    "    product = matrix_multiply(matrix1, matrix2)\n",
    "    \n",
    "    if isinstance(product, str):\n",
    "        print(product)\n",
    "    else:\n",
    "        print(\"Matrix 1:\")\n",
    "        print_matrix(matrix1)\n",
    "        print(\"Matrix 2:\")\n",
    "        print_matrix(matrix2)\n",
    "        print(\"Product Matrix:\")\n",
    "        print_matrix(product)\n",
    "\n",
    "if __name__ == \"__main__\":\n",
    "    main()\n"
   ]
  },
  {
   "cell_type": "markdown",
   "id": "95f71550",
   "metadata": {},
   "source": [
    "# 86"
   ]
  },
  {
   "cell_type": "code",
   "execution_count": 84,
   "id": "1272fb79",
   "metadata": {},
   "outputs": [
    {
     "name": "stdout",
     "output_type": "stream",
     "text": [
      "Matrix 1:\n",
      "[1, 2, 3]\n",
      "[4, 5, 6]\n",
      "Matrix 2:\n",
      "[7, 8, 9]\n",
      "[10, 11, 12]\n",
      "Sum Matrix:\n",
      "[8, 10, 12]\n",
      "[14, 16, 18]\n"
     ]
    }
   ],
   "source": [
    "# program to find the sum of two m x n matrices\n",
    "\n",
    "def matrix_addition(matrix1, matrix2):\n",
    "    if len(matrix1) != len(matrix2) or len(matrix1[0]) != len(matrix2[0]):\n",
    "        return \"Matrix dimensions are not compatible for addition.\"\n",
    "    \n",
    "    result = []\n",
    "    for i in range(len(matrix1)):\n",
    "        row = []\n",
    "        for j in range(len(matrix1[0])):\n",
    "            row.append(matrix1[i][j] + matrix2[i][j])\n",
    "        result.append(row)\n",
    "    \n",
    "    return result\n",
    "\n",
    "def print_matrix(matrix):\n",
    "    for row in matrix:\n",
    "        print(row)\n",
    "\n",
    "def main():\n",
    "    # Input matrices (you can customize the dimensions and values)\n",
    "    matrix1 = [[1, 2, 3],\n",
    "               [4, 5, 6]]\n",
    "    \n",
    "    matrix2 = [[7, 8, 9],\n",
    "               [10, 11, 12]]\n",
    "    \n",
    "    sum_matrix = matrix_addition(matrix1, matrix2)\n",
    "    \n",
    "    if isinstance(sum_matrix, str):\n",
    "        print(sum_matrix)\n",
    "    else:\n",
    "        print(\"Matrix 1:\")\n",
    "        print_matrix(matrix1)\n",
    "        print(\"Matrix 2:\")\n",
    "        print_matrix(matrix2)\n",
    "        print(\"Sum Matrix:\")\n",
    "        print_matrix(sum_matrix)\n",
    "\n",
    "if __name__ == \"__main__\":\n",
    "    main()\n"
   ]
  },
  {
   "cell_type": "markdown",
   "id": "67726b86",
   "metadata": {},
   "source": [
    "# 87"
   ]
  },
  {
   "cell_type": "code",
   "execution_count": 85,
   "id": "40cb25e3",
   "metadata": {},
   "outputs": [
    {
     "name": "stdout",
     "output_type": "stream",
     "text": [
      "Original Matrix:\n",
      "[1, 2, 3]\n",
      "[4, 5, 6]\n",
      "Transposed Matrix:\n",
      "[1, 4]\n",
      "[2, 5]\n",
      "[3, 6]\n"
     ]
    }
   ],
   "source": [
    "# program to find the transpose of two m x n matrices\n",
    "def transpose_matrix(matrix):\n",
    "    rows = len(matrix)\n",
    "    cols = len(matrix[0])\n",
    "\n",
    "    # Create a new matrix with dimensions cols x rows for the transpose\n",
    "    transpose = [[0 for _ in range(rows)] for _ in range(cols)]\n",
    "\n",
    "    for i in range(rows):\n",
    "        for j in range(cols):\n",
    "            transpose[j][i] = matrix[i][j]\n",
    "\n",
    "    return transpose\n",
    "\n",
    "def print_matrix(matrix):\n",
    "    for row in matrix:\n",
    "        print(row)\n",
    "\n",
    "def main():\n",
    "    # Input matrix (you can customize the dimensions and values)\n",
    "    matrix = [[1, 2, 3],\n",
    "              [4, 5, 6]]\n",
    "\n",
    "    transposed_matrix = transpose_matrix(matrix)\n",
    "\n",
    "    print(\"Original Matrix:\")\n",
    "    print_matrix(matrix)\n",
    "\n",
    "    print(\"Transposed Matrix:\")\n",
    "    print_matrix(transposed_matrix)\n",
    "\n",
    "if __name__ == \"__main__\":\n",
    "    main()\n"
   ]
  },
  {
   "cell_type": "markdown",
   "id": "4bcfbfc7",
   "metadata": {},
   "source": [
    "# 88"
   ]
  },
  {
   "cell_type": "code",
   "execution_count": 86,
   "id": "1f54ea22",
   "metadata": {},
   "outputs": [
    {
     "name": "stdout",
     "output_type": "stream",
     "text": [
      "enter the string :we are togeter\n",
      "the reverse order of the string: retegot era ew\n"
     ]
    }
   ],
   "source": [
    "#program to print a string in reverse order\n",
    "n=input('enter the string :')\n",
    "s=n[::-1]\n",
    "print('the reverse order of the string:',s)"
   ]
  },
  {
   "cell_type": "code",
   "execution_count": 87,
   "id": "5ec7aa87",
   "metadata": {},
   "outputs": [
    {
     "name": "stdout",
     "output_type": "stream",
     "text": [
      "Enter a string: we are together\n",
      "Reversed string: rehtegot era ew\n"
     ]
    }
   ],
   "source": [
    "def reverse_string(input_string):\n",
    "    reversed_str = input_string[::-1]\n",
    "    return reversed_str\n",
    "\n",
    "def main():\n",
    "    input_string = input(\"Enter a string: \")\n",
    "    reversed_str = reverse_string(input_string)\n",
    "    print(\"Reversed string:\", reversed_str)\n",
    "\n",
    "if __name__ == \"__main__\":\n",
    "    main()\n"
   ]
  },
  {
   "cell_type": "markdown",
   "id": "a5e47439",
   "metadata": {},
   "source": [
    "# 89"
   ]
  },
  {
   "cell_type": "code",
   "execution_count": 89,
   "id": "76c39baa",
   "metadata": {},
   "outputs": [
    {
     "name": "stdout",
     "output_type": "stream",
     "text": [
      "Enter a month (e.g., January, February, etc.): m\n",
      "Invalid month. Please enter a valid month.\n",
      "Enter a month (e.g., January, February, etc.): ma\n",
      "Invalid month. Please enter a valid month.\n",
      "Enter a month (e.g., January, February, etc.): mae\n",
      "Invalid month. Please enter a valid month.\n",
      "Enter a month (e.g., January, February, etc.): may\n",
      "You entered the month: May\n"
     ]
    }
   ],
   "source": [
    "#prompt user to input 'month' value,keep prompting until a correct value of month is input (while loop)\n",
    "\n",
    "def get_month_input():\n",
    "    while True:\n",
    "        month = input(\"Enter a month (e.g., January, February, etc.): \").strip().capitalize()\n",
    "        months = [\"January\", \"February\", \"March\", \"April\", \"May\", \"June\", \"July\", \"August\", \"September\", \"October\", \"November\", \"December\"]\n",
    "\n",
    "        if month in months:\n",
    "            return month\n",
    "        else:\n",
    "            print(\"Invalid month. Please enter a valid month.\")\n",
    "\n",
    "def main():\n",
    "    month = get_month_input()\n",
    "    print(f\"You entered the month: {month}\")\n",
    "\n",
    "if __name__ == \"__main__\":\n",
    "    main()\n"
   ]
  },
  {
   "cell_type": "markdown",
   "id": "ad10d9f7",
   "metadata": {},
   "source": [
    "# 90"
   ]
  },
  {
   "cell_type": "code",
   "execution_count": 6,
   "id": "d4e8df2d",
   "metadata": {},
   "outputs": [
    {
     "name": "stdout",
     "output_type": "stream",
     "text": [
      "1003, 1020, 1037, 1054, 1071, 1088, 1105, 1122, 1139, 1156, 1173, 1190, 1207, 1224, 1241, 1258, 1275, 1292, 1309, 1326, 1343, 1360, 1377, 1394, 1411, 1428, 1445, 1462, 1479, 1496, 1513, 1530, 1547, 1564, 1581, 1598, 1615, 1632, 1649, 1666, 1683, 1700, 1717, 1734, 1751, 1768, 1785, 1802, 1819, 1836, 1853, 1870, 1887, 1904, 1921, 1938, 1955, 1972, 1989, 2006, 2023, 2040, 2057, 2074, 2091, 2108, 2125, 2142, 2159, 2176, 2193, 2210, 2227, 2244, 2261, 2278, 2295, 2312, 2329, 2346, 2363, 2380, 2397, 2414, 2431, 2448, 2465, 2482, 2499, 2516, 2533, 2550, 2567, 2584, 2601, 2618, 2635, 2652, 2669, 2686, 2703, 2720, 2737, 2754, 2771, 2788, 2805, 2822, 2839, 2856, 2873, 2890, 2907, 2924, 2941, 2958, 2975, 2992, 3009, 3026, 3043, 3060, 3077, 3094, 3111, 3128, 3145, 3162, 3179, 3196, 3213, 3230, 3247, 3264, 3281, 3298, 3315, 3332, 3349, 3366, 3383, 3400, 3417, 3434, 3451, 3468, 3485, 3502, 3519, 3536, 3553, 3570, 3587, 3604, 3621, 3638, 3655, 3672, 3689, 3706, 3723, 3740, 3757, 3774, 3791, 3808, 3825, 3842, 3859, 3876, 3893, 3910, 3927, 3944, 3961, 3978, 3995, 4012, 4029, 4046, 4063, 4080, 4097, 4114, 4131, 4148, 4165, 4182, 4199, 4216, 4233, 4250, 4267, 4284, 4301, 4318, 4335, 4352, 4369, 4386, 4403, 4420, 4437, 4454, 4471, 4488, 4505, 4522, 4539, 4556, 4573, 4590, 4607, 4624, 4641, 4658, 4675, 4692, 4709, 4726, 4743, 4760, 4777, 4794, 4811, 4828, 4845, 4862, 4879, 4896, 4913, 4930, 4947, 4964, 4981, 4998, 5015, 5032, 5049, 5066, 5083, 5100, 5117, 5134, 5151, 5168, 5185, 5202, 5219, 5236, 5253, 5270, 5287, 5304, 5321, 5338, 5355, 5372, 5389, 5406, 5423, 5440, 5457, 5474, 5491, 5508, 5525, 5542, 5559, 5576, 5593, 5610, 5627, 5644, 5661, 5678, 5695, 5712, 5729, 5746, 5763, 5780, 5797, 5814, 5831, 5848, 5865, 5882, 5899, 5916, 5933, 5950, 5967, 5984, 6001, 6018, 6035, 6052, 6069, 6086, 6103, 6120, 6137, 6154, 6171, 6188, 6205, 6222, 6239, 6256, 6273, 6290, 6307, 6324, 6341, 6358, 6375, 6392, 6409, 6426, 6443, 6460, 6477, 6494, 6511, 6528, 6545, 6562, 6579, 6596, 6613, 6630, 6647, 6664, 6681, 6698, 6715, 6732, 6749, 6766, 6783, 6800, 6817, 6834, 6851, 6868, 6885, 6902, 6919, 6936, 6953, 6970, 6987, 7004, 7021, 7038, 7055, 7072, 7089, 7106, 7123, 7140, 7157, 7174, 7191, 7208, 7225, 7242, 7259, 7276, 7293, 7310, 7327, 7344, 7361, 7378, 7395, 7412, 7429, 7446, 7463, 7480, 7497, 7514, 7531, 7548, 7565, 7582, 7599, 7616, 7633, 7650, 7667, 7684, 7701, 7718, 7735, 7752, 7769, 7786, 7803, 7820, 7837, 7854, 7871, 7888, 7905, 7922, 7939, 7956, 7973, 7990, 8007, 8024, 8041, 8058, 8075, 8092, 8109, 8126, 8143, 8160, 8177, 8194, 8211, 8228, 8245, 8262, 8279, 8296, 8313, 8330, 8347, 8364, 8381, 8398, 8415, 8432, 8449, 8466, 8483, 8500, 8517, 8534, 8551, 8568, 8585, 8602, 8619, 8636, 8653, 8670, 8687, 8704, 8721, 8738, 8755, 8772, 8789, 8806, 8823, 8840, 8857, 8874, 8891, 8908, 8925, 8942, 8959, 8976, 8993, 9010, 9027, 9044, 9061, 9078, 9095, 9112, 9129, 9146, 9163, 9180, 9197, 9214, 9231, 9248, 9265, 9282, 9299, 9316, 9333, 9350, 9367, 9384, 9401, 9418, 9435, 9452, 9469, 9486, 9503, 9520, 9537, 9554, 9571, 9588, 9605, 9622, 9639, 9656, 9673, 9690, 9707, 9724, 9741, 9758, 9775, 9792, 9809, 9826, 9843, 9860, 9877, 9894, 9911, 9928, 9945, 9962, 9979, 9996, count of the divisible number is: 530\n",
      "the total sum of the divisible numbers between 1000 to 10000: 2914735\n"
     ]
    }
   ],
   "source": [
    "# write a for statement that computes the sum of all numbers between 1000 and 10000 that are divisible by 17\n",
    "\n",
    "count=0\n",
    "s=0\n",
    "for i in range(1000,10000+1):\n",
    "    if(i%17==0):\n",
    "        print(i,end=', ')\n",
    "        count+=1\n",
    "        s+=i\n",
    "print('count of the divisible number is:',count)\n",
    "print('the total sum of the divisible numbers between 1000 to 10000:',s)"
   ]
  },
  {
   "cell_type": "markdown",
   "id": "88b75abe",
   "metadata": {},
   "source": [
    "# 91"
   ]
  },
  {
   "cell_type": "code",
   "execution_count": 93,
   "id": "7f5b5437",
   "metadata": {},
   "outputs": [
    {
     "name": "stdout",
     "output_type": "stream",
     "text": [
      "Enter a number to search for: 20\n",
      "The number 20 is present at position 1.\n"
     ]
    }
   ],
   "source": [
    "# write a program to check if a number is present in the list or not. if the number is present, print the positionmof the number. print an appropriate message if the number is not present in the list.\n",
    "\n",
    "# Input list of numbers (you can customize this list)\n",
    "numbers = [10, 20, 30, 40, 50]\n",
    "\n",
    "# Input the number to search for\n",
    "search_number = int(input(\"Enter a number to search for: \"))\n",
    "\n",
    "# Initialize a variable to store the position (index) of the number\n",
    "position = -1  # Initialize to -1, indicating not found\n",
    "\n",
    "# Iterate through the list to find the number and its position\n",
    "for i, num in enumerate(numbers):\n",
    "    if num == search_number:\n",
    "        position = i\n",
    "        break\n",
    "\n",
    "# Check if the number was found or not\n",
    "if position != -1:\n",
    "    print(f\"The number {search_number} is present at position {position}.\")\n",
    "else:\n",
    "    print(f\"The number {search_number} is not present in the list.\")\n"
   ]
  },
  {
   "cell_type": "markdown",
   "id": "b3bcb8a3",
   "metadata": {},
   "source": [
    "# 92"
   ]
  },
  {
   "cell_type": "code",
   "execution_count": 94,
   "id": "d4a0e5c9",
   "metadata": {},
   "outputs": [
    {
     "name": "stdout",
     "output_type": "stream",
     "text": [
      "Enter a list of integers separated by spaces: 11 12 32 1 24 53 29\n",
      "Original list: [11, 12, 32, 1, 24, 53, 29]\n",
      "Positive numbers: [11, 12, 32, 1, 24, 53, 29]\n",
      "Negative numbers: []\n"
     ]
    }
   ],
   "source": [
    "# write a program to read a list of n integers(positive as well as negative). create two new lists,one having all positive numbers and the other having all negative numbers from the given list. show all three lists.\n",
    "\n",
    "# Input the list of integers (n integers separated by spaces)\n",
    "input_str = input(\"Enter a list of integers separated by spaces: \")\n",
    "\n",
    "# Split the input string into a list of integers\n",
    "numbers = [int(x) for x in input_str.split()]\n",
    "\n",
    "# Initialize two empty lists for positive and negative numbers\n",
    "positive_numbers = []\n",
    "negative_numbers = []\n",
    "\n",
    "# Iterate through the list and separate positive and negative numbers\n",
    "for num in numbers:\n",
    "    if num > 0:\n",
    "        positive_numbers.append(num)\n",
    "    elif num < 0:\n",
    "        negative_numbers.append(num)\n",
    "\n",
    "# Display all three lists\n",
    "print(\"Original list:\", numbers)\n",
    "print(\"Positive numbers:\", positive_numbers)\n",
    "print(\"Negative numbers:\", negative_numbers)\n"
   ]
  },
  {
   "cell_type": "markdown",
   "id": "92d8de99",
   "metadata": {},
   "source": [
    "# 93"
   ]
  },
  {
   "cell_type": "markdown",
   "id": "68f85cbb",
   "metadata": {},
   "source": [
    "mark daniels is a carpenteer who creates personalized house signs. he wants an application to compute the price of any sign a customer order , based on the following factors: \n",
    "1)the minimum  charge for all signs is 30.\n",
    "\n",
    "2)if the sign is made of oak, add 15. no charge is added for pine.\n",
    "\n",
    "3)the first six letters or numbers are included in the minimum charge; there is a 3 charge for each additional character.                                       \n",
    "\n",
    "4)black and white characers are included inthe minimum charge; there is an additional 12 charge for gold lettering.                                        \n",
    "a) a program that accepts data for an order number, customer name, wwod type, number of characters, and color of characters. display all the entered data and the final price for the sign.   \n",
    "\n",
    "b) a program that continuously accepts sign order data and displays all the relevant information for oak signs with five white letters.   \n",
    "\n",
    "c) a program that continuously accepts sign order data and displays all the relevant information for pine signs with gold-leaf lettering and more than 10 characters "
   ]
  },
  {
   "cell_type": "code",
   "execution_count": 114,
   "id": "0a7d3945",
   "metadata": {},
   "outputs": [
    {
     "name": "stdout",
     "output_type": "stream",
     "text": [
      "1.the detail of personalized house sign\n",
      "2. exit\n",
      "enter the choice(1/2):1\n",
      "enter the order number of the customer:11\n",
      "enter the customer name:we\n",
      "enter the wood type(oak/pine/anthing):oak\n",
      "enter the number of characters:12\n",
      "enter the colour of characters(black/white/gold_leaf):gold_leaf\n",
      "the total amount is: 75\n",
      "1.the detail of personalized house sign\n",
      "2. exit\n",
      "enter the choice(1/2):1\n",
      "enter the order number of the customer:12\n",
      "enter the customer name:wq\n",
      "enter the wood type(oak/pine/anthing):anything\n",
      "enter the number of characters:6\n",
      "enter the colour of characters(black/white/gold_leaf):black\n",
      "the total amount is: 30\n",
      "1.the detail of personalized house sign\n",
      "2. exit\n",
      "enter the choice(1/2):2\n",
      "thank you\n"
     ]
    }
   ],
   "source": [
    "while True:\n",
    "    print('1.the detail of personalized house sign')\n",
    "    print('2. exit')\n",
    "    choice=int(input('enter the choice(1/2):'))\n",
    "    if choice==1:\n",
    "           \n",
    "        min_charge=30\n",
    "        order_number=int(input('enter the order number of the customer:'))\n",
    "        customer_name=input('enter the customer name:')\n",
    "        sign=input('enter the wood type(oak/pine/anthing):')\n",
    "        num_character=int(input('enter the number of characters:'))\n",
    "        colour=input('enter the colour of characters(black/white/gold_leaf):')\n",
    "        \n",
    "        \n",
    "        if sign=='oak':\n",
    "            charge=min_charge+15\n",
    "        else:\n",
    "            charge=min_charge\n",
    "    \n",
    "        if (num_character)>6:\n",
    "            charge+= (num_character-6)*3\n",
    "    \n",
    "        if colour=='gold_leaf':\n",
    "            charge+=12\n",
    "        else:\n",
    "            charge=min_charge\n",
    "    \n",
    "\n",
    "        print('the total amount is:',charge)\n",
    "    elif (choice==2):\n",
    "        print('thank you')\n",
    "        break\n",
    "    else:\n",
    "        print('invalid option')\n",
    "\n"
   ]
  },
  {
   "cell_type": "markdown",
   "id": "1b4560df",
   "metadata": {},
   "source": [
    "# 94"
   ]
  },
  {
   "cell_type": "markdown",
   "id": "561141c7",
   "metadata": {},
   "source": [
    "black dot printing ia attempting to organize carpools to save energy. each input record contains an employee's name and town of residence. ten persent of the company's employees live in wonder lake; 30 percent live in the adjacent town of woodstock. black dot wants to encourage employees who live in either town to drive to work together.\n",
    "\n",
    "a) a program that accepts an employee's data and displays it with a message that indicates whether the employee is a candidate for the carpool(because he live in one of the two cities).\n",
    "\n",
    "b) a program that continuously accepts employee data until a sentinel value is entered , and displays a list of all employees who are carpool candidates.\n",
    "\n",
    "c)a program that continuously accepts employee data untill a sentinel value is entered, and displays a list of all employee who are ineligible to carpool because they do not live in either wonder lake or woodstock."
   ]
  },
  {
   "cell_type": "code",
   "execution_count": 131,
   "id": "7f6a1c07",
   "metadata": {},
   "outputs": [
    {
     "name": "stdout",
     "output_type": "stream",
     "text": [
      "enter the name of the employee(or enter \"quit\" to stop):an\n",
      "enter the town of the employee:woodstock\n",
      "enter the name of the employee(or enter \"quit\" to stop):pol\n",
      "enter the town of the employee:wonder lake\n",
      "enter the name of the employee(or enter \"quit\" to stop):moni\n",
      "enter the town of the employee:hjfghfhbj\n",
      "enter the name of the employee(or enter \"quit\" to stop):quit\n",
      "an are carpool candidates\n",
      "pol are carpool candidates\n",
      "moni not the carpool candidates\n"
     ]
    }
   ],
   "source": [
    "employee_data=[]\n",
    "while True:\n",
    "    name=input('enter the name of the employee(or enter \"quit\" to stop):')\n",
    "    \n",
    "    if name=='quit':\n",
    "        break\n",
    "    \n",
    "    town=input('enter the town of the employee:')\n",
    "    \n",
    "    employee_data.append((name,town))\n",
    "    \n",
    "for name,town in employee_data:\n",
    "        \n",
    "    if (town.lower()== 'wonder lake' or town.lower()=='woodstock'):\n",
    "        print(f'{name} are carpool candidates')\n",
    "            \n",
    "    else:\n",
    "        print(f'{name} not the carpool candidates')"
   ]
  },
  {
   "cell_type": "markdown",
   "id": "6d02ecd1",
   "metadata": {},
   "source": [
    "# 95"
   ]
  },
  {
   "cell_type": "markdown",
   "id": "5c19defd",
   "metadata": {},
   "source": [
    "design a program that computes pay for employees.\n",
    "\n",
    "weekly gross pay                withholding percentage(%)\n",
    "0.00-300.00                       10\n",
    "300.01-550.00                     13\n",
    "550.01-800.00                     16\n",
    "800.01-and up                     20\n",
    "\n",
    "withholding percentage based on grosss pay\n",
    "\n",
    "allow a user to continuously input employees' name until an appropriate sentinel value entered. also input each employee's hourly wage and hours worked. compute each employee gross pay(hours times rate), withholding tax percentage (based on above table), withholding tax amount, and net pay (gross pay minus withholding tax). display all the results for each employee. after the employee has been entered, display the sum of all the hours worked,the total gross payroll, the total withholding for all employees, and the total net payroll."
   ]
  },
  {
   "cell_type": "code",
   "execution_count": 135,
   "id": "c049216c",
   "metadata": {},
   "outputs": [
    {
     "name": "stdout",
     "output_type": "stream",
     "text": [
      "enter the name(or enter \"quit\"):w\n",
      "enter the hourly wage of the employee:34\n",
      "enter the hourly worked the employee:4\n",
      "\n",
      "Employee Name: w\n",
      "Hourly Wage: 34\n",
      "the gross pay: 136\n",
      "the hourly worked: 4\n",
      "the withholding tax amount: 13.600000000000001\n",
      "the net pay : 122.4\n",
      "enter the name(or enter \"quit\"):t\n",
      "enter the hourly wage of the employee:57\n",
      "enter the hourly worked the employee:7\n",
      "\n",
      "Employee Name: t\n",
      "Hourly Wage: 57\n",
      "the gross pay: 399\n",
      "the hourly worked: 7\n",
      "the withholding tax amount: 51.870000000000005\n",
      "the net pay : 347.13\n",
      "enter the name(or enter \"quit\"):i\n",
      "enter the hourly wage of the employee:320\n",
      "enter the hourly worked the employee:9\n",
      "\n",
      "Employee Name: i\n",
      "Hourly Wage: 320\n",
      "the gross pay: 2880\n",
      "the hourly worked: 9\n",
      "the withholding tax amount: 576.0\n",
      "the net pay : 2304.0\n",
      "enter the name(or enter \"quit\"):quit\n",
      "Total Gross Payroll for All Employees: 3415\n",
      "Total Hours Worked for All Employees: 20\n",
      "Total Withholding for All Employees: 641.47\n",
      "Total Net Payroll for All Employees: 2773.5299999999997\n"
     ]
    }
   ],
   "source": [
    "total_hourlyworked=0\n",
    "total_grosspay=0\n",
    "total_withholding=0\n",
    "total_netpayroll=0\n",
    "while True:\n",
    "    employee_name=input('enter the name(or enter \"quit\"):')\n",
    "    if employee_name=='quit':\n",
    "        break\n",
    "    \n",
    "    else:\n",
    "        hourly_wage=int(input('enter the hourly wage of the employee:'))\n",
    "        hourly_worked=int(input('enter the hourly worked the employee:'))\n",
    "        gross_pay=hourly_wage*hourly_worked\n",
    "        \n",
    "        \n",
    "    if gross_pay<=300:\n",
    "        withholding_amount=gross_pay*(10/100)\n",
    "    elif gross_pay<=550:\n",
    "        withholding_amount=gross_pay*(13/100)\n",
    "    elif gross_pay<=800:\n",
    "        withholding_amount=gross_pay*(16/100)\n",
    "    else:\n",
    "        withholding_amount=gross_pay*(20/100)\n",
    "        \n",
    "    net_pay=gross_pay-withholding_amount\n",
    "    \n",
    "    print(\"\\nEmployee Name:\", employee_name)\n",
    "    print(\"Hourly Wage:\", hourly_wage)\n",
    "    print('the gross pay:',gross_pay)\n",
    "    print('the hourly worked:',hourly_worked)\n",
    "    print('the withholding tax amount:',withholding_amount)\n",
    "    print('the net pay :',net_pay)\n",
    "    \n",
    "    \n",
    "    total_hourlyworked+=hourly_worked\n",
    "    total_grosspay+=gross_pay\n",
    "    total_withholding+=withholding_amount\n",
    "    total_netpayroll+=net_pay\n",
    "    \n",
    "print('\\nTotal Gross Payroll for All Employees:',total_grosspay)\n",
    "print('Total Hours Worked for All Employees:',total_hourlyworked)\n",
    "print('Total Withholding for All Employees:',total_withholding)\n",
    "print('Total Net Payroll for All Employees:',total_netpayroll)\n",
    "    "
   ]
  },
  {
   "cell_type": "markdown",
   "id": "77f1abbb",
   "metadata": {},
   "source": []
  },
  {
   "cell_type": "code",
   "execution_count": 134,
   "id": "4e1b3f25",
   "metadata": {},
   "outputs": [
    {
     "name": "stdout",
     "output_type": "stream",
     "text": [
      "Enter employee's name (or 'quit' to exit): e\n",
      "Enter hourly wage: 50\n",
      "Enter hours worked: 8\n",
      "\n",
      "Employee Name: e\n",
      "Hourly Wage: 50.0\n",
      "Hours Worked: 8.0\n",
      "Gross Pay: 400.0\n",
      "Withholding Percentage: 13 %\n",
      "Withholding Tax Amount: 52.0\n",
      "Net Pay: 348.0\n",
      "Enter employee's name (or 'quit' to exit): t\n",
      "Enter hourly wage: 155\n",
      "Enter hours worked: 6\n",
      "\n",
      "Employee Name: t\n",
      "Hourly Wage: 155.0\n",
      "Hours Worked: 6.0\n",
      "Gross Pay: 930.0\n",
      "Withholding Percentage: 20 %\n",
      "Withholding Tax Amount: 186.0\n",
      "Net Pay: 744.0\n",
      "Enter employee's name (or 'quit' to exit): y\n",
      "Enter hourly wage: 45\n",
      "Enter hours worked: 5\n",
      "\n",
      "Employee Name: y\n",
      "Hourly Wage: 45.0\n",
      "Hours Worked: 5.0\n",
      "Gross Pay: 225.0\n",
      "Withholding Percentage: 10 %\n",
      "Withholding Tax Amount: 22.5\n",
      "Net Pay: 202.5\n",
      "Enter employee's name (or 'quit' to exit): quit\n",
      "\n",
      "Total Hours Worked for All Employees: 19.0\n",
      "Total Gross Payroll for All Employees: 1555.0\n",
      "Total Withholding for All Employees: 260.5\n",
      "Total Net Payroll for All Employees: 1294.5\n"
     ]
    }
   ],
   "source": [
    "# Initialize variables to store totals\n",
    "total_hours_worked = 0\n",
    "total_gross_payroll = 0\n",
    "total_withholding = 0\n",
    "total_net_payroll = 0\n",
    "\n",
    "while True:\n",
    "    # Input employee's name (use \"quit\" to exit)\n",
    "    employee_name = input(\"Enter employee's name (or 'quit' to exit): \")\n",
    "\n",
    "    if employee_name.lower() == \"quit\":\n",
    "        break\n",
    "\n",
    "    # Input hourly wage and hours worked\n",
    "    hourly_wage = float(input(\"Enter hourly wage: \"))\n",
    "    hours_worked = float(input(\"Enter hours worked: \"))\n",
    "\n",
    "    # Calculate gross pay\n",
    "    gross_pay = hourly_wage * hours_worked\n",
    "\n",
    "    # Determine withholding percentage\n",
    "    if gross_pay <= 300:\n",
    "        withholding_percentage = 10\n",
    "    elif gross_pay <= 550:\n",
    "        withholding_percentage = 13\n",
    "    elif gross_pay <= 800:\n",
    "        withholding_percentage = 16\n",
    "    else:\n",
    "        withholding_percentage = 20\n",
    "\n",
    "    # Calculate withholding tax amount\n",
    "    withholding_amount = (withholding_percentage / 100) * gross_pay\n",
    "\n",
    "    # Calculate net pay\n",
    "    net_pay = gross_pay - withholding_amount\n",
    "\n",
    "    # Display employee's pay details\n",
    "    print(\"\\nEmployee Name:\", employee_name)\n",
    "    print(\"Hourly Wage:\", hourly_wage)\n",
    "    print(\"Hours Worked:\", hours_worked)\n",
    "    print(\"Gross Pay:\", gross_pay)\n",
    "    print(\"Withholding Percentage:\", withholding_percentage, \"%\")\n",
    "    print(\"Withholding Tax Amount:\", withholding_amount)\n",
    "    print(\"Net Pay:\", net_pay)\n",
    "\n",
    "    # Update totals\n",
    "    total_hours_worked += hours_worked\n",
    "    total_gross_payroll += gross_pay\n",
    "    total_withholding += withholding_amount\n",
    "    total_net_payroll += net_pay\n",
    "\n",
    "# Display totals for all employees\n",
    "print(\"\\nTotal Hours Worked for All Employees:\", total_hours_worked)\n",
    "print(\"Total Gross Payroll for All Employees:\", total_gross_payroll)\n",
    "print(\"Total Withholding for All Employees:\", total_withholding)\n",
    "print(\"Total Net Payroll for All Employees:\", total_net_payroll)\n"
   ]
  },
  {
   "cell_type": "markdown",
   "id": "384a8c37",
   "metadata": {},
   "source": [
    "# 96"
   ]
  },
  {
   "cell_type": "markdown",
   "id": "e1210932",
   "metadata": {},
   "source": [
    "A class named order that performs order processing of a single item. the class has four fields: customer name, customer number, quantity ordered, and unit price. include set and get methods for each field.the set methods prompt the user for values for each field. this class also needs a computeprice() method to compute the total price(quantity multiplied by unit price) and a method to display the field values.\n",
    "\n",
    "a) create a subclass named shipped order that overrides computerprice() by adding a shipping and handling charge of 4.00.\n",
    "\n",
    "b) create the logic for an application that instantiates an object of each of these two classes. prompt the user for data for the order object and display the results; then prompt the user for data for the shipped order object and display the results.\n",
    "\n",
    "c) create the logic for an application that continuously prompts for order information until the user enters ZZZ for the customer name or 10 orders have been taken, whichever comes first. ask the user whether each order will be shipped, and create an order or a shippedorder accordingly. store each order in an array element. when the user finishes entering data, display all the order information taken as well as the total price that was computed for each order."
   ]
  },
  {
   "cell_type": "code",
   "execution_count": 10,
   "id": "0a85e54f",
   "metadata": {},
   "outputs": [
    {
     "name": "stdout",
     "output_type": "stream",
     "text": [
      "Enter Order Information:\n",
      "Customer Name: w\n",
      "Customer Number: 3\n",
      "Quantity Ordered: 3\n",
      "Unit Price: 44\n",
      "Customer Name:  w\n",
      "Customer Number:  3\n",
      "Quantity Ordered:  3\n",
      "Unit Price:  44.0\n",
      "Total Price:  132.0\n",
      "\n",
      "Enter Shipped Order Information:\n",
      "Customer Name: r\n",
      "Customer Number: 5\n",
      "Quantity Ordered: 555\n",
      "Unit Price: 5555\n",
      "Customer Name:  r\n",
      "Customer Number:  5\n",
      "Quantity Ordered:  555\n",
      "Unit Price:  5555.0\n",
      "Total Price:  3083029.0\n"
     ]
    }
   ],
   "source": [
    "class Order:\n",
    "    def _init_(self):\n",
    "        self.customer_name = \"\"\n",
    "        self.customer_number = \"\"\n",
    "        self.quantity_ordered = 0\n",
    "        self.unit_price = 0.0\n",
    "\n",
    "    def set_customer_name(self, name):\n",
    "        self.customer_name = name\n",
    "\n",
    "    def get_customer_name(self):\n",
    "        return self.customer_name\n",
    "\n",
    "    def set_customer_number(self, number):\n",
    "        self.customer_number = number\n",
    "\n",
    "    def get_customer_number(self):\n",
    "        return self.customer_number\n",
    "\n",
    "    def set_quantity_ordered(self, quantity):\n",
    "        self.quantity_ordered = quantity\n",
    "\n",
    "    def get_quantity_ordered(self):\n",
    "        return self.quantity_ordered\n",
    "\n",
    "    def set_unit_price(self, price):\n",
    "        self.unit_price = price\n",
    "\n",
    "    def get_unit_price(self):\n",
    "        return self.unit_price\n",
    "\n",
    "    def compute_price(self):\n",
    "        return self.quantity_ordered * self.unit_price\n",
    "\n",
    "    def display_order(self):\n",
    "        print(\"Customer Name: \",self.customer_name)\n",
    "        print(\"Customer Number: \",self.customer_number)\n",
    "        print(\"Quantity Ordered: \",self.quantity_ordered)\n",
    "        print(\"Unit Price: \",self.unit_price)\n",
    "        print(\"Total Price: \",self.compute_price())\n",
    "\n",
    "\n",
    "\n",
    "class ShippedOrder(Order):\n",
    "    def compute_price(self):\n",
    "        base_price = super().compute_price()\n",
    "        return base_price + 4.00\n",
    "\n",
    "\n",
    "order = Order()\n",
    "print(\"Enter Order Information:\")\n",
    "order.set_customer_name(input(\"Customer Name: \"))\n",
    "order.set_customer_number(input(\"Customer Number: \"))\n",
    "order.set_quantity_ordered(int(input(\"Quantity Ordered: \")))\n",
    "order.set_unit_price(float(input(\"Unit Price: \")))\n",
    "\n",
    "\n",
    "order.display_order()\n",
    "\n",
    "\n",
    "shipped_order = ShippedOrder()\n",
    "print(\"\\nEnter Shipped Order Information:\")\n",
    "shipped_order.set_customer_name(input(\"Customer Name: \"))\n",
    "shipped_order.set_customer_number(input(\"Customer Number: \"))\n",
    "shipped_order.set_quantity_ordered(int(input(\"Quantity Ordered: \")))\n",
    "shipped_order.set_unit_price(float(input(\"Unit Price: \")))\n",
    "\n",
    "\n",
    "shipped_order.display_order()"
   ]
  },
  {
   "cell_type": "code",
   "execution_count": 11,
   "id": "68640266",
   "metadata": {},
   "outputs": [
    {
     "name": "stdout",
     "output_type": "stream",
     "text": [
      "Enter customer name (ZZZ to exit): e\n",
      "Is this a shipped order? (yes/no): 4\n"
     ]
    },
    {
     "ename": "TypeError",
     "evalue": "set_customer_name() missing 1 required positional argument: 'name'",
     "output_type": "error",
     "traceback": [
      "\u001b[1;31m---------------------------------------------------------------------------\u001b[0m",
      "\u001b[1;31mTypeError\u001b[0m                                 Traceback (most recent call last)",
      "\u001b[1;32m<ipython-input-11-3983a6414811>\u001b[0m in \u001b[0;36m<module>\u001b[1;34m\u001b[0m\n\u001b[0;32m     14\u001b[0m         \u001b[0morder\u001b[0m \u001b[1;33m=\u001b[0m \u001b[0mOrder\u001b[0m\u001b[1;33m(\u001b[0m\u001b[1;33m)\u001b[0m\u001b[1;33m\u001b[0m\u001b[1;33m\u001b[0m\u001b[0m\n\u001b[0;32m     15\u001b[0m \u001b[1;33m\u001b[0m\u001b[0m\n\u001b[1;32m---> 16\u001b[1;33m     \u001b[0morder\u001b[0m\u001b[1;33m.\u001b[0m\u001b[0mset_customer_name\u001b[0m\u001b[1;33m(\u001b[0m\u001b[1;33m)\u001b[0m\u001b[1;33m\u001b[0m\u001b[1;33m\u001b[0m\u001b[0m\n\u001b[0m\u001b[0;32m     17\u001b[0m     \u001b[0morder\u001b[0m\u001b[1;33m.\u001b[0m\u001b[0mset_customer_number\u001b[0m\u001b[1;33m(\u001b[0m\u001b[1;33m)\u001b[0m\u001b[1;33m\u001b[0m\u001b[1;33m\u001b[0m\u001b[0m\n\u001b[0;32m     18\u001b[0m     \u001b[0morder\u001b[0m\u001b[1;33m.\u001b[0m\u001b[0mset_quantity_ordered\u001b[0m\u001b[1;33m(\u001b[0m\u001b[1;33m)\u001b[0m\u001b[1;33m\u001b[0m\u001b[1;33m\u001b[0m\u001b[0m\n",
      "\u001b[1;31mTypeError\u001b[0m: set_customer_name() missing 1 required positional argument: 'name'"
     ]
    }
   ],
   "source": [
    "orders = []\n",
    "\n",
    "while len(orders) < 10:\n",
    "    customer_name = input(\"Enter customer name (ZZZ to exit): \")\n",
    "    \n",
    "    if customer_name == \"ZZZ\":\n",
    "        break\n",
    "    \n",
    "    is_shipped_order = input(\"Is this a shipped order? (yes/no): \").lower() == \"yes\"\n",
    "    \n",
    "    if is_shipped_order:\n",
    "        order = ShippedOrder()\n",
    "    else:\n",
    "        order = Order()\n",
    "    \n",
    "    order.set_customer_name()\n",
    "    order.set_customer_number()\n",
    "    order.set_quantity_ordered()\n",
    "    order.set_unit_price()\n",
    "    \n",
    "    orders.append(order)\n",
    "\n",
    "# Display all order information\n",
    "for i, order in enumerate(orders):\n",
    "    print(f\"\\nOrder {i + 1} Information:\")\n",
    "    order.display_order()\n",
    "\n",
    "# Calculate and display total prices for each order\n",
    "for i, order in enumerate(orders):\n",
    "    print(f\"Total Price for Order {i + 1}: {order.compute_price()}\")"
   ]
  },
  {
   "cell_type": "code",
   "execution_count": 12,
   "id": "4384cd4e",
   "metadata": {},
   "outputs": [
    {
     "name": "stdout",
     "output_type": "stream",
     "text": [
      "\n",
      "Enter Order Details:\n",
      "Enter Customer Name ('ZZZ' to exit): s\n",
      "Enter Customer Number: 4\n",
      "Enter Quantity Ordered: 44\n",
      "Enter Unit Price: 4\n",
      "Is it a Shipped Order (Y/N): n\n",
      "\n",
      "Enter Order Details:\n",
      "Enter Customer Name ('ZZZ' to exit): \n",
      "Enter Customer Number: \n",
      "Enter Quantity Ordered: \n"
     ]
    },
    {
     "ename": "ValueError",
     "evalue": "invalid literal for int() with base 10: ''",
     "output_type": "error",
     "traceback": [
      "\u001b[1;31m---------------------------------------------------------------------------\u001b[0m",
      "\u001b[1;31mValueError\u001b[0m                                Traceback (most recent call last)",
      "\u001b[1;32m<ipython-input-12-1fe24fd75c81>\u001b[0m in \u001b[0;36m<module>\u001b[1;34m\u001b[0m\n\u001b[0;32m     56\u001b[0m \u001b[1;33m\u001b[0m\u001b[0m\n\u001b[0;32m     57\u001b[0m \u001b[1;32mif\u001b[0m \u001b[0m__name__\u001b[0m \u001b[1;33m==\u001b[0m \u001b[1;34m\"__main__\"\u001b[0m\u001b[1;33m:\u001b[0m\u001b[1;33m\u001b[0m\u001b[1;33m\u001b[0m\u001b[0m\n\u001b[1;32m---> 58\u001b[1;33m     \u001b[0mmain\u001b[0m\u001b[1;33m(\u001b[0m\u001b[1;33m)\u001b[0m\u001b[1;33m\u001b[0m\u001b[1;33m\u001b[0m\u001b[0m\n\u001b[0m",
      "\u001b[1;32m<ipython-input-12-1fe24fd75c81>\u001b[0m in \u001b[0;36mmain\u001b[1;34m()\u001b[0m\n\u001b[0;32m     34\u001b[0m \u001b[1;33m\u001b[0m\u001b[0m\n\u001b[0;32m     35\u001b[0m         \u001b[0mcustomer_number\u001b[0m \u001b[1;33m=\u001b[0m \u001b[0minput\u001b[0m\u001b[1;33m(\u001b[0m\u001b[1;34m\"Enter Customer Number: \"\u001b[0m\u001b[1;33m)\u001b[0m\u001b[1;33m\u001b[0m\u001b[1;33m\u001b[0m\u001b[0m\n\u001b[1;32m---> 36\u001b[1;33m         \u001b[0mquantity_ordered\u001b[0m \u001b[1;33m=\u001b[0m \u001b[0mint\u001b[0m\u001b[1;33m(\u001b[0m\u001b[0minput\u001b[0m\u001b[1;33m(\u001b[0m\u001b[1;34m\"Enter Quantity Ordered: \"\u001b[0m\u001b[1;33m)\u001b[0m\u001b[1;33m)\u001b[0m\u001b[1;33m\u001b[0m\u001b[1;33m\u001b[0m\u001b[0m\n\u001b[0m\u001b[0;32m     37\u001b[0m         \u001b[0munit_price\u001b[0m \u001b[1;33m=\u001b[0m \u001b[0mfloat\u001b[0m\u001b[1;33m(\u001b[0m\u001b[0minput\u001b[0m\u001b[1;33m(\u001b[0m\u001b[1;34m\"Enter Unit Price: \"\u001b[0m\u001b[1;33m)\u001b[0m\u001b[1;33m)\u001b[0m\u001b[1;33m\u001b[0m\u001b[1;33m\u001b[0m\u001b[0m\n\u001b[0;32m     38\u001b[0m         \u001b[0mis_shipped\u001b[0m \u001b[1;33m=\u001b[0m \u001b[0minput\u001b[0m\u001b[1;33m(\u001b[0m\u001b[1;34m\"Is it a Shipped Order (Y/N): \"\u001b[0m\u001b[1;33m)\u001b[0m\u001b[1;33m.\u001b[0m\u001b[0mstrip\u001b[0m\u001b[1;33m(\u001b[0m\u001b[1;33m)\u001b[0m\u001b[1;33m.\u001b[0m\u001b[0mupper\u001b[0m\u001b[1;33m(\u001b[0m\u001b[1;33m)\u001b[0m \u001b[1;33m==\u001b[0m \u001b[1;34m'Y'\u001b[0m\u001b[1;33m\u001b[0m\u001b[1;33m\u001b[0m\u001b[0m\n",
      "\u001b[1;31mValueError\u001b[0m: invalid literal for int() with base 10: ''"
     ]
    }
   ],
   "source": [
    "class Order:\n",
    "    def __init__(self, customer_name, customer_number, quantity_ordered, unit_price):\n",
    "        self.customer_name = customer_name\n",
    "        self.customer_number = customer_number\n",
    "        self.quantity_ordered = quantity_ordered\n",
    "        self.unit_price = unit_price\n",
    "\n",
    "    def compute_price(self):\n",
    "        return self.quantity_ordered * self.unit_price\n",
    "\n",
    "    def display_order(self):\n",
    "        print(\"Customer Name:\", self.customer_name)\n",
    "        print(\"Customer Number:\", self.customer_number)\n",
    "        print(\"Quantity Ordered:\", self.quantity_ordered)\n",
    "        print(\"Unit Price:\", self.unit_price)\n",
    "        print(\"Total Price:\", self.compute_price())\n",
    "\n",
    "class ShippedOrder(Order):\n",
    "    def __init__(self, customer_name, customer_number, quantity_ordered, unit_price):\n",
    "        super().__init__(customer_name, customer_number, quantity_ordered, unit_price)\n",
    "\n",
    "    def compute_price(self):\n",
    "        return super().compute_price() + 4.00\n",
    "\n",
    "def main():\n",
    "    orders = []\n",
    "    max_orders = 10\n",
    "\n",
    "    while len(orders) < max_orders:\n",
    "        print(\"\\nEnter Order Details:\")\n",
    "        customer_name = input(\"Enter Customer Name ('ZZZ' to exit): \")\n",
    "        if customer_name == 'ZZZ' or len(orders) == max_orders:\n",
    "            break\n",
    "\n",
    "        customer_number = input(\"Enter Customer Number: \")\n",
    "        quantity_ordered = int(input(\"Enter Quantity Ordered: \"))\n",
    "        unit_price = float(input(\"Enter Unit Price: \"))\n",
    "        is_shipped = input(\"Is it a Shipped Order (Y/N): \").strip().upper() == 'Y'\n",
    "\n",
    "        if is_shipped:\n",
    "            order = ShippedOrder(customer_name, customer_number, quantity_ordered, unit_price)\n",
    "        else:\n",
    "            order = Order(customer_name, customer_number, quantity_ordered, unit_price)\n",
    "\n",
    "        orders.append(order)\n",
    "\n",
    "    print(\"\\nOrder Details:\")\n",
    "    for i, order in enumerate(orders):\n",
    "        print(f\"\\nOrder {i + 1}:\")\n",
    "        order.display_order()\n",
    "        print(\"===================================\")\n",
    "\n",
    "    print(\"\\nTotal Prices:\")\n",
    "    for i, order in enumerate(orders):\n",
    "        print(f\"Order {i + 1} Total Price:\", order.compute_price())\n",
    "\n",
    "if __name__ == \"__main__\":\n",
    "    main()\n"
   ]
  },
  {
   "cell_type": "markdown",
   "id": "e90543af",
   "metadata": {},
   "source": [
    "# 97"
   ]
  },
  {
   "cell_type": "markdown",
   "id": "0d088bc8",
   "metadata": {},
   "source": [
    "create the following series and do the specified operations:\n",
    "\n",
    "a) english alphabets, having 26 elements with the alphabets as values and default index values.\n",
    "\n",
    "b) vowels, having 5 elements with index labels 'a','e','i','o' and 'u' and all the five values set to zero. check if it is an empty series.\n",
    "\n",
    "c) friends, from a dictionary having roll numbers of five of your friends as data and their first name as keys.\n",
    "\n",
    "d) MT series, an empty series. check if it is an empty series.  \n",
    "\n",
    "e) monthdays, from a numpy array having the number of days in the 12 months of a year. the labels should be the month numbers from 1 to 12.\n",
    "\n",
    "write commands for the following:\n",
    "\n",
    "a) set all the values of vowels to 10 and diplay the series.\n",
    "\n",
    "b)divide all values of vowels by 2 and display the series. \n",
    "\n",
    "c)create another series vowels having 5 elements with index labels 'a','e','i','o' and 'u' having values [2,5,6,3,8] respectively.\n",
    "\n",
    "d) add vowels and vowels1 and assign the result to vowels3.\n",
    "\n",
    "e)subtract, multiply and divide vowels by vowels1.\n",
    "\n",
    "f) alter the labels of vowels1 to ['A','E','I','O','U']."
   ]
  },
  {
   "cell_type": "code",
   "execution_count": 147,
   "id": "7836e5a0",
   "metadata": {},
   "outputs": [
    {
     "name": "stdout",
     "output_type": "stream",
     "text": [
      "a) Vowels with all values set to 10:\n",
      "a    10\n",
      "e    10\n",
      "i    10\n",
      "o    10\n",
      "u    10\n",
      "dtype: int64\n",
      "\n",
      "b) Vowels with all values divided by 2:\n",
      "a    5.0\n",
      "e    5.0\n",
      "i    5.0\n",
      "o    5.0\n",
      "u    5.0\n",
      "dtype: float64\n",
      "\n",
      "d) Sum of vowels and vowels1:\n",
      "a     7.0\n",
      "e    10.0\n",
      "i    11.0\n",
      "o     8.0\n",
      "u    13.0\n",
      "dtype: float64\n",
      "\n",
      "e) Subtraction of vowels from vowels1:\n",
      "a   -3.0\n",
      "e    0.0\n",
      "i    1.0\n",
      "o   -2.0\n",
      "u    3.0\n",
      "dtype: float64\n",
      "\n",
      "Multiplication of vowels and vowels1:\n",
      "a    10.0\n",
      "e    25.0\n",
      "i    30.0\n",
      "o    15.0\n",
      "u    40.0\n",
      "dtype: float64\n",
      "\n",
      "Division of vowels by vowels1:\n",
      "a    2.500000\n",
      "e    1.000000\n",
      "i    0.833333\n",
      "o    1.666667\n",
      "u    0.625000\n",
      "dtype: float64\n",
      "\n",
      "f) Vowels1 with altered labels:\n",
      "A    2\n",
      "E    5\n",
      "I    6\n",
      "O    3\n",
      "U    8\n",
      "dtype: int64\n"
     ]
    },
    {
     "name": "stderr",
     "output_type": "stream",
     "text": [
      "<ipython-input-147-86dcf899cc17>:17: DeprecationWarning: The default dtype for empty Series will be 'object' instead of 'float64' in a future version. Specify a dtype explicitly to silence this warning.\n",
      "  MT = pd.Series()\n"
     ]
    }
   ],
   "source": [
    "import pandas as pd\n",
    "import numpy as np\n",
    "\n",
    "# Create the series\n",
    "# a) English alphabets\n",
    "alphabets = pd.Series(list('abcdefghijklmnopqrstuvwxyz'))\n",
    "\n",
    "# b) Vowels\n",
    "vowels = pd.Series([0, 0, 0, 0, 0], index=['a', 'e', 'i', 'o', 'u'])\n",
    "is_empty_vowels = vowels.empty\n",
    "\n",
    "# c) Friends\n",
    "friends_dict = {101: 'Alice', 102: 'Bob', 103: 'Charlie', 104: 'David', 105: 'Eve'}\n",
    "friends = pd.Series(friends_dict)\n",
    "\n",
    "# d) MT series\n",
    "MT = pd.Series()\n",
    "is_empty_MT = MT.empty\n",
    "\n",
    "# e) Monthdays\n",
    "monthdays = pd.Series(np.array([31, 28, 31, 30, 31, 30, 31, 31, 30, 31, 30, 31]), index=range(1, 13))\n",
    "\n",
    "# Commands\n",
    "# a) Set all values of vowels to 10\n",
    "vowels[:] = 10\n",
    "print(\"a) Vowels with all values set to 10:\")\n",
    "print(vowels)\n",
    "\n",
    "# b) Divide all values of vowels by 2\n",
    "vowels = vowels / 2\n",
    "print(\"\\nb) Vowels with all values divided by 2:\")\n",
    "print(vowels)\n",
    "\n",
    "# c) Create another series 'vowels1'\n",
    "vowels1 = pd.Series([2, 5, 6, 3, 8], index=['a', 'e', 'i', 'o', 'u'])\n",
    "\n",
    "# d) Add vowels and vowels1\n",
    "vowels3 = vowels + vowels1\n",
    "print(\"\\nd) Sum of vowels and vowels1:\")\n",
    "print(vowels3)\n",
    "\n",
    "# e) Subtract, multiply, and divide vowels by vowels1\n",
    "print(\"\\ne) Subtraction of vowels from vowels1:\")\n",
    "print(vowels1 - vowels)\n",
    "print(\"\\nMultiplication of vowels and vowels1:\")\n",
    "print(vowels * vowels1)\n",
    "print(\"\\nDivision of vowels by vowels1:\")\n",
    "print(vowels / vowels1)\n",
    "\n",
    "# f) Alter the labels of vowels1\n",
    "vowels1.index = ['A', 'E', 'I', 'O', 'U']\n",
    "print(\"\\nf) Vowels1 with altered labels:\")\n",
    "print(vowels1)\n"
   ]
  },
  {
   "cell_type": "markdown",
   "id": "6f1b1a24",
   "metadata": {},
   "source": [
    "# 98"
   ]
  },
  {
   "cell_type": "code",
   "execution_count": 57,
   "id": "c5f7c262",
   "metadata": {},
   "outputs": [
    {
     "name": "stdout",
     "output_type": "stream",
     "text": [
      "Count of numbers divisible by 9 between 100 and 200: 11\n",
      "Sum of numbers divisible by 9 between 100 and 200: 1683\n"
     ]
    }
   ],
   "source": [
    "# Initialize variables to store the count and sum\n",
    "count = 0\n",
    "sum_divisible_by_9 = 0\n",
    "\n",
    "# Iterate through numbers from 100 to 200 (inclusive)\n",
    "for number in range(100, 201):\n",
    "    if number % 9 == 0:\n",
    "        # Check if the number is divisible by 9\n",
    "        count += 1\n",
    "        sum_divisible_by_9 += number\n",
    "\n",
    "# Display the count and sum of numbers divisible by 9\n",
    "print(f\"Count of numbers divisible by 9 between 100 and 200: {count}\")\n",
    "print(f\"Sum of numbers divisible by 9 between 100 and 200: {sum_divisible_by_9}\")\n"
   ]
  },
  {
   "cell_type": "code",
   "execution_count": 146,
   "id": "eba25fbd",
   "metadata": {},
   "outputs": [
    {
     "name": "stdout",
     "output_type": "stream",
     "text": [
      "Enter first number: 4\n",
      "Enter second number: 5\n",
      "LCM = 20\n"
     ]
    }
   ],
   "source": [
    "#LCM\n",
    "a= int(input(\"Enter first number: \"))\n",
    "b= int(input(\"Enter second number: \")) \n",
    "if a>b:\n",
    "   small=b\n",
    "else:\n",
    "   small=a\n",
    "for i in range(1,small+1):\n",
    "    if (a%i==0) and (b%i==0):\n",
    "       hcf=i\n",
    "LCM=a*b/(hcf)\n",
    "LCM=int(LCM)\n",
    "print(\"LCM =\", LCM)"
   ]
  },
  {
   "cell_type": "markdown",
   "id": "db39190c",
   "metadata": {},
   "source": [
    "# 99"
   ]
  },
  {
   "cell_type": "code",
   "execution_count": 149,
   "id": "22582ffe",
   "metadata": {},
   "outputs": [
    {
     "data": {
      "text/plain": [
       "['AD',\n",
       " 'AH',\n",
       " 'AA',\n",
       " 'AS',\n",
       " '2D',\n",
       " '2H',\n",
       " '2A',\n",
       " '2S',\n",
       " '3D',\n",
       " '3H',\n",
       " '3A',\n",
       " '3S',\n",
       " '4D',\n",
       " '4H',\n",
       " '4A',\n",
       " '4S',\n",
       " '5D',\n",
       " '5H',\n",
       " '5A',\n",
       " '5S',\n",
       " '6D',\n",
       " '6H',\n",
       " '6A',\n",
       " '6S',\n",
       " '7D',\n",
       " '7H',\n",
       " '7A',\n",
       " '7S',\n",
       " '8D',\n",
       " '8H',\n",
       " '8A',\n",
       " '8S',\n",
       " '9D',\n",
       " '9H',\n",
       " '9A',\n",
       " '9S',\n",
       " '10D',\n",
       " '10H',\n",
       " '10A',\n",
       " '10S',\n",
       " 'KD',\n",
       " 'KH',\n",
       " 'KA',\n",
       " 'KS',\n",
       " 'JD',\n",
       " 'JH',\n",
       " 'JA',\n",
       " 'JS',\n",
       " 'QD',\n",
       " 'QH',\n",
       " 'QA',\n",
       " 'QS']"
      ]
     },
     "execution_count": 149,
     "metadata": {},
     "output_type": "execute_result"
    }
   ],
   "source": [
    "def deck():\n",
    "    n=[\"A\",\"2\",\"3\",\"4\",\"5\",\"6\",\"7\",\"8\",\"9\",\"10\",\"K\",\"J\",\"Q\"]\n",
    "    sym=[\"D\",\"H\",\"A\",\"S\"]\n",
    "    z=[]\n",
    "    for i in n:\n",
    "         for j in sym:\n",
    "                card=i+j\n",
    "                z.append(card)\n",
    "    return z\n",
    "\n",
    "deck()"
   ]
  },
  {
   "cell_type": "markdown",
   "id": "febc044e",
   "metadata": {},
   "source": [
    "# 100"
   ]
  },
  {
   "cell_type": "code",
   "execution_count": 150,
   "id": "93886387",
   "metadata": {},
   "outputs": [
    {
     "name": "stdout",
     "output_type": "stream",
     "text": [
      "Faulty Name: w\n",
      "Enter Direction(0 for Kaniyapuram/1 for Mangalapuram): 0\n",
      "Enter distance in km: 9\n",
      "Faulty Name: e\n",
      "Enter Direction(0 for Kaniyapuram/1 for Mangalapuram): 1\n",
      "Enter distance in km: 7\n",
      "Faulty Name: o\n",
      "Enter Direction(0 for Kaniyapuram/1 for Mangalapuram): 0\n",
      "Enter distance in km: 11\n",
      "Faulty Name: d\n",
      "Enter Direction(0 for Kaniyapuram/1 for Mangalapuram): 1\n",
      "Enter distance in km: 2\n",
      "Faulty Name: t\n",
      "Enter Direction(0 for Kaniyapuram/1 for Mangalapuram): 1\n",
      "Enter distance in km: 8\n",
      "Faulty Name: k\n",
      "Enter Direction(0 for Kaniyapuram/1 for Mangalapuram): 1\n",
      "Enter distance in km: 11\n",
      "Faulty Name: \n",
      "Route: Mangalapuram\n",
      "Eligible faculties are: ['k', 't', 'e', 'd']\n",
      "Total distance is:  28 km\n"
     ]
    }
   ],
   "source": [
    "m_names, m_dist, k_names, k_dist = [], [], [], []\n",
    "while True:\n",
    "    name = input(\"Faulty Name: \")\n",
    "    if name == \"\":\n",
    "        break\n",
    "    route = eval(input(\"Enter Direction(0 for Kaniyapuram/1 for Mangalapuram): \"))\n",
    "    dist = eval(input(\"Enter distance in km: \"))\n",
    "    if dist <= 20:\n",
    "        if route == 0:\n",
    "            k_names.append(name)\n",
    "            k_dist.append(dist)\n",
    "        else:\n",
    "            m_names.append(name)\n",
    "            m_dist.append(dist)\n",
    "combined_data_k = list(zip(k_dist, k_names))\n",
    "combined_data_m = list(zip(m_dist, m_names))\n",
    "combined_data_k.sort(reverse=True)\n",
    "combined_data_m.sort(reverse=True)\n",
    "trans_dist_k = 0\n",
    "trans_dist_m = 0\n",
    "K_1 = []\n",
    "K_N1 = []\n",
    "if len(combined_data_k) <= 4:\n",
    "    for i in range(len(combined_data_k)):\n",
    "        K_2 = combined_data_k[i][0]\n",
    "        K_N2 = combined_data_k[i][1]\n",
    "        K_1.append(K_2)\n",
    "        K_N1.append(K_N2)\n",
    "else:\n",
    "    for i in range(4):\n",
    "        K_2 = combined_data_k[i][0]\n",
    "        K_N2 = combined_data_k[i][1]\n",
    "        K_1.append(K_2)\n",
    "        K_N1.append(K_N2)\n",
    "trans_dist_k += trans_dist_k + sum(K_1)\n",
    "\n",
    "M_1 = []\n",
    "M_N1 = []\n",
    "if len(combined_data_m) <= 4:\n",
    "    for j in range(len(combined_data_m)):\n",
    "        M_2 = combined_data_m[j][0]\n",
    "        M_N2 = combined_data_m[j][1]\n",
    "        M_1.append(M_2)\n",
    "        M_N1.append(M_N2)\n",
    "else:\n",
    "    for j in range(4):\n",
    "        M_2 = combined_data_m[j][0]\n",
    "        M_N2 = combined_data_m[j][1]\n",
    "        M_1.append(M_2)\n",
    "        M_N1.append(M_N2)\n",
    "trans_dist_m += trans_dist_m + sum(M_1)\n",
    "\n",
    "if trans_dist_k > trans_dist_m:\n",
    "    print(\"Route: Kaniyapuram\")\n",
    "    print(\"Eligible faculties are:\", K_N1)\n",
    "    print(\"Total distance is: \", trans_dist_k, \"km\")\n",
    "else:\n",
    "    print(\"Route: Mangalapuram\")\n",
    "    print(\"Eligible faculties are:\", M_N1)\n",
    "    print(\"Total distance is: \", trans_dist_m, \"km\")"
   ]
  },
  {
   "cell_type": "code",
   "execution_count": 158,
   "id": "39e4b0c4",
   "metadata": {},
   "outputs": [
    {
     "name": "stdout",
     "output_type": "stream",
     "text": [
      "1 * 5 = 5\n",
      "2 * 5 = 10\n",
      "3 * 5 = 15\n",
      "4 * 5 = 20\n",
      "5 * 5 = 25\n",
      "6 * 5 = 30\n",
      "7 * 5 = 35\n",
      "8 * 5 = 40\n",
      "9 * 5 = 45\n",
      "10 * 5 = 50\n"
     ]
    }
   ],
   "source": [
    "n=5\n",
    "for i in range(1,11):\n",
    "    s=i*n\n",
    "    print(i,'*',n,'=',s)"
   ]
  },
  {
   "cell_type": "code",
   "execution_count": 159,
   "id": "ac883b81",
   "metadata": {},
   "outputs": [
    {
     "name": "stdout",
     "output_type": "stream",
     "text": [
      "enter 1 number:44\n",
      "enter 2 number:33\n",
      "gcd: 11\n"
     ]
    }
   ],
   "source": [
    "#gcd\n",
    "a=int(input('enter 1 number:'))\n",
    "b=int(input('enter 2 number:'))\n",
    "while b!=0:\n",
    "    r=a%b\n",
    "    a=b\n",
    "    b=r\n",
    "    \n",
    "print('gcd:',a)"
   ]
  },
  {
   "cell_type": "code",
   "execution_count": 161,
   "id": "5863c497",
   "metadata": {},
   "outputs": [
    {
     "name": "stdout",
     "output_type": "stream",
     "text": [
      "1\n",
      "1\n",
      "2\n",
      "4\n",
      "8\n"
     ]
    }
   ],
   "source": [
    "#fibanacci\n",
    "\n",
    "n=10\n",
    "a,b=1,1\n",
    "while a<n:\n",
    "    print(a)\n",
    "    a=b\n",
    "    b=a+b\n",
    "    "
   ]
  },
  {
   "cell_type": "code",
   "execution_count": 162,
   "id": "da87f4c6",
   "metadata": {},
   "outputs": [
    {
     "name": "stdout",
     "output_type": "stream",
     "text": [
      "enter the condition(1.fahreheit/2.celcius):1\n",
      "enter the celcius:12\n",
      "fahrenheit: 53.6\n"
     ]
    }
   ],
   "source": [
    "#celcius or fahrenheit\n",
    "n=input('enter the condition(1.fahreheit/2.celcius):')\n",
    "if n==1:\n",
    "    f=int(input('enter the fahreheit:'))\n",
    "    c=(f-32)*(5/9)\n",
    "    print('celcius:',c)\n",
    "    \n",
    "else:\n",
    "    c=int(input('enter the celcius:'))\n",
    "    f=(9/5)*c+32\n",
    "    print('fahrenheit:',f)"
   ]
  },
  {
   "cell_type": "code",
   "execution_count": 164,
   "id": "203c8efa",
   "metadata": {},
   "outputs": [
    {
     "name": "stdout",
     "output_type": "stream",
     "text": [
      "enter the number:5\n",
      "120\n"
     ]
    }
   ],
   "source": [
    "# factorial\n",
    "n=int(input('enter the number:'))\n",
    "fact=1\n",
    "for i in range(1,n+1):\n",
    "    fact=fact*i\n",
    "print(fact)"
   ]
  },
  {
   "cell_type": "code",
   "execution_count": 166,
   "id": "94ef56ea",
   "metadata": {},
   "outputs": [
    {
     "name": "stdout",
     "output_type": "stream",
     "text": [
      "enter the year:2024\n",
      "it is leap year\n"
     ]
    }
   ],
   "source": [
    "# leap year\n",
    "n=int(input('enter the year:'))\n",
    "if (n%4==0 and n%100!=0 or n%400==0):\n",
    "    print('it is leap year')\n",
    "    \n",
    "else:\n",
    "    print('not leap year')"
   ]
  },
  {
   "cell_type": "code",
   "execution_count": 173,
   "id": "4d925ff9",
   "metadata": {},
   "outputs": [
    {
     "name": "stdout",
     "output_type": "stream",
     "text": [
      "1904,1908,1912,1916,1920,1924,1928,1932,1936,1940,1944,1948,1952,1956,1960,1964,1968,1972,1976,1980,1984,1988,1992,1996,"
     ]
    }
   ],
   "source": [
    "for i in range(1900,2000):\n",
    "    if (i%4==0 and i%100!=0 or i%400==0):\n",
    "        print(i,end=',')\n",
    "    "
   ]
  },
  {
   "cell_type": "code",
   "execution_count": 174,
   "id": "6e8a4823",
   "metadata": {},
   "outputs": [
    {
     "data": {
      "text/plain": [
       "'palindrome'"
      ]
     },
     "execution_count": 174,
     "metadata": {},
     "output_type": "execute_result"
    }
   ],
   "source": [
    "# palindrome\n",
    "\n",
    "def palindrome(n):\n",
    "    left=0\n",
    "    rev=len(n)-1\n",
    "    while (left <= rev):\n",
    "        if(n[left]!=n[rev]):\n",
    "            return 'not palindrome'\n",
    "        left+=1\n",
    "        rev-=1\n",
    "    return 'palindrome'\n",
    "\n",
    "palindrome('malayalam')"
   ]
  },
  {
   "cell_type": "code",
   "execution_count": 177,
   "id": "be9cb564",
   "metadata": {},
   "outputs": [
    {
     "name": "stdout",
     "output_type": "stream",
     "text": [
      "enter the number:10\n",
      "2\n",
      "3\n",
      "5\n",
      "7\n"
     ]
    }
   ],
   "source": [
    "# prime or not\n",
    "n=int(input('enter the number:'))\n",
    "for i in range(1,n):\n",
    "    if i>1:\n",
    "        for j in range(2,i):\n",
    "            if i%j==0:\n",
    "                break\n",
    "        else:\n",
    "            print(i)"
   ]
  },
  {
   "cell_type": "code",
   "execution_count": 187,
   "id": "9ed29b32",
   "metadata": {},
   "outputs": [],
   "source": [
    "def prime(n):\n",
    "    s=0\n",
    "    if n==1:\n",
    "        print('not prime')\n",
    "    else:\n",
    "        for i in range(2,n):\n",
    "            if (n%i==0):\n",
    "                s+=1\n",
    "                break\n",
    "        if(s!=0):\n",
    "            print('not prime')\n",
    "        else:\n",
    "            print('prime')"
   ]
  },
  {
   "cell_type": "code",
   "execution_count": 189,
   "id": "8e00aa23",
   "metadata": {},
   "outputs": [
    {
     "name": "stdout",
     "output_type": "stream",
     "text": [
      "not prime\n"
     ]
    }
   ],
   "source": [
    "prime(4)"
   ]
  },
  {
   "cell_type": "code",
   "execution_count": 195,
   "id": "2e8f1a04",
   "metadata": {},
   "outputs": [
    {
     "name": "stdout",
     "output_type": "stream",
     "text": [
      "enter the target number:33\n",
      "enter the guess number:44\n",
      "the gues number is greater than target number\n",
      "enter the guess number:55\n",
      "the gues number is greater than target number\n",
      "enter the guess number:23\n",
      "the guess number is less than targe number\n",
      "enter the guess number:33\n",
      "the guess number is correct to target number\n",
      "the number of attempts are: 4\n"
     ]
    }
   ],
   "source": [
    "# user guess\n",
    "def guessing():\n",
    "    target=int(input('enter the target number:'))\n",
    "    attempt=0\n",
    "    while True:\n",
    "        guess_num=int(input('enter the guess number:'))\n",
    "        attempt+=1\n",
    "        if guess_num==target:\n",
    "            print('the guess number is correct to target number')\n",
    "            break\n",
    "        elif(guess_num<target):\n",
    "            print('the guess number is less than targe number')\n",
    "        else:\n",
    "            print('the guess number is greater than target number')\n",
    "            \n",
    "    print('the number of attempts are:',attempt)\n",
    "            \n",
    "            \n",
    "guessing()"
   ]
  },
  {
   "cell_type": "code",
   "execution_count": 13,
   "id": "40270177",
   "metadata": {
    "scrolled": true
   },
   "outputs": [
    {
     "name": "stdout",
     "output_type": "stream",
     "text": [
      "1 a\n",
      "2 b\n",
      "3 c\n",
      "4 d\n",
      "5 e\n",
      "6 f\n",
      "7 g\n",
      "8 h\n",
      "9 i\n",
      "10 j\n",
      "11 k\n",
      "12 l\n",
      "13 m\n",
      "14 n\n",
      "15 o\n",
      "16 p\n",
      "17 q\n",
      "18 r\n",
      "19 s\n",
      "20 t\n",
      "21 u\n",
      "22 v\n",
      "23 w\n",
      "24 x\n",
      "25 y\n",
      "26 z\n"
     ]
    }
   ],
   "source": [
    "# index question\n",
    "s='1abcdefghijklmnopqrstuvwxyz'\n",
    "indices=[1,2,3,4,5,6,7,8,9,10,11,12,13,14,15,16,17,18,19,20,21,22,23,24,25,26]\n",
    "for i in indices:\n",
    "    print(i,s[i])\n"
   ]
  },
  {
   "cell_type": "code",
   "execution_count": null,
   "id": "ecc41a32",
   "metadata": {},
   "outputs": [],
   "source": [
    "37,38,39,40,45,135"
   ]
  },
  {
   "cell_type": "code",
   "execution_count": 23,
   "id": "31b62a56",
   "metadata": {},
   "outputs": [
    {
     "name": "stdout",
     "output_type": "stream",
     "text": [
      "Enter the limit: 6\n",
      "Enter number 1: 2\n",
      "Enter number 2: 3\n",
      "Enter number 3: -9\n",
      "Enter number 4: -7\n",
      "Enter number 5: 0\n",
      "Enter number 6: 66\n",
      "[2, 3, -9, -7, 0, 66]\n",
      "Positive numbers: [2, 3, 66]\n",
      "the count of positive numbers: 3\n",
      "Negative numbers: [-9, -7]\n",
      "the count of positive numbers: 2\n",
      "Number of zero numbers: 1\n"
     ]
    }
   ],
   "source": [
    "c = int(input('Enter the limit: '))\n",
    "n = []\n",
    "\n",
    "# Take input for the list\n",
    "for i in range(c):\n",
    "    num = int(input(f'Enter number {i + 1}: '))\n",
    "    n.append(num)\n",
    "\n",
    "print(n)\n",
    "\n",
    "# Initialize lists for positive and negative numbers\n",
    "positive_numbers = []\n",
    "negative_numbers = []\n",
    "\n",
    "# Count zero values\n",
    "zero = 0\n",
    "\n",
    "# Separate positive, negative, and zero values\n",
    "for num in n:\n",
    "    if num > 0:\n",
    "        positive_numbers.append(num)\n",
    "    elif num < 0:\n",
    "        negative_numbers.append(num)\n",
    "    else:\n",
    "        zero += 1\n",
    "\n",
    "print(f\"Positive numbers: {positive_numbers}\")\n",
    "print('the count of positive numbers:',len(positive_numbers))\n",
    "print(f\"Negative numbers: {negative_numbers}\")\n",
    "print('the count of positive numbers:',len(negative_numbers))\n",
    "print(f\"Number of zero numbers: {zero}\")\n"
   ]
  },
  {
   "cell_type": "code",
   "execution_count": 34,
   "id": "da5a94b7",
   "metadata": {},
   "outputs": [],
   "source": [
    "def number(n):\n",
    "    pos=[]\n",
    "    neg=[]\n",
    "    zero=0\n",
    "    for num in n:\n",
    "        if num>0:\n",
    "            pos.append(num)\n",
    "        elif num<0:\n",
    "            neg.append(num)\n",
    "        else:\n",
    "            zero+=1\n",
    "            \n",
    "    print('positive numbers:',pos)\n",
    "    print('count of positive number',len(pos))\n",
    "    print('negative numbers:',neg)\n",
    "    print('count of positive number',len(neg))\n",
    "    print('zero numbers count:',zero)"
   ]
  },
  {
   "cell_type": "code",
   "execution_count": 35,
   "id": "2bc72cc2",
   "metadata": {},
   "outputs": [
    {
     "name": "stdout",
     "output_type": "stream",
     "text": [
      "positive numbers: [2, 3, 4, 77]\n",
      "count of positive number 4\n",
      "negative numbers: [-5, -55, -33]\n",
      "count of positive number 3\n",
      "zero numbers count: 1\n"
     ]
    }
   ],
   "source": [
    "number(n=[2,3,4,-5,-55,0,-33,77])"
   ]
  },
  {
   "cell_type": "code",
   "execution_count": 53,
   "id": "ea14aef8",
   "metadata": {},
   "outputs": [
    {
     "name": "stdout",
     "output_type": "stream",
     "text": [
      "        * \n",
      "      * * \n",
      "    * * * \n",
      "  * * * * \n",
      "* * * * * \n"
     ]
    }
   ],
   "source": [
    "for i in range(1,6):\n",
    "    for j in range(5,i,-1):\n",
    "        print(' ',end=' ')\n",
    "    for k in range(1,i+1):\n",
    "        print('*',end=' ')\n",
    "    print()"
   ]
  },
  {
   "cell_type": "code",
   "execution_count": 36,
   "id": "74df0e3e",
   "metadata": {},
   "outputs": [
    {
     "name": "stdout",
     "output_type": "stream",
     "text": [
      "        1 \n",
      "      1 2 \n",
      "    1 2 3 \n",
      "  1 2 3 4 \n",
      "1 2 3 4 5 \n"
     ]
    }
   ],
   "source": [
    "for i in range(1,6):\n",
    "    for j in range(5,i,-1):\n",
    "        print(' ',end=' ')\n",
    "    for k in range(1,i+1):\n",
    "        print(k,end=' ')\n",
    "    print()"
   ]
  },
  {
   "cell_type": "code",
   "execution_count": 37,
   "id": "9917a466",
   "metadata": {},
   "outputs": [
    {
     "name": "stdout",
     "output_type": "stream",
     "text": [
      "        1 \n",
      "      2 1 \n",
      "    3 2 1 \n",
      "  4 3 2 1 \n",
      "5 4 3 2 1 \n"
     ]
    }
   ],
   "source": [
    "for i in range(1,6):\n",
    "    for j in range(5,i,-1):\n",
    "        print(' ',end=' ')\n",
    "    for k in range(i,0,-1):\n",
    "        print(k,end=' ')\n",
    "    print()"
   ]
  },
  {
   "cell_type": "code",
   "execution_count": 54,
   "id": "a7863d04",
   "metadata": {},
   "outputs": [
    {
     "name": "stdout",
     "output_type": "stream",
     "text": [
      "* \n",
      "* * \n",
      "* * * \n",
      "* * * * \n",
      "* * * * * \n"
     ]
    }
   ],
   "source": [
    "for i in range(1,6):\n",
    "    for j in range(5,i):\n",
    "        print('',end=' ')\n",
    "    for k in range(1,i+1):\n",
    "        print('*',end=' ')\n",
    "    print()"
   ]
  },
  {
   "cell_type": "code",
   "execution_count": 39,
   "id": "222147e8",
   "metadata": {},
   "outputs": [
    {
     "name": "stdout",
     "output_type": "stream",
     "text": [
      "1 \n",
      "1 2 \n",
      "1 2 3 \n",
      "1 2 3 4 \n",
      "1 2 3 4 5 \n"
     ]
    }
   ],
   "source": [
    "for i in range(1,6):\n",
    "    for j in range(5,i):\n",
    "        print(' ',end=' ')\n",
    "    for k in range(1,i+1):\n",
    "        print(k,end=' ')\n",
    "    print()"
   ]
  },
  {
   "cell_type": "code",
   "execution_count": 40,
   "id": "8e613263",
   "metadata": {},
   "outputs": [
    {
     "name": "stdout",
     "output_type": "stream",
     "text": [
      "1 \n",
      "2 1 \n",
      "3 2 1 \n",
      "4 3 2 1 \n",
      "5 4 3 2 1 \n"
     ]
    }
   ],
   "source": [
    "for i in range(1,6):\n",
    "    for j in range(5,i):\n",
    "        print(' ',end=' ')\n",
    "    for k in range(i,0,-1):\n",
    "        print(k,end=' ')\n",
    "    print()"
   ]
  },
  {
   "cell_type": "code",
   "execution_count": 58,
   "id": "edbdcadf",
   "metadata": {},
   "outputs": [
    {
     "name": "stdout",
     "output_type": "stream",
     "text": [
      "1 \n",
      "2 3 \n",
      "4 5 6 \n",
      "7 8 9 10 \n",
      "11 12 13 14 15 \n"
     ]
    }
   ],
   "source": [
    "n=1\n",
    "for i in range(1,6):\n",
    "    for j in range(1,i+1):\n",
    "        print(n,end=' ')\n",
    "        n+=1\n",
    "    print()"
   ]
  },
  {
   "cell_type": "code",
   "execution_count": 57,
   "id": "30230654",
   "metadata": {},
   "outputs": [
    {
     "name": "stdout",
     "output_type": "stream",
     "text": [
      "        * \n",
      "      * * * \n",
      "    * * * * * \n",
      "  * * * * * * * \n",
      "* * * * * * * * * \n"
     ]
    }
   ],
   "source": [
    "for i in range(1,6):\n",
    "    for j in range(5,i,-1):\n",
    "        print(' ',end=' ')\n",
    "    for k in range(1,i+1):\n",
    "        print('*',end=' ')\n",
    "    for m in range(i-1,0,-1):\n",
    "        print('*',end=' ')\n",
    "    print()"
   ]
  },
  {
   "cell_type": "code",
   "execution_count": 41,
   "id": "7eff80b6",
   "metadata": {},
   "outputs": [
    {
     "name": "stdout",
     "output_type": "stream",
     "text": [
      "        1 \n",
      "      1 2 1 \n",
      "    1 2 3 2 1 \n",
      "  1 2 3 4 3 2 1 \n",
      "1 2 3 4 5 4 3 2 1 \n"
     ]
    }
   ],
   "source": [
    "for i in range(1,6):\n",
    "    for j in range(5,i,-1):\n",
    "        print(' ',end=' ')\n",
    "    for k in range(1,i+1):\n",
    "        print(k,end=' ')\n",
    "    for m in range(i-1,0,-1):\n",
    "        print(m,end=' ')\n",
    "    print()"
   ]
  },
  {
   "cell_type": "code",
   "execution_count": 52,
   "id": "71feac28",
   "metadata": {},
   "outputs": [
    {
     "name": "stdout",
     "output_type": "stream",
     "text": [
      "        1 \n",
      "      2 1 2 \n",
      "    3 2 1 2 3 \n",
      "  4 3 2 1 2 3 4 \n",
      "5 4 3 2 1 2 3 4 5 \n"
     ]
    }
   ],
   "source": [
    "for i in range(1,6):\n",
    "    for j in range(5,i,-1):\n",
    "        print(' ',end=' ')\n",
    "    for k in range(i,0,-1):\n",
    "        print(k,end=' ')\n",
    "    for m in range(2,i+1):\n",
    "        print(m,end=' ')\n",
    "    print()"
   ]
  },
  {
   "cell_type": "code",
   "execution_count": 65,
   "id": "f93a36e5",
   "metadata": {},
   "outputs": [
    {
     "name": "stdout",
     "output_type": "stream",
     "text": [
      "1 + 11 + 111 + 1111 + = 1234  "
     ]
    }
   ],
   "source": [
    "n=5\n",
    "d=0\n",
    "s=0\n",
    "for i in range(1,n):\n",
    "    d=d*10+1\n",
    "    s+=d\n",
    "    print(d,end=' + ')\n",
    "print('=',s,end='  ')"
   ]
  },
  {
   "cell_type": "code",
   "execution_count": 81,
   "id": "feda2faa",
   "metadata": {},
   "outputs": [
    {
     "name": "stdout",
     "output_type": "stream",
     "text": [
      "@ \\\n",
      "@ > \\\n",
      "@ > > \\\n",
      "@ > > > \\\n",
      "@ > > > > \\\n",
      "@ > > > > > \\\n"
     ]
    }
   ],
   "source": [
    "n=6\n",
    "for i in range(0,n):\n",
    "    print('@',end=' ')\n",
    "    for j in range(0,i):\n",
    "        print('>',end=' ')\n",
    "    print('\\\\')"
   ]
  },
  {
   "cell_type": "code",
   "execution_count": 95,
   "id": "a505d935",
   "metadata": {},
   "outputs": [
    {
     "name": "stdout",
     "output_type": "stream",
     "text": [
      "x x x x x x x x x x \n",
      "x 0 0 0 0 0 0 0 0 x \n",
      "x 0 x x x x x x 0 x \n",
      "x 0 x         x 0 x \n",
      "x 0 x         x 0 x \n",
      "x 0 x         x 0 x \n",
      "x 0 x         x 0 x \n",
      "x 0 x x x x x x 0 x \n",
      "x 0 0 0 0 0 0 0 0 x \n",
      "x x x x x x x x x x \n"
     ]
    }
   ],
   "source": [
    "n=10\n",
    "for i in range(0,n):\n",
    "    for j in range(0,n):\n",
    "        if (i==0 or i==n-1) or (j==0 or j==n-1):\n",
    "            print('x',end=' ')\n",
    "        elif(i==1 or i==n-2) or (j==1 or j==n-2):\n",
    "            print('0',end=' ')\n",
    "        elif(i==2 or i==n-3) or (j==2 or j==n-3):\n",
    "            print('x',end=' ')\n",
    "        else:\n",
    "            print(' ',end=' ')\n",
    "    print()"
   ]
  },
  {
   "cell_type": "code",
   "execution_count": 135,
   "id": "ffdca2ba",
   "metadata": {},
   "outputs": [],
   "source": [
    "# password checking\n",
    "def strong_password(password):\n",
    "    min_letter=8\n",
    "    uppercase=False\n",
    "    lowercase=False\n",
    "    digits=False\n",
    "    special_char=False\n",
    "    \n",
    "    for i in password:\n",
    "        if i.isupper():\n",
    "            uppercase=True\n",
    "        elif i.islower():\n",
    "            lowercase=True\n",
    "        elif i.isdigit():\n",
    "            digits=True\n",
    "        else:\n",
    "            special_char=True\n",
    "            \n",
    "    if len(password)<min_letter:\n",
    "        return False\n",
    "    elif not(uppercase and lowercase and digits and special_char):\n",
    "        return False\n",
    "    else:\n",
    "        return True\n",
    "    "
   ]
  },
  {
   "cell_type": "code",
   "execution_count": 136,
   "id": "435036bf",
   "metadata": {},
   "outputs": [
    {
     "data": {
      "text/plain": [
       "True"
      ]
     },
     "execution_count": 136,
     "metadata": {},
     "output_type": "execute_result"
    }
   ],
   "source": [
    "strong_password(password='Anerer@005')"
   ]
  },
  {
   "cell_type": "code",
   "execution_count": 144,
   "id": "a30eaed1",
   "metadata": {},
   "outputs": [
    {
     "name": "stdout",
     "output_type": "stream",
     "text": [
      "welcome\n",
      "\n",
      " 1.deposit money\n",
      " 2.widrow money\n",
      " 3.balance checking\n",
      " 4. exit\n",
      "enter the choice:1\n",
      "enter the deposit amount:1220\n",
      "welcome\n",
      "\n",
      " 1.deposit money\n",
      " 2.widrow money\n",
      " 3.balance checking\n",
      " 4. exit\n",
      "enter the choice:2\n",
      "enter the widrow amount:7800\n",
      "welcome\n",
      "\n",
      " 1.deposit money\n",
      " 2.widrow money\n",
      " 3.balance checking\n",
      " 4. exit\n",
      "enter the choice:3\n",
      "the currect balance amount: 93420\n",
      "welcome\n",
      "\n",
      " 1.deposit money\n",
      " 2.widrow money\n",
      " 3.balance checking\n",
      " 4. exit\n",
      "enter the choice:5\n",
      "invalid entry please try again\n",
      "welcome\n",
      "\n",
      " 1.deposit money\n",
      " 2.widrow money\n",
      " 3.balance checking\n",
      " 4. exit\n",
      "enter the choice:4\n",
      "thank you\n"
     ]
    }
   ],
   "source": [
    "# atm\n",
    "\n",
    "def atm():\n",
    "    balance=100000\n",
    "    while True:\n",
    "        print('welcome')\n",
    "        print('\\n 1.deposit money')\n",
    "        print(' 2.widrow money')\n",
    "        print(' 3.balance checking')\n",
    "        print(' 4. exit')\n",
    "    \n",
    "        choice=int(input('enter the choice:'))\n",
    "        if choice==1:\n",
    "            deposit=int(input('enter the deposit amount:'))\n",
    "            balance+=deposit\n",
    "        elif choice==2:\n",
    "            widrow=int(input('enter the widrow amount:'))\n",
    "            if widrow>balance:\n",
    "                print('its not possible to work')\n",
    "            else:\n",
    "                balance-=widrow\n",
    "        elif choice==3:\n",
    "            print('the currect balance amount:',balance)\n",
    "        elif choice==4:\n",
    "            print('thank you')\n",
    "            break\n",
    "        else:\n",
    "            print('invalid entry please try again')\n",
    "            \n",
    "atm()"
   ]
  },
  {
   "cell_type": "code",
   "execution_count": 148,
   "id": "1faf8d82",
   "metadata": {},
   "outputs": [
    {
     "name": "stdout",
     "output_type": "stream",
     "text": [
      "1.the detail of personalized house sign\n",
      "2. exit\n",
      "enter the choice(1/2):1\n",
      "enter the order number of the customer:1\n",
      "enter the customer name:w\n",
      "enter the wood type(oak/pine/anthing):oak\n",
      "enter the number of characters:5\n",
      "enter the colour of characters(black/white/gold_leaf):black\n",
      "the total amount is: 30\n",
      "1.the detail of personalized house sign\n",
      "2. exit\n",
      "enter the choice(1/2):2\n",
      "thank you\n"
     ]
    }
   ],
   "source": [
    "while True:\n",
    "    print('1.the detail of personalized house sign')\n",
    "    print('2. exit')\n",
    "    choice=int(input('enter the choice(1/2):'))\n",
    "    if choice==1:\n",
    "           \n",
    "        min_charge=30\n",
    "        order_number=int(input('enter the order number of the customer:'))\n",
    "        customer_name=input('enter the customer name:')\n",
    "        sign=input('enter the wood type(oak/pine/anthing):')\n",
    "        num_character=int(input('enter the number of characters:'))\n",
    "        colour=input('enter the colour of characters(black/white/gold_leaf):')\n",
    "        \n",
    "        \n",
    "        if sign=='oak':\n",
    "            charge=min_charge+15\n",
    "        else:\n",
    "            charge=min_charge\n",
    "    \n",
    "        if (num_character)>6:\n",
    "            charge+= (num_character-6)*3\n",
    "    \n",
    "        if colour=='gold_leaf':\n",
    "            charge+=12\n",
    "        else:\n",
    "            charge=min_charge\n",
    "    \n",
    "\n",
    "        print('the total amount is:',charge)\n",
    "    elif (choice==2):\n",
    "        print('thank you')\n",
    "        break\n",
    "    else:\n",
    "        print('invalid option')\n",
    "\n"
   ]
  },
  {
   "cell_type": "code",
   "execution_count": 151,
   "id": "fe754741",
   "metadata": {},
   "outputs": [
    {
     "name": "stdout",
     "output_type": "stream",
     "text": [
      "1.the details of the name plate\n",
      "2. exit\n",
      "enter the choice:1\n",
      "enter the sign is(0.plastic/1.wood/2.metal):1\n",
      "enter the letter type is (1.normal/2.gold_leaf):2\n",
      "enter the name:sdggdf\n",
      "the amount for this name plate preparation: 4250\n",
      "1.the details of the name plate\n",
      "2. exit\n",
      "enter the choice:2\n",
      "exit\n"
     ]
    }
   ],
   "source": [
    "def nameplate():\n",
    "    while True:\n",
    "        print('1.the details of the name plate')\n",
    "        print('2. exit')\n",
    "    \n",
    "        min_charge=2500\n",
    "        choice=int(input('enter the choice:'))\n",
    "        if choice==1:\n",
    "            sign=int(input('enter the sign is(0.plastic/1.wood/2.metal):'))\n",
    "            letter=int(input('enter the letter type is (1.normal/2.gold_leaf):'))\n",
    "            name=input('enter the name:')\n",
    "            if sign==1:\n",
    "                charge=min_charge+1000\n",
    "            elif sign==2:\n",
    "                charge=min_charge+500\n",
    "            else:\n",
    "                charge=min_charge\n",
    "            \n",
    "            if letter==2:\n",
    "                charge+=750\n",
    "            else:\n",
    "                charge=min_charge\n",
    "            \n",
    "            if len(name)>6:\n",
    "                n=(len(name)-6)*200\n",
    "                charge+=n\n",
    "            \n",
    "            print('the amount for this name plate preparation:',charge)\n",
    "        \n",
    "        elif choice==2:\n",
    "            print('exit')\n",
    "            break\n",
    "        else:\n",
    "            print('invalid option')\n",
    "            \n",
    "nameplate()"
   ]
  },
  {
   "cell_type": "code",
   "execution_count": 159,
   "id": "1e77f126",
   "metadata": {},
   "outputs": [],
   "source": [
    "def word(text):\n",
    "    dicts={}\n",
    "    words=text.split()\n",
    "    \n",
    "    for i in words:\n",
    "        i=i.lower()\n",
    "        if i in dicts:\n",
    "            dicts[i]+=1\n",
    "        else:\n",
    "            dicts[i]=1\n",
    "    return dicts\n",
    "        \n",
    "    "
   ]
  },
  {
   "cell_type": "code",
   "execution_count": 162,
   "id": "2cb8eb26",
   "metadata": {},
   "outputs": [
    {
     "data": {
      "text/plain": [
       "{'fjf': 1,\n",
       " 'r': 2,\n",
       " 'i': 3,\n",
       " 'jtn': 1,\n",
       " 're': 2,\n",
       " 'tnjj': 1,\n",
       " 'gi': 1,\n",
       " 'ditn': 1,\n",
       " 'jev': 1,\n",
       " 'tirji': 1,\n",
       " 'ei': 2}"
      ]
     },
     "execution_count": 162,
     "metadata": {},
     "output_type": "execute_result"
    }
   ],
   "source": [
    "word('fjf r r i jtn i re i tnjj re gi ditn jev tirji ei ei')"
   ]
  },
  {
   "cell_type": "code",
   "execution_count": 163,
   "id": "bbe5507d",
   "metadata": {},
   "outputs": [],
   "source": [
    "def stati(score):\n",
    "    avg=sum(score)/len(score)\n",
    "    larg=max(score)\n",
    "    small=min(score)\n",
    "    print('average:',avg)\n",
    "    print('largest number:',larg)\n",
    "    print('smallest number:',small)"
   ]
  },
  {
   "cell_type": "code",
   "execution_count": 164,
   "id": "77e0a724",
   "metadata": {},
   "outputs": [
    {
     "name": "stdout",
     "output_type": "stream",
     "text": [
      "average: 103.22222222222223\n",
      "largest number: 445\n",
      "smallest number: -44\n"
     ]
    }
   ],
   "source": [
    "stati(score=[2,-1,22,33,432,445,3,41-4,-44])"
   ]
  },
  {
   "cell_type": "code",
   "execution_count": 202,
   "id": "f1423d9d",
   "metadata": {},
   "outputs": [
    {
     "name": "stdout",
     "output_type": "stream",
     "text": [
      "enter the letter:e\n",
      "the e is the letter of position is 4\n"
     ]
    }
   ],
   "source": [
    "\n",
    "n=['a','b','c','d','e','f','g','h','i','j','k','l','m','n','o','p','q','r','s','t','u','v','w','x','y','z']\n",
    "s_n=input('enter the letter:')\n",
    "p=-1\n",
    "\n",
    "for i,num in enumerate(n):\n",
    "    if num==s_n:\n",
    "        p=i\n",
    "        break\n",
    "if p!=-1:\n",
    "    print(f'the {s_n} is the letter of position is {p}')\n",
    "else:\n",
    "    print(f'the {s_n} is not in the list')"
   ]
  },
  {
   "cell_type": "code",
   "execution_count": 198,
   "id": "4c67d004",
   "metadata": {},
   "outputs": [
    {
     "name": "stdout",
     "output_type": "stream",
     "text": [
      "Enter a number to search for: 2\n",
      "The number 2 is not present in the list.\n"
     ]
    }
   ],
   "source": [
    "\n",
    "numbers = [10, 20, 30, 40, 50]\n",
    "\n",
    "search_number = int(input(\"Enter a number to search for: \"))\n",
    "\n",
    "position = -1  \n",
    "\n",
    "\n",
    "for i, num in enumerate(numbers):\n",
    "    if num == search_number:\n",
    "        position = i\n",
    "        break\n",
    "\n",
    "if position != -1:\n",
    "    print(f\"The number {search_number} is present at position {position}.\")\n",
    "else:\n",
    "    print(f\"The number {search_number} is not present in the list.\")"
   ]
  },
  {
   "cell_type": "code",
   "execution_count": null,
   "id": "12e318dd",
   "metadata": {},
   "outputs": [],
   "source": []
  }
 ],
 "metadata": {
  "kernelspec": {
   "display_name": "Python 3",
   "language": "python",
   "name": "python3"
  },
  "language_info": {
   "codemirror_mode": {
    "name": "ipython",
    "version": 3
   },
   "file_extension": ".py",
   "mimetype": "text/x-python",
   "name": "python",
   "nbconvert_exporter": "python",
   "pygments_lexer": "ipython3",
   "version": "3.9.11"
  }
 },
 "nbformat": 4,
 "nbformat_minor": 5
}
